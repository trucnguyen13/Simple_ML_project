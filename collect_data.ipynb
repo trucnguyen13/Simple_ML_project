{
 "metadata": {
  "language_info": {
   "codemirror_mode": {
    "name": "ipython",
    "version": 3
   },
   "file_extension": ".py",
   "mimetype": "text/x-python",
   "name": "python",
   "nbconvert_exporter": "python",
   "pygments_lexer": "ipython3",
   "version": 3
  },
  "orig_nbformat": 2
 },
 "nbformat": 4,
 "nbformat_minor": 2,
 "cells": [
  {
   "source": [
    "# Thu thập dữ liệu"
   ],
   "cell_type": "markdown",
   "metadata": {}
  },
  {
   "cell_type": "code",
   "execution_count": null,
   "metadata": {},
   "outputs": [],
   "source": [
    "import requests\n",
    "from bs4 import BeautifulSoup"
   ]
  },
  {
   "source": [
    "## Get tất cả các link laptop"
   ],
   "cell_type": "markdown",
   "metadata": {}
  },
  {
   "cell_type": "code",
   "execution_count": null,
   "metadata": {},
   "outputs": [],
   "source": [
    "all_brands_links = [\n",
    "    'https://phongvu.vn/laptop-asus-1058.cat?pv_source=homepage&pv_medium=de-megamenu-text&page=',\n",
    "    'https://phongvu.vn/laptop-acer-1059.cat?pv_source=homepage&pv_medium=de-megamenu-text&page=',\n",
    "    'https://phongvu.vn/laptop-Dell-1056.cat?pv_source=homepage&pv_medium=de-megamenu-text&page=',\n",
    "    'https://phongvu.vn/macbook-1061.cat?pv_source=homepage&pv_medium=de-megamenu-text&page=',\n",
    "    'https://phongvu.vn/laptop-hp-1057.cat?pv_source=homepage&pv_medium=de-megamenu-text&page=',\n",
    "    'https://phongvu.vn/laptop-lenovo-1060.cat?pv_source=homepage&pv_medium=de-megamenu-text&page=',\n",
    "    'https://phongvu.vn/laptop-lg-1268.cat?pv_source=homepage&pv_medium=de-megamenu-text&page=',\n",
    "    'https://phongvu.vn/laptop-msi-1081.cat?pv_source=homepage&pv_medium=de-megamenu-text&page='\n",
    "]\n",
    "\n",
    "items = [] # danh sách các link laptop\n",
    "\n",
    "# parse để lấy link\n",
    "for brand in all_brands_links:\n",
    "    for page in range(1, 50):\n",
    "        pv_laptop_url = brand + str(page)\n",
    "        while True:\n",
    "            try:\n",
    "                html_text = requests.get(pv_laptop_url).text\n",
    "                break\n",
    "            except:\n",
    "                continue\n",
    "        tree = BeautifulSoup(html_text, 'html.parser')\n",
    "        found = tree.find_all('a', {'class': 'css-1rhapru'})\n",
    "        if len(found) == 0:\n",
    "            break\n",
    "        items = items + found\n",
    "    print(brand)"
   ]
  },
  {
   "cell_type": "code",
   "execution_count": null,
   "metadata": {},
   "outputs": [],
   "source": [
    "len(items)"
   ]
  },
  {
   "source": [
    "Tổng cộng get được 794 link laptop."
   ],
   "cell_type": "markdown",
   "metadata": {}
  },
  {
   "cell_type": "code",
   "execution_count": null,
   "metadata": {},
   "outputs": [],
   "source": [
    "# xem qua các link\n",
    "for item in items[:5]:\n",
    "    print(item['href'])"
   ]
  },
  {
   "cell_type": "code",
   "execution_count": null,
   "metadata": {},
   "outputs": [],
   "source": [
    "import csv"
   ]
  },
  {
   "source": [
    "## Parse từng link và ghi ra file csv\n",
    "\n",
    "File dữ liệu: `data.csv`"
   ],
   "cell_type": "markdown",
   "metadata": {}
  },
  {
   "cell_type": "code",
   "execution_count": null,
   "metadata": {},
   "outputs": [],
   "source": [
    "fields = {'Thương hiệu': 'Brand', 'Bảo hành': 'Warranty', 'Màu sắc': 'Color', 'Series laptop': 'SeriesLaptop', 'Part-number': 'PartNum', 'Thế hệ CPU': 'CPUgen', 'CPU': 'CPU', 'Chip đồ họa': 'GraphicChip', 'RAM': 'RAM', 'Màn hình': 'Screen', 'Lưu trữ': 'Storage', 'Số cổng lưu trữ tối đa': 'MaxStoPortNum', 'Kiểu khe M.2 hỗ trợ': 'SupportM2', 'Cổng xuất hình': 'OutVideoPort', 'Cổng kết nối': 'ConnectPort', 'Kết nối không dây': 'Wireless', 'Bàn phím': 'Keyboard', 'Hệ điều hành': 'OS', 'Kích thước': 'Size', 'Pin': 'Pin', 'Khối lượng': 'Weight', 'Đèn LED trên máy': 'LED', 'Phụ kiện đi kèm': 'Accessories', 'Bảo mật': 'Security', 'Ổ đĩa quang': 'OptDrive', 'Tính năng': 'Feature'}\n",
    "\n",
    "fieldnames = ['SKU', 'Title', 'Price', 'Brand', 'Warranty', 'Color', 'SeriesLaptop', 'PartNum', 'CPUgen', 'CPU', 'GraphicChip', 'RAM', 'Screen', 'Storage', 'MaxStoPortNum', 'SupportM2', 'OutVideoPort', 'ConnectPort', 'Wireless', 'Keyboard', 'OS', 'Size', 'Pin', 'Weight', 'LED', 'Accessories', 'Security', 'OptDrive', 'Feature']"
   ]
  },
  {
   "cell_type": "code",
   "execution_count": null,
   "metadata": {},
   "outputs": [],
   "source": [
    "file = open('data.csv', 'w', encoding='utf-8')\n",
    "file_writer = csv.DictWriter(file, fieldnames=fieldnames)\n",
    "file_writer.writeheader()\n",
    "\n",
    "count = 0\n",
    "for item in items:\n",
    "    count += 1\n",
    "    url = 'https://phongvu.vn' + item['href']\n",
    "    while True:\n",
    "        try:\n",
    "            laptop_html_text = requests.get(url).text\n",
    "            break\n",
    "        except:\n",
    "            continue\n",
    "    laptop_html_tree = BeautifulSoup(laptop_html_text, 'html.parser')\n",
    "    title = laptop_html_tree.find('div', {'class': 'css-1jpdzyd'}).text\n",
    "    sku = laptop_html_tree.find('div', {'class': 'css-5nimvs'}).text.split(' ')[-1]\n",
    "    price = laptop_html_tree.find('span', {'class': 'css-3725in'}).text[:-1]\n",
    "    values = {'SKU': sku, 'Title': title, 'Price': price} \n",
    "    for i in laptop_html_tree.find_all('div', {'class': 'css-7j9rw7'}):\n",
    "        name = i.find('span', {'class': 'css-6z2lgz'}).text.strip(' ')\n",
    "        if name in fields:\n",
    "            values[fields[name]] = i.find('div', {'class': 'css-111s35w'}).text.strip(' ')\n",
    "    file_writer.writerow(values)\n",
    "    if count % 10 == 0:\n",
    "        print(count)\n",
    "file.close()"
   ]
  }
 ]
}