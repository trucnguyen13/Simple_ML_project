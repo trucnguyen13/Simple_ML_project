{
 "cells": [
  {
   "cell_type": "markdown",
   "metadata": {},
   "source": [
    "# Đồ án cuối kỳ NMKHDL"
   ]
  },
  {
   "source": [
    "Câu hỏi cần trả lời"
   ],
   "cell_type": "markdown",
   "metadata": {}
  },
  {
   "cell_type": "markdown",
   "metadata": {},
   "source": [
    "## Phần 1: Thu thập dữ liệu"
   ]
  },
  {
   "cell_type": "code",
   "execution_count": 2,
   "metadata": {},
   "outputs": [],
   "source": [
    "import requests\n",
    "from bs4 import BeautifulSoup"
   ]
  },
  {
   "cell_type": "markdown",
   "metadata": {},
   "source": [
    "### Get tất cả các link laptop"
   ]
  },
  {
   "cell_type": "code",
   "execution_count": 29,
   "metadata": {},
   "outputs": [
    {
     "output_type": "stream",
     "name": "stdout",
     "text": [
      "https://phongvu.vn/laptop-asus-1058.cat?pv_source=homepage&pv_medium=de-megamenu-text&page=\n",
      "https://phongvu.vn/laptop-acer-1059.cat?pv_source=homepage&pv_medium=de-megamenu-text&page=\n",
      "https://phongvu.vn/laptop-Dell-1056.cat?pv_source=homepage&pv_medium=de-megamenu-text&page=\n",
      "https://phongvu.vn/macbook-1061.cat?pv_source=homepage&pv_medium=de-megamenu-text&page=\n",
      "https://phongvu.vn/laptop-hp-1057.cat?pv_source=homepage&pv_medium=de-megamenu-text&page=\n",
      "https://phongvu.vn/laptop-lenovo-1060.cat?pv_source=homepage&pv_medium=de-megamenu-text&page=\n",
      "https://phongvu.vn/laptop-lg-1268.cat?pv_source=homepage&pv_medium=de-megamenu-text&page=\n",
      "https://phongvu.vn/laptop-msi-1081.cat?pv_source=homepage&pv_medium=de-megamenu-text&page=\n"
     ]
    }
   ],
   "source": [
    "all_brands_links = [\n",
    "    'https://phongvu.vn/laptop-asus-1058.cat?pv_source=homepage&pv_medium=de-megamenu-text&page=',\n",
    "    'https://phongvu.vn/laptop-acer-1059.cat?pv_source=homepage&pv_medium=de-megamenu-text&page=',\n",
    "    'https://phongvu.vn/laptop-Dell-1056.cat?pv_source=homepage&pv_medium=de-megamenu-text&page=',\n",
    "    'https://phongvu.vn/macbook-1061.cat?pv_source=homepage&pv_medium=de-megamenu-text&page=',\n",
    "    'https://phongvu.vn/laptop-hp-1057.cat?pv_source=homepage&pv_medium=de-megamenu-text&page=',\n",
    "    'https://phongvu.vn/laptop-lenovo-1060.cat?pv_source=homepage&pv_medium=de-megamenu-text&page=',\n",
    "    'https://phongvu.vn/laptop-lg-1268.cat?pv_source=homepage&pv_medium=de-megamenu-text&page=',\n",
    "    'https://phongvu.vn/laptop-msi-1081.cat?pv_source=homepage&pv_medium=de-megamenu-text&page='\n",
    "]\n",
    "\n",
    "items = [] # danh sách các link laptop\n",
    "\n",
    "# parse để lấy link\n",
    "for brand in all_brands_links:\n",
    "    for page in range(1, 50):\n",
    "        pv_laptop_url = brand + str(page)\n",
    "        while True:\n",
    "            try:\n",
    "                html_text = requests.get(pv_laptop_url).text\n",
    "                break\n",
    "            except:\n",
    "                continue\n",
    "        tree = BeautifulSoup(html_text, 'html.parser')\n",
    "        found = tree.find_all('a', {'class': 'css-1rhapru'})\n",
    "        if len(found) == 0:\n",
    "            break\n",
    "        items = items + found\n",
    "    print(brand)"
   ]
  },
  {
   "cell_type": "code",
   "execution_count": 30,
   "metadata": {},
   "outputs": [
    {
     "output_type": "execute_result",
     "data": {
      "text/plain": [
       "794"
      ]
     },
     "metadata": {},
     "execution_count": 30
    }
   ],
   "source": [
    "len(items)"
   ]
  },
  {
   "source": [
    "Tổng cộng get được 794 link laptop."
   ],
   "cell_type": "markdown",
   "metadata": {}
  },
  {
   "cell_type": "code",
   "execution_count": 31,
   "metadata": {
    "tags": []
   },
   "outputs": [
    {
     "output_type": "stream",
     "name": "stdout",
     "text": [
      "/may-tinh-xach-tay-laptop-asus-d509da-ej800t-amd-ryzen-3-3250u-bac-s200900077.html\n/may-tinh-xach-tay-laptop-asus-vivobook-flip-tm420ia-ec155-amd-ryzen-3-4300u-xam-s201104484.html\n/may-tinh-xach-tay-laptop-asus-tuf-gaming-fa506iial012t-amd-ryzen-5-4600h-xam-s200500682.html\n/may-tinh-xach-tay-laptop-asus-vivobook-x509ja-ej427t-i3-1005g1-bac-s201100788.html\n/may-tinh-xach-tay-laptop-asus-tuf-gaming-fx506li-hn039t-i5-10300h-xam-s201100021.html\n"
     ]
    }
   ],
   "source": [
    "# xem qua các link\n",
    "for item in items[:5]:\n",
    "    print(item['href'])"
   ]
  },
  {
   "cell_type": "code",
   "execution_count": 34,
   "metadata": {},
   "outputs": [],
   "source": [
    "import csv"
   ]
  },
  {
   "cell_type": "markdown",
   "metadata": {},
   "source": [
    "### Parse từng link và ghi ra file csv\n",
    "\n",
    "File dữ liệu: `data.csv`"
   ]
  },
  {
   "cell_type": "code",
   "execution_count": 35,
   "metadata": {},
   "outputs": [],
   "source": [
    "fields = {'Thương hiệu': 'Brand', 'Bảo hành': 'Warranty', 'Màu sắc': 'Color', 'Series laptop': 'SeriesLaptop', 'Part-number': 'PartNum', 'Thế hệ CPU': 'CPUgen', 'CPU': 'CPU', 'Chip đồ họa': 'GraphicChip', 'RAM': 'RAM', 'Màn hình': 'Screen', 'Lưu trữ': 'Storage', 'Số cổng lưu trữ tối đa': 'MaxStoPortNum', 'Kiểu khe M.2 hỗ trợ': 'SupportM2', 'Cổng xuất hình': 'OutVideoPort', 'Cổng kết nối': 'ConnectPort', 'Kết nối không dây': 'Wireless', 'Bàn phím': 'Keyboard', 'Hệ điều hành': 'OS', 'Kích thước': 'Size', 'Pin': 'Pin', 'Khối lượng': 'Weight', 'Đèn LED trên máy': 'LED', 'Phụ kiện đi kèm': 'Accessories', 'Bảo mật': 'Security', 'Ổ đĩa quang': 'OptDrive', 'Tính năng': 'Feature'}\n",
    "\n",
    "fieldnames = ['SKU', 'Title', 'Price', 'Brand', 'Warranty', 'Color', 'SeriesLaptop', 'PartNum', 'CPUgen', 'CPU', 'GraphicChip', 'RAM', 'Screen', 'Storage', 'MaxStoPortNum', 'SupportM2', 'OutVideoPort', 'ConnectPort', 'Wireless', 'Keyboard', 'OS', 'Size', 'Pin', 'Weight', 'LED', 'Accessories', 'Security', 'OptDrive', 'Feature']"
   ]
  },
  {
   "cell_type": "code",
   "execution_count": 36,
   "metadata": {},
   "outputs": [
    {
     "output_type": "stream",
     "name": "stdout",
     "text": [
      "10\n",
      "20\n",
      "30\n",
      "40\n",
      "50\n",
      "60\n",
      "70\n",
      "80\n",
      "90\n",
      "100\n",
      "110\n",
      "120\n",
      "130\n",
      "140\n",
      "150\n",
      "160\n",
      "170\n",
      "180\n",
      "190\n",
      "200\n",
      "210\n",
      "220\n",
      "230\n",
      "240\n",
      "250\n",
      "260\n",
      "270\n",
      "280\n",
      "290\n",
      "300\n",
      "310\n",
      "320\n",
      "330\n",
      "340\n",
      "350\n",
      "360\n",
      "370\n",
      "380\n",
      "390\n",
      "400\n",
      "410\n",
      "420\n",
      "430\n",
      "440\n",
      "450\n",
      "460\n",
      "470\n",
      "480\n",
      "490\n",
      "500\n",
      "510\n",
      "520\n",
      "530\n",
      "540\n",
      "550\n",
      "560\n",
      "570\n",
      "580\n",
      "590\n",
      "600\n",
      "610\n",
      "620\n",
      "630\n",
      "640\n",
      "650\n",
      "660\n",
      "670\n",
      "680\n",
      "690\n",
      "700\n",
      "710\n",
      "720\n",
      "730\n",
      "740\n",
      "750\n",
      "760\n",
      "770\n",
      "780\n",
      "790\n"
     ]
    }
   ],
   "source": [
    "file = open('data.csv', 'w', encoding='utf-8')\n",
    "file_writer = csv.DictWriter(file, fieldnames=fieldnames)\n",
    "file_writer.writeheader()\n",
    "\n",
    "count = 0\n",
    "for item in items:\n",
    "    count += 1\n",
    "    url = 'https://phongvu.vn' + item['href']\n",
    "    while True:\n",
    "        try:\n",
    "            laptop_html_text = requests.get(url).text\n",
    "            break\n",
    "        except:\n",
    "            continue\n",
    "    laptop_html_tree = BeautifulSoup(laptop_html_text, 'html.parser')\n",
    "    title = laptop_html_tree.find('div', {'class': 'css-1jpdzyd'}).text\n",
    "    sku = laptop_html_tree.find('div', {'class': 'css-5nimvs'}).text.split(' ')[-1]\n",
    "    price = laptop_html_tree.find('span', {'class': 'css-3725in'}).text[:-1]\n",
    "    values = {'SKU': sku, 'Title': title, 'Price': price} \n",
    "    for i in laptop_html_tree.find_all('div', {'class': 'css-7j9rw7'}):\n",
    "        name = i.find('span', {'class': 'css-6z2lgz'}).text.strip(' ')\n",
    "        if name in fields:\n",
    "            values[fields[name]] = i.find('div', {'class': 'css-111s35w'}).text.strip(' ')\n",
    "    file_writer.writerow(values)\n",
    "    if count % 10 == 0:\n",
    "        print(count)\n",
    "file.close()"
   ]
  },
  {
   "source": [
    "## Phần 2: Khám phá dữ liệu"
   ],
   "cell_type": "markdown",
   "metadata": {}
  },
  {
   "cell_type": "code",
   "execution_count": 1,
   "metadata": {},
   "outputs": [],
   "source": [
    "%matplotlib inline\n",
    "import matplotlib.pyplot as plt\n",
    "import seaborn as sns # seaborn là thư viện được xây trên matplotlib, giúp việc visualization đỡ khổ hơn\n",
    "import pandas as pd\n",
    "import numpy as np"
   ]
  },
  {
   "cell_type": "code",
   "execution_count": 9,
   "metadata": {},
   "outputs": [
    {
     "output_type": "execute_result",
     "data": {
      "text/plain": [
       "                                                       Title       Price  \\\n",
       "SKU                                                                        \n",
       "200900077  Laptop ASUS D509DA EJ800T ( 15.6\" Full HD/AMD ...  10.190.000   \n",
       "201104484  Laptop ASUS Vivobook Flip TM420IA EC155 ( 14\" ...  13.490.000   \n",
       "200500682  Laptop ASUS TUF Gaming FA506II AL012T ( 15.6\" ...  21.990.000   \n",
       "201100788  Laptop ASUS Vivobook X509JA EJ427T ( 15.6\" Ful...  11.190.000   \n",
       "201100021  Laptop ASUS TUF Gaming FX506LI HN039T ( 15.6\" ...  23.490.000   \n",
       "\n",
       "          Brand  Warranty Color SeriesLaptop PartNum  \\\n",
       "SKU                                                    \n",
       "200900077  ASUS        24   Bạc          NaN  EJ800T   \n",
       "201104484  ASUS        24  Xám     VivoBook   EC155   \n",
       "200500682  ASUS        24  Xám   TUF Gaming  AL012T   \n",
       "201100788  ASUS        24   Bạc     VivoBook  EJ427T   \n",
       "201100021  ASUS        24  Xám   TUF Gaming  HN039T   \n",
       "\n",
       "                                       CPUgen  \\\n",
       "SKU                                             \n",
       "200900077    Ryzen 3 , AMD Ryzen thế hệ thứ 3   \n",
       "201104484    Ryzen 3 , AMD Ryzen thế hệ thứ 3   \n",
       "200500682    Ryzen 5 , AMD Ryzen thế hệ thứ 4   \n",
       "201100788  Core i3 , Intel Core thế hệ thứ 10   \n",
       "201100021        Core i5 , Intel Celeron 1000   \n",
       "\n",
       "                                                         CPU  \\\n",
       "SKU                                                            \n",
       "200900077  AMD Ryzen 3 3250U ( 2.6 GHz - 3.5 GHz / 4MB / ...   \n",
       "201104484  AMD Ryzen 3 4300U ( 2.7 GHz - 3.7 GHz / 4MB / ...   \n",
       "200500682  AMD Ryzen 5 4600H ( 3.0 GHz - 4.0 GHz / 8MB / ...   \n",
       "201100788  Intel Core i3-1005G1 ( 1.2 GHz - 3.4 GHz / 4MB...   \n",
       "201100021  Intel Core i5-10300H ( 2.5 GHz - 4.5 GHz / 8MB...   \n",
       "\n",
       "                                                 GraphicChip  ...  \\\n",
       "SKU                                                           ...   \n",
       "200900077                                AMD Radeon Graphics  ...   \n",
       "201104484                                AMD Radeon Graphics  ...   \n",
       "200500682  NVIDIA GeForce GTX 1650Ti  4GB  GDDR6 / AMD Ra...  ...   \n",
       "201100788                                 Intel UHD Graphics  ...   \n",
       "201100021  NVIDIA GeForce GTX 1650Ti  4GB  GDDR6 / Intel ...  ...   \n",
       "\n",
       "                                       Keyboard                         OS  \\\n",
       "SKU                                                                          \n",
       "200900077  thường , có phím số , không đèn     Windows 10 Home 64-bit   \n",
       "201104484       thường , không phím số , LED     Windows 10 Home 64-bit   \n",
       "200500682         thường , có phím số , RGB  Windows 10 Home SL 64-bit   \n",
       "201100788  thường , có phím số , không đèn  Windows 10 Home SL 64-bit   \n",
       "201100021         thường , có phím số , RGB     Windows 10 Home 64-bit   \n",
       "\n",
       "                              Size                       Pin  Weight  \\\n",
       "SKU                                                                    \n",
       "200900077      36 x 23.5 x 2.29 cm          2 cell  Pin liền  1.9 kg   \n",
       "201104484      32.4 x 22 x 1.82 cm  3 cell  42 Wh , Pin liền  1.5 kg   \n",
       "200500682   35.98 x 25.6 x 2.28 cm  3 cell  48 Wh , Pin liền    2 kg   \n",
       "201100788  36.02 x 23.49 x 2.29 cm  2 cell  32 Wh , Pin liền  1.7 kg   \n",
       "201100021    35.9 x 25.6 x 2.47 cm  3 cell  48 Wh , Pin liền  2.3 kg   \n",
       "\n",
       "                  LED                         Accessories Security OptDrive  \\\n",
       "SKU                                                                           \n",
       "200900077  không đèn                                 NaN      NaN      NaN   \n",
       "201104484  không đèn                                 NaN      NaN      NaN   \n",
       "200500682  không đèn                                 NaN      NaN      NaN   \n",
       "201100788  không đèn                                 NaN  Vân tay      NaN   \n",
       "201100021  không đèn  Adapter, Sticker, Sách HDSD, Sổ BH      NaN      NaN   \n",
       "\n",
       "                                       Feature  \n",
       "SKU                                             \n",
       "200900077                                  NaN  \n",
       "201104484  Numberpad ảo tích hợp trên touchpad  \n",
       "200500682                                  NaN  \n",
       "201100788                                  NaN  \n",
       "201100021                                  NaN  \n",
       "\n",
       "[5 rows x 28 columns]"
      ],
      "text/html": "<div>\n<style scoped>\n    .dataframe tbody tr th:only-of-type {\n        vertical-align: middle;\n    }\n\n    .dataframe tbody tr th {\n        vertical-align: top;\n    }\n\n    .dataframe thead th {\n        text-align: right;\n    }\n</style>\n<table border=\"1\" class=\"dataframe\">\n  <thead>\n    <tr style=\"text-align: right;\">\n      <th></th>\n      <th>Title</th>\n      <th>Price</th>\n      <th>Brand</th>\n      <th>Warranty</th>\n      <th>Color</th>\n      <th>SeriesLaptop</th>\n      <th>PartNum</th>\n      <th>CPUgen</th>\n      <th>CPU</th>\n      <th>GraphicChip</th>\n      <th>...</th>\n      <th>Keyboard</th>\n      <th>OS</th>\n      <th>Size</th>\n      <th>Pin</th>\n      <th>Weight</th>\n      <th>LED</th>\n      <th>Accessories</th>\n      <th>Security</th>\n      <th>OptDrive</th>\n      <th>Feature</th>\n    </tr>\n    <tr>\n      <th>SKU</th>\n      <th></th>\n      <th></th>\n      <th></th>\n      <th></th>\n      <th></th>\n      <th></th>\n      <th></th>\n      <th></th>\n      <th></th>\n      <th></th>\n      <th></th>\n      <th></th>\n      <th></th>\n      <th></th>\n      <th></th>\n      <th></th>\n      <th></th>\n      <th></th>\n      <th></th>\n      <th></th>\n      <th></th>\n    </tr>\n  </thead>\n  <tbody>\n    <tr>\n      <th>200900077</th>\n      <td>Laptop ASUS D509DA EJ800T ( 15.6\" Full HD/AMD ...</td>\n      <td>10.190.000</td>\n      <td>ASUS</td>\n      <td>24</td>\n      <td>Bạc</td>\n      <td>NaN</td>\n      <td>EJ800T</td>\n      <td>Ryzen 3 , AMD Ryzen thế hệ thứ 3</td>\n      <td>AMD Ryzen 3 3250U ( 2.6 GHz - 3.5 GHz / 4MB / ...</td>\n      <td>AMD Radeon Graphics</td>\n      <td>...</td>\n      <td>thường , có phím số , không đèn</td>\n      <td>Windows 10 Home 64-bit</td>\n      <td>36 x 23.5 x 2.29 cm</td>\n      <td>2 cell  Pin liền</td>\n      <td>1.9 kg</td>\n      <td>không đèn</td>\n      <td>NaN</td>\n      <td>NaN</td>\n      <td>NaN</td>\n      <td>NaN</td>\n    </tr>\n    <tr>\n      <th>201104484</th>\n      <td>Laptop ASUS Vivobook Flip TM420IA EC155 ( 14\" ...</td>\n      <td>13.490.000</td>\n      <td>ASUS</td>\n      <td>24</td>\n      <td>Xám</td>\n      <td>VivoBook</td>\n      <td>EC155</td>\n      <td>Ryzen 3 , AMD Ryzen thế hệ thứ 3</td>\n      <td>AMD Ryzen 3 4300U ( 2.7 GHz - 3.7 GHz / 4MB / ...</td>\n      <td>AMD Radeon Graphics</td>\n      <td>...</td>\n      <td>thường , không phím số , LED</td>\n      <td>Windows 10 Home 64-bit</td>\n      <td>32.4 x 22 x 1.82 cm</td>\n      <td>3 cell  42 Wh , Pin liền</td>\n      <td>1.5 kg</td>\n      <td>không đèn</td>\n      <td>NaN</td>\n      <td>NaN</td>\n      <td>NaN</td>\n      <td>Numberpad ảo tích hợp trên touchpad</td>\n    </tr>\n    <tr>\n      <th>200500682</th>\n      <td>Laptop ASUS TUF Gaming FA506II AL012T ( 15.6\" ...</td>\n      <td>21.990.000</td>\n      <td>ASUS</td>\n      <td>24</td>\n      <td>Xám</td>\n      <td>TUF Gaming</td>\n      <td>AL012T</td>\n      <td>Ryzen 5 , AMD Ryzen thế hệ thứ 4</td>\n      <td>AMD Ryzen 5 4600H ( 3.0 GHz - 4.0 GHz / 8MB / ...</td>\n      <td>NVIDIA GeForce GTX 1650Ti  4GB  GDDR6 / AMD Ra...</td>\n      <td>...</td>\n      <td>thường , có phím số , RGB</td>\n      <td>Windows 10 Home SL 64-bit</td>\n      <td>35.98 x 25.6 x 2.28 cm</td>\n      <td>3 cell  48 Wh , Pin liền</td>\n      <td>2 kg</td>\n      <td>không đèn</td>\n      <td>NaN</td>\n      <td>NaN</td>\n      <td>NaN</td>\n      <td>NaN</td>\n    </tr>\n    <tr>\n      <th>201100788</th>\n      <td>Laptop ASUS Vivobook X509JA EJ427T ( 15.6\" Ful...</td>\n      <td>11.190.000</td>\n      <td>ASUS</td>\n      <td>24</td>\n      <td>Bạc</td>\n      <td>VivoBook</td>\n      <td>EJ427T</td>\n      <td>Core i3 , Intel Core thế hệ thứ 10</td>\n      <td>Intel Core i3-1005G1 ( 1.2 GHz - 3.4 GHz / 4MB...</td>\n      <td>Intel UHD Graphics</td>\n      <td>...</td>\n      <td>thường , có phím số , không đèn</td>\n      <td>Windows 10 Home SL 64-bit</td>\n      <td>36.02 x 23.49 x 2.29 cm</td>\n      <td>2 cell  32 Wh , Pin liền</td>\n      <td>1.7 kg</td>\n      <td>không đèn</td>\n      <td>NaN</td>\n      <td>Vân tay</td>\n      <td>NaN</td>\n      <td>NaN</td>\n    </tr>\n    <tr>\n      <th>201100021</th>\n      <td>Laptop ASUS TUF Gaming FX506LI HN039T ( 15.6\" ...</td>\n      <td>23.490.000</td>\n      <td>ASUS</td>\n      <td>24</td>\n      <td>Xám</td>\n      <td>TUF Gaming</td>\n      <td>HN039T</td>\n      <td>Core i5 , Intel Celeron 1000</td>\n      <td>Intel Core i5-10300H ( 2.5 GHz - 4.5 GHz / 8MB...</td>\n      <td>NVIDIA GeForce GTX 1650Ti  4GB  GDDR6 / Intel ...</td>\n      <td>...</td>\n      <td>thường , có phím số , RGB</td>\n      <td>Windows 10 Home 64-bit</td>\n      <td>35.9 x 25.6 x 2.47 cm</td>\n      <td>3 cell  48 Wh , Pin liền</td>\n      <td>2.3 kg</td>\n      <td>không đèn</td>\n      <td>Adapter, Sticker, Sách HDSD, Sổ BH</td>\n      <td>NaN</td>\n      <td>NaN</td>\n      <td>NaN</td>\n    </tr>\n  </tbody>\n</table>\n<p>5 rows × 28 columns</p>\n</div>"
     },
     "metadata": {},
     "execution_count": 9
    }
   ],
   "source": [
    "data_df = pd.read_csv('data.csv', index_col='SKU') # Dùng mã SKU của sản phẩm để làm index\n",
    "data_df.head()"
   ]
  },
  {
   "source": [
    "### Ý nghĩa các cột"
   ],
   "cell_type": "markdown",
   "metadata": {}
  },
  {
   "cell_type": "code",
   "execution_count": null,
   "metadata": {},
   "outputs": [],
   "source": [
    "with open('description.txt', 'r') as f:\n",
    "    print(f.read())"
   ]
  },
  {
   "cell_type": "code",
   "execution_count": 10,
   "metadata": {},
   "outputs": [
    {
     "output_type": "execute_result",
     "data": {
      "text/plain": [
       "(794, 28)"
      ]
     },
     "metadata": {},
     "execution_count": 10
    }
   ],
   "source": [
    "data_df.shape"
   ]
  },
  {
   "cell_type": "code",
   "execution_count": 11,
   "metadata": {},
   "outputs": [
    {
     "output_type": "execute_result",
     "data": {
      "text/plain": [
       "0"
      ]
     },
     "metadata": {},
     "execution_count": 11
    }
   ],
   "source": [
    "data_df.index.duplicated().sum()"
   ]
  },
  {
   "source": [
    "Không có dòng trùng."
   ],
   "cell_type": "markdown",
   "metadata": {}
  },
  {
   "cell_type": "code",
   "execution_count": 8,
   "metadata": {},
   "outputs": [
    {
     "output_type": "execute_result",
     "data": {
      "text/plain": [
       "dtype('O')"
      ]
     },
     "metadata": {},
     "execution_count": 8
    }
   ],
   "source": [
    "# Cột dùng làm output là Price\n",
    "data_df['Price'].dtype"
   ]
  },
  {
   "source": [
    "Cột output có dữ liệu dạng Object nên chúng ta cần chuyển về dạng số để phù hợp với bài toán hồi quy."
   ],
   "cell_type": "markdown",
   "metadata": {}
  },
  {
   "cell_type": "code",
   "execution_count": 5,
   "metadata": {},
   "outputs": [
    {
     "output_type": "execute_result",
     "data": {
      "text/plain": [
       "0"
      ]
     },
     "metadata": {},
     "execution_count": 5
    }
   ],
   "source": [
    "data_df['Price'].isna().sum()"
   ]
  },
  {
   "source": [
    "Cột output không có giá trị thiếu"
   ],
   "cell_type": "markdown",
   "metadata": {}
  },
  {
   "source": [
    "## Phần 3: Tiền xử lý (tách các tập)"
   ],
   "cell_type": "markdown",
   "metadata": {}
  },
  {
   "cell_type": "code",
   "execution_count": 12,
   "metadata": {},
   "outputs": [],
   "source": [
    "from sklearn.model_selection import train_test_split\n",
    "from sklearn.preprocessing import OneHotEncoder, StandardScaler\n",
    "from sklearn.impute import SimpleImputer\n",
    "from sklearn.base import BaseEstimator, TransformerMixin\n",
    "from sklearn.pipeline import Pipeline, make_pipeline\n",
    "from sklearn.compose import ColumnTransformer, make_column_transformer\n",
    "from sklearn.neural_network import MLPClassifier\n",
    "from sklearn.neural_network import MLPRegressor\n",
    "from sklearn import set_config\n",
    "from sklearn.linear_model import SGDRegressor\n",
    "from sklearn.linear_model import TweedieRegressor\n",
    "from sklearn.linear_model import LinearRegression\n",
    "from sklearn import linear_model"
   ]
  },
  {
   "cell_type": "code",
   "execution_count": null,
   "metadata": {},
   "outputs": [],
   "source": []
  },
  {
   "source": [
    "## Phần 4: Khám phá dữ liệu (Tập huấn luyện)"
   ],
   "cell_type": "markdown",
   "metadata": {}
  },
  {
   "source": [
    "### Mỗi cột input hiện đang có kiểu dữ liệu gì? Có cột nào có kiểu dữ liệu chưa phù hợp để có thể xử lý tiếp không?"
   ],
   "cell_type": "markdown",
   "metadata": {}
  },
  {
   "cell_type": "code",
   "execution_count": null,
   "metadata": {},
   "outputs": [],
   "source": [
    "train_X_df.dtypes"
   ]
  },
  {
   "source": [
    "### Với mỗi cột input có kiểu dữ liệu dạng số, các giá trị được phân bố như thế nào?"
   ],
   "cell_type": "markdown",
   "metadata": {}
  },
  {
   "cell_type": "code",
   "execution_count": null,
   "metadata": {},
   "outputs": [],
   "source": []
  },
  {
   "cell_type": "code",
   "execution_count": null,
   "metadata": {},
   "outputs": [],
   "source": []
  },
  {
   "source": [
    "## Phần 5: Tiền xử lý (tập huấn luyện)"
   ],
   "cell_type": "markdown",
   "metadata": {}
  },
  {
   "source": [
    "Thêm và bớt các cột "
   ],
   "cell_type": "markdown",
   "metadata": {}
  },
  {
   "cell_type": "code",
   "execution_count": null,
   "metadata": {},
   "outputs": [],
   "source": [
    "def convert_col_dtype(col):\n",
    "    if col.name == 'SSD':\n",
    "        col.replace('1','1000', inplace = True)\n",
    "        col.replace('2','2000', inplace = True)\n",
    "\n",
    "        return pd.to_numeric(col, errors='coerce')\n",
    "    if col.name == 'gen':\n",
    "        col.replace('1000',np.NaN,inplace = True)\n",
    "        return pd.to_numeric(col, errors='coerce')\n",
    "    if col.name == 'Security':     \n",
    "        return col.apply(lambda x: 'Yes' if not pd.isnull(x) else 'No')\n",
    "    if col.name in ['Pin','Weight','Screen','RAM']:  \n",
    "        return pd.to_numeric(col, errors='coerce')  \n",
    "    if col.name == 'Price':\n",
    "        col = col.str.replace('.', '')\n",
    "        return pd.to_numeric(col, errors='coerce')\n",
    "    return col"
   ]
  },
  {
   "source": [
    "## Phần 6: Tiền xử lý (tập validation)"
   ],
   "cell_type": "markdown",
   "metadata": {}
  },
  {
   "source": [
    "## Phần 7: Tiền xử lý + mô hình hóa"
   ],
   "cell_type": "markdown",
   "metadata": {}
  },
  {
   "source": [
    "### Tìm mô hình tốt nhất"
   ],
   "cell_type": "markdown",
   "metadata": {}
  },
  {
   "source": [
    "### Đánh giá mô hình tìm được"
   ],
   "cell_type": "markdown",
   "metadata": {}
  }
 ],
 "metadata": {
  "jupytext": {
   "formats": "ipynb,md"
  },
  "kernelspec": {
   "display_name": "Python 3",
   "language": "python",
   "name": "python3"
  },
  "language_info": {
   "codemirror_mode": {
    "name": "ipython",
    "version": 3
   },
   "file_extension": ".py",
   "mimetype": "text/x-python",
   "name": "python",
   "nbconvert_exporter": "python",
   "pygments_lexer": "ipython3",
   "version": "3.8.3-final"
  }
 },
 "nbformat": 4,
 "nbformat_minor": 4
}