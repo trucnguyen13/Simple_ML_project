{
 "cells": [
  {
   "cell_type": "markdown",
   "metadata": {},
   "source": [
    "# Đồ án cuối kỳ NMKHDL"
   ]
  },
  {
   "cell_type": "markdown",
   "metadata": {},
   "source": [
    "Câu hỏi cần trả lời"
   ]
  },
  {
   "cell_type": "markdown",
   "metadata": {},
   "source": [
    "## Phần 2: Khám phá dữ liệu (để tách các tập)"
   ]
  },
  {
   "cell_type": "code",
   "execution_count": 1,
   "metadata": {},
   "outputs": [],
   "source": [
    "%matplotlib inline\n",
    "import matplotlib.pyplot as plt\n",
    "import seaborn as sns # seaborn là thư viện được xây trên matplotlib, giúp việc visualization đỡ khổ hơn\n",
    "import pandas as pd\n",
    "import numpy as np"
   ]
  },
  {
   "cell_type": "code",
   "execution_count": 2,
   "metadata": {},
   "outputs": [
    {
     "data": {
      "text/html": [
       "<div>\n",
       "<style scoped>\n",
       "    .dataframe tbody tr th:only-of-type {\n",
       "        vertical-align: middle;\n",
       "    }\n",
       "\n",
       "    .dataframe tbody tr th {\n",
       "        vertical-align: top;\n",
       "    }\n",
       "\n",
       "    .dataframe thead th {\n",
       "        text-align: right;\n",
       "    }\n",
       "</style>\n",
       "<table border=\"1\" class=\"dataframe\">\n",
       "  <thead>\n",
       "    <tr style=\"text-align: right;\">\n",
       "      <th></th>\n",
       "      <th>Title</th>\n",
       "      <th>Price</th>\n",
       "      <th>Brand</th>\n",
       "      <th>Warranty</th>\n",
       "      <th>Color</th>\n",
       "      <th>SeriesLaptop</th>\n",
       "      <th>PartNum</th>\n",
       "      <th>CPUgen</th>\n",
       "      <th>CPU</th>\n",
       "      <th>GraphicChip</th>\n",
       "      <th>...</th>\n",
       "      <th>Keyboard</th>\n",
       "      <th>OS</th>\n",
       "      <th>Size</th>\n",
       "      <th>Pin</th>\n",
       "      <th>Weight</th>\n",
       "      <th>LED</th>\n",
       "      <th>Accessories</th>\n",
       "      <th>Security</th>\n",
       "      <th>OptDrive</th>\n",
       "      <th>Feature</th>\n",
       "    </tr>\n",
       "    <tr>\n",
       "      <th>SKU</th>\n",
       "      <th></th>\n",
       "      <th></th>\n",
       "      <th></th>\n",
       "      <th></th>\n",
       "      <th></th>\n",
       "      <th></th>\n",
       "      <th></th>\n",
       "      <th></th>\n",
       "      <th></th>\n",
       "      <th></th>\n",
       "      <th></th>\n",
       "      <th></th>\n",
       "      <th></th>\n",
       "      <th></th>\n",
       "      <th></th>\n",
       "      <th></th>\n",
       "      <th></th>\n",
       "      <th></th>\n",
       "      <th></th>\n",
       "      <th></th>\n",
       "      <th></th>\n",
       "    </tr>\n",
       "  </thead>\n",
       "  <tbody>\n",
       "    <tr>\n",
       "      <th>200900077</th>\n",
       "      <td>Laptop ASUS D509DA EJ800T ( 15.6\" Full HD/AMD ...</td>\n",
       "      <td>10.190.000</td>\n",
       "      <td>ASUS</td>\n",
       "      <td>24</td>\n",
       "      <td>Bạc</td>\n",
       "      <td>NaN</td>\n",
       "      <td>EJ800T</td>\n",
       "      <td>Ryzen 3 , AMD Ryzen thế hệ thứ 3</td>\n",
       "      <td>AMD Ryzen 3 3250U ( 2.6 GHz - 3.5 GHz / 4MB / ...</td>\n",
       "      <td>AMD Radeon Graphics</td>\n",
       "      <td>...</td>\n",
       "      <td>thường , có phím số , không đèn</td>\n",
       "      <td>Windows 10 Home 64-bit</td>\n",
       "      <td>36 x 23.5 x 2.29 cm</td>\n",
       "      <td>2 cell  Pin liền</td>\n",
       "      <td>1.9 kg</td>\n",
       "      <td>không đèn</td>\n",
       "      <td>NaN</td>\n",
       "      <td>NaN</td>\n",
       "      <td>NaN</td>\n",
       "      <td>NaN</td>\n",
       "    </tr>\n",
       "    <tr>\n",
       "      <th>201104484</th>\n",
       "      <td>Laptop ASUS Vivobook Flip TM420IA EC155 ( 14\" ...</td>\n",
       "      <td>13.490.000</td>\n",
       "      <td>ASUS</td>\n",
       "      <td>24</td>\n",
       "      <td>Xám</td>\n",
       "      <td>VivoBook</td>\n",
       "      <td>EC155</td>\n",
       "      <td>Ryzen 3 , AMD Ryzen thế hệ thứ 3</td>\n",
       "      <td>AMD Ryzen 3 4300U ( 2.7 GHz - 3.7 GHz / 4MB / ...</td>\n",
       "      <td>AMD Radeon Graphics</td>\n",
       "      <td>...</td>\n",
       "      <td>thường , không phím số , LED</td>\n",
       "      <td>Windows 10 Home 64-bit</td>\n",
       "      <td>32.4 x 22 x 1.82 cm</td>\n",
       "      <td>3 cell  42 Wh , Pin liền</td>\n",
       "      <td>1.5 kg</td>\n",
       "      <td>không đèn</td>\n",
       "      <td>NaN</td>\n",
       "      <td>NaN</td>\n",
       "      <td>NaN</td>\n",
       "      <td>Numberpad ảo tích hợp trên touchpad</td>\n",
       "    </tr>\n",
       "    <tr>\n",
       "      <th>200500682</th>\n",
       "      <td>Laptop ASUS TUF Gaming FA506II AL012T ( 15.6\" ...</td>\n",
       "      <td>21.990.000</td>\n",
       "      <td>ASUS</td>\n",
       "      <td>24</td>\n",
       "      <td>Xám</td>\n",
       "      <td>TUF Gaming</td>\n",
       "      <td>AL012T</td>\n",
       "      <td>Ryzen 5 , AMD Ryzen thế hệ thứ 4</td>\n",
       "      <td>AMD Ryzen 5 4600H ( 3.0 GHz - 4.0 GHz / 8MB / ...</td>\n",
       "      <td>NVIDIA GeForce GTX 1650Ti  4GB  GDDR6 / AMD Ra...</td>\n",
       "      <td>...</td>\n",
       "      <td>thường , có phím số , RGB</td>\n",
       "      <td>Windows 10 Home SL 64-bit</td>\n",
       "      <td>35.98 x 25.6 x 2.28 cm</td>\n",
       "      <td>3 cell  48 Wh , Pin liền</td>\n",
       "      <td>2 kg</td>\n",
       "      <td>không đèn</td>\n",
       "      <td>NaN</td>\n",
       "      <td>NaN</td>\n",
       "      <td>NaN</td>\n",
       "      <td>NaN</td>\n",
       "    </tr>\n",
       "    <tr>\n",
       "      <th>201100788</th>\n",
       "      <td>Laptop ASUS Vivobook X509JA EJ427T ( 15.6\" Ful...</td>\n",
       "      <td>11.190.000</td>\n",
       "      <td>ASUS</td>\n",
       "      <td>24</td>\n",
       "      <td>Bạc</td>\n",
       "      <td>VivoBook</td>\n",
       "      <td>EJ427T</td>\n",
       "      <td>Core i3 , Intel Core thế hệ thứ 10</td>\n",
       "      <td>Intel Core i3-1005G1 ( 1.2 GHz - 3.4 GHz / 4MB...</td>\n",
       "      <td>Intel UHD Graphics</td>\n",
       "      <td>...</td>\n",
       "      <td>thường , có phím số , không đèn</td>\n",
       "      <td>Windows 10 Home SL 64-bit</td>\n",
       "      <td>36.02 x 23.49 x 2.29 cm</td>\n",
       "      <td>2 cell  32 Wh , Pin liền</td>\n",
       "      <td>1.7 kg</td>\n",
       "      <td>không đèn</td>\n",
       "      <td>NaN</td>\n",
       "      <td>Vân tay</td>\n",
       "      <td>NaN</td>\n",
       "      <td>NaN</td>\n",
       "    </tr>\n",
       "    <tr>\n",
       "      <th>201100021</th>\n",
       "      <td>Laptop ASUS TUF Gaming FX506LI HN039T ( 15.6\" ...</td>\n",
       "      <td>23.490.000</td>\n",
       "      <td>ASUS</td>\n",
       "      <td>24</td>\n",
       "      <td>Xám</td>\n",
       "      <td>TUF Gaming</td>\n",
       "      <td>HN039T</td>\n",
       "      <td>Core i5 , Intel Celeron 1000</td>\n",
       "      <td>Intel Core i5-10300H ( 2.5 GHz - 4.5 GHz / 8MB...</td>\n",
       "      <td>NVIDIA GeForce GTX 1650Ti  4GB  GDDR6 / Intel ...</td>\n",
       "      <td>...</td>\n",
       "      <td>thường , có phím số , RGB</td>\n",
       "      <td>Windows 10 Home 64-bit</td>\n",
       "      <td>35.9 x 25.6 x 2.47 cm</td>\n",
       "      <td>3 cell  48 Wh , Pin liền</td>\n",
       "      <td>2.3 kg</td>\n",
       "      <td>không đèn</td>\n",
       "      <td>Adapter, Sticker, Sách HDSD, Sổ BH</td>\n",
       "      <td>NaN</td>\n",
       "      <td>NaN</td>\n",
       "      <td>NaN</td>\n",
       "    </tr>\n",
       "  </tbody>\n",
       "</table>\n",
       "<p>5 rows × 28 columns</p>\n",
       "</div>"
      ],
      "text/plain": [
       "                                                       Title       Price  \\\n",
       "SKU                                                                        \n",
       "200900077  Laptop ASUS D509DA EJ800T ( 15.6\" Full HD/AMD ...  10.190.000   \n",
       "201104484  Laptop ASUS Vivobook Flip TM420IA EC155 ( 14\" ...  13.490.000   \n",
       "200500682  Laptop ASUS TUF Gaming FA506II AL012T ( 15.6\" ...  21.990.000   \n",
       "201100788  Laptop ASUS Vivobook X509JA EJ427T ( 15.6\" Ful...  11.190.000   \n",
       "201100021  Laptop ASUS TUF Gaming FX506LI HN039T ( 15.6\" ...  23.490.000   \n",
       "\n",
       "          Brand  Warranty Color SeriesLaptop PartNum  \\\n",
       "SKU                                                    \n",
       "200900077  ASUS        24   Bạc          NaN  EJ800T   \n",
       "201104484  ASUS        24  Xám     VivoBook   EC155   \n",
       "200500682  ASUS        24  Xám   TUF Gaming  AL012T   \n",
       "201100788  ASUS        24   Bạc     VivoBook  EJ427T   \n",
       "201100021  ASUS        24  Xám   TUF Gaming  HN039T   \n",
       "\n",
       "                                       CPUgen  \\\n",
       "SKU                                             \n",
       "200900077    Ryzen 3 , AMD Ryzen thế hệ thứ 3   \n",
       "201104484    Ryzen 3 , AMD Ryzen thế hệ thứ 3   \n",
       "200500682    Ryzen 5 , AMD Ryzen thế hệ thứ 4   \n",
       "201100788  Core i3 , Intel Core thế hệ thứ 10   \n",
       "201100021        Core i5 , Intel Celeron 1000   \n",
       "\n",
       "                                                         CPU  \\\n",
       "SKU                                                            \n",
       "200900077  AMD Ryzen 3 3250U ( 2.6 GHz - 3.5 GHz / 4MB / ...   \n",
       "201104484  AMD Ryzen 3 4300U ( 2.7 GHz - 3.7 GHz / 4MB / ...   \n",
       "200500682  AMD Ryzen 5 4600H ( 3.0 GHz - 4.0 GHz / 8MB / ...   \n",
       "201100788  Intel Core i3-1005G1 ( 1.2 GHz - 3.4 GHz / 4MB...   \n",
       "201100021  Intel Core i5-10300H ( 2.5 GHz - 4.5 GHz / 8MB...   \n",
       "\n",
       "                                                 GraphicChip  ...  \\\n",
       "SKU                                                           ...   \n",
       "200900077                                AMD Radeon Graphics  ...   \n",
       "201104484                                AMD Radeon Graphics  ...   \n",
       "200500682  NVIDIA GeForce GTX 1650Ti  4GB  GDDR6 / AMD Ra...  ...   \n",
       "201100788                                 Intel UHD Graphics  ...   \n",
       "201100021  NVIDIA GeForce GTX 1650Ti  4GB  GDDR6 / Intel ...  ...   \n",
       "\n",
       "                                       Keyboard                         OS  \\\n",
       "SKU                                                                          \n",
       "200900077  thường , có phím số , không đèn     Windows 10 Home 64-bit   \n",
       "201104484       thường , không phím số , LED     Windows 10 Home 64-bit   \n",
       "200500682         thường , có phím số , RGB  Windows 10 Home SL 64-bit   \n",
       "201100788  thường , có phím số , không đèn  Windows 10 Home SL 64-bit   \n",
       "201100021         thường , có phím số , RGB     Windows 10 Home 64-bit   \n",
       "\n",
       "                              Size                       Pin  Weight  \\\n",
       "SKU                                                                    \n",
       "200900077      36 x 23.5 x 2.29 cm          2 cell  Pin liền  1.9 kg   \n",
       "201104484      32.4 x 22 x 1.82 cm  3 cell  42 Wh , Pin liền  1.5 kg   \n",
       "200500682   35.98 x 25.6 x 2.28 cm  3 cell  48 Wh , Pin liền    2 kg   \n",
       "201100788  36.02 x 23.49 x 2.29 cm  2 cell  32 Wh , Pin liền  1.7 kg   \n",
       "201100021    35.9 x 25.6 x 2.47 cm  3 cell  48 Wh , Pin liền  2.3 kg   \n",
       "\n",
       "                  LED                         Accessories Security OptDrive  \\\n",
       "SKU                                                                           \n",
       "200900077  không đèn                                 NaN      NaN      NaN   \n",
       "201104484  không đèn                                 NaN      NaN      NaN   \n",
       "200500682  không đèn                                 NaN      NaN      NaN   \n",
       "201100788  không đèn                                 NaN  Vân tay      NaN   \n",
       "201100021  không đèn  Adapter, Sticker, Sách HDSD, Sổ BH      NaN      NaN   \n",
       "\n",
       "                                       Feature  \n",
       "SKU                                             \n",
       "200900077                                  NaN  \n",
       "201104484  Numberpad ảo tích hợp trên touchpad  \n",
       "200500682                                  NaN  \n",
       "201100788                                  NaN  \n",
       "201100021                                  NaN  \n",
       "\n",
       "[5 rows x 28 columns]"
      ]
     },
     "execution_count": 2,
     "metadata": {},
     "output_type": "execute_result"
    }
   ],
   "source": [
    "data_df = pd.read_csv('data.csv', index_col='SKU') # Dùng mã SKU của sản phẩm để làm index\n",
    "data_df.head()"
   ]
  },
  {
   "cell_type": "markdown",
   "metadata": {},
   "source": [
    "### Ý nghĩa các cột"
   ]
  },
  {
   "cell_type": "code",
   "execution_count": 3,
   "metadata": {},
   "outputs": [
    {
     "name": "stdout",
     "output_type": "stream",
     "text": [
      "VARIABLE DESCRIPTIONS:\n",
      "SKU               Mã sản phẩm\n",
      "Title            Thông tin sản phẩm\n",
      "Brand            Thương hiệu laptop\n",
      "Warranty          Tháng bảo hành\n",
      "Color            Màu sắc\n",
      "SeriesLaptop     Dòng laptop\n",
      "PartNum          Số phần là một định danh của một thiết kế phần cụ thể\n",
      "CPUgen           Thế hệ CPU\n",
      "CPU              CPU\n",
      "GraphicChip      Chip đồ họa\n",
      "RAM              RAM\n",
      "Screen           Màn hình\n",
      "Storage          Lưu trữ\n",
      "MaxStoPortNum    Số cổng lưu trữ tối đa\n",
      "SupportM2        Kiểu khe M.2 hỗ trợ\n",
      "OutVideoPort     Cổng xuất hình\n",
      "ConnectPort      Cổng kết nối\n",
      "Wireless         object\n",
      "Keyboard         object\n",
      "OS               object\n",
      "Size             object\n",
      "Pin              object\n",
      "Weight           object\n",
      "LED              object\n",
      "Accessories      object\n",
      "Security         object\n",
      "OptDrive         object\n",
      "Feature          object\n",
      "dtype: object\n",
      "\n"
     ]
    }
   ],
   "source": [
    "with open('description.txt', 'r', encoding = 'utf-8') as f:\n",
    "    print(f.read())"
   ]
  },
  {
   "cell_type": "code",
   "execution_count": 4,
   "metadata": {},
   "outputs": [
    {
     "data": {
      "text/plain": [
       "(794, 28)"
      ]
     },
     "execution_count": 4,
     "metadata": {},
     "output_type": "execute_result"
    }
   ],
   "source": [
    "data_df.shape"
   ]
  },
  {
   "cell_type": "code",
   "execution_count": 5,
   "metadata": {},
   "outputs": [
    {
     "data": {
      "text/plain": [
       "0"
      ]
     },
     "execution_count": 5,
     "metadata": {},
     "output_type": "execute_result"
    }
   ],
   "source": [
    "data_df.index.duplicated().sum()"
   ]
  },
  {
   "cell_type": "markdown",
   "metadata": {},
   "source": [
    "Không có dòng trùng."
   ]
  },
  {
   "cell_type": "code",
   "execution_count": 6,
   "metadata": {},
   "outputs": [
    {
     "data": {
      "text/plain": [
       "dtype('O')"
      ]
     },
     "execution_count": 6,
     "metadata": {},
     "output_type": "execute_result"
    }
   ],
   "source": [
    "# Cột dùng làm output là Price\n",
    "data_df['Price'].dtype"
   ]
  },
  {
   "cell_type": "markdown",
   "metadata": {},
   "source": [
    "Cột output có dữ liệu dạng Object nên chúng ta cần chuyển về dạng số để phù hợp với bài toán hồi quy."
   ]
  },
  {
   "cell_type": "code",
   "execution_count": 7,
   "metadata": {},
   "outputs": [
    {
     "data": {
      "text/plain": [
       "0"
      ]
     },
     "execution_count": 7,
     "metadata": {},
     "output_type": "execute_result"
    }
   ],
   "source": [
    "data_df['Price'].isna().sum()"
   ]
  },
  {
   "cell_type": "markdown",
   "metadata": {},
   "source": [
    "Cột output không có giá trị thiếu"
   ]
  },
  {
   "cell_type": "markdown",
   "metadata": {},
   "source": [
    "## Phần 3: Tiền xử lý (tách các tập)"
   ]
  },
  {
   "cell_type": "code",
   "execution_count": 8,
   "metadata": {},
   "outputs": [],
   "source": [
    "from sklearn.model_selection import train_test_split\n",
    "from sklearn.preprocessing import OneHotEncoder, StandardScaler\n",
    "from sklearn.impute import SimpleImputer\n",
    "from sklearn.base import BaseEstimator, TransformerMixin\n",
    "from sklearn.pipeline import Pipeline, make_pipeline\n",
    "from sklearn.compose import ColumnTransformer, make_column_transformer\n",
    "from sklearn.neural_network import MLPClassifier\n",
    "from sklearn.neural_network import MLPRegressor\n",
    "from sklearn import set_config\n",
    "set_config(display='diagram') # Để trực quan hóa pipeline\n",
    "from sklearn.linear_model import SGDRegressor\n",
    "from sklearn.linear_model import TweedieRegressor\n",
    "from sklearn.linear_model import LinearRegression\n",
    "from sklearn.ensemble import RandomForestRegressor\n",
    "from sklearn import linear_model"
   ]
  },
  {
   "cell_type": "code",
   "execution_count": 9,
   "metadata": {},
   "outputs": [
    {
     "data": {
      "text/plain": [
       "dtype('int64')"
      ]
     },
     "execution_count": 9,
     "metadata": {},
     "output_type": "execute_result"
    }
   ],
   "source": [
    "# Chuyển cột Price về dạng numerical\n",
    "data_df.Price = pd.to_numeric(data_df.Price.str.replace('.', ''), errors='coerce')\n",
    "data_df.Price.dtype"
   ]
  },
  {
   "cell_type": "markdown",
   "metadata": {},
   "source": [
    "### Bây giờ ta sẽ thực hiện bước tiền xử lý là tách tập tập kiểm tra, validation và tập test ra theo tỉ lệ: 70%:15%:15%."
   ]
  },
  {
   "cell_type": "code",
   "execution_count": 10,
   "metadata": {},
   "outputs": [],
   "source": [
    "# Tách X và y\n",
    "y_sr = data_df[\"Price\"] # sr là viết tắt của series\n",
    "X_df = data_df.drop(\"Price\", axis=1)"
   ]
  },
  {
   "cell_type": "code",
   "execution_count": 11,
   "metadata": {},
   "outputs": [],
   "source": [
    "# Tách tập huấn luyện, tập validation và tập test theo tỉ lệ 70%:15%:15%\n",
    "# Tách dữ liệu thu thập thành 2 tập: tập huấn luyện và tập other (validation và test) theo tỉ lệ 70%:30%\n",
    "train_X_df, other_X_df, train_y_sr, other_y_sr = train_test_split(X_df, y_sr, test_size=0.3, random_state=0)\n",
    "\n",
    "# Tách tập other (validation và test) thành 2 tập: tập validation và tập test theo tỉ lệ 50%:50% \n",
    "val_X_df, test_X_df, val_y_sr, test_y_sr = train_test_split(other_X_df, other_y_sr, test_size=0.5, random_state=0)"
   ]
  },
  {
   "cell_type": "code",
   "execution_count": 12,
   "metadata": {},
   "outputs": [
    {
     "data": {
      "text/plain": [
       "((555, 27), (119, 27), (120, 27), (555,), (119,), (120,))"
      ]
     },
     "execution_count": 12,
     "metadata": {},
     "output_type": "execute_result"
    }
   ],
   "source": [
    "train_X_df.shape, val_X_df.shape, test_X_df.shape, train_y_sr.shape, val_y_sr.shape, test_y_sr.shape"
   ]
  },
  {
   "cell_type": "markdown",
   "metadata": {},
   "source": [
    "## Phần 4: Khám phá dữ liệu (Tập huấn luyện)"
   ]
  },
  {
   "cell_type": "markdown",
   "metadata": {},
   "source": [
    "### Mỗi cột input hiện đang có kiểu dữ liệu gì? Có cột nào có kiểu dữ liệu chưa phù hợp để có thể xử lý tiếp không?"
   ]
  },
  {
   "cell_type": "code",
   "execution_count": 13,
   "metadata": {},
   "outputs": [
    {
     "data": {
      "text/plain": [
       "Title            object\n",
       "Brand            object\n",
       "Warranty          int64\n",
       "Color            object\n",
       "SeriesLaptop     object\n",
       "PartNum          object\n",
       "CPUgen           object\n",
       "CPU              object\n",
       "GraphicChip      object\n",
       "RAM              object\n",
       "Screen           object\n",
       "Storage          object\n",
       "MaxStoPortNum    object\n",
       "SupportM2        object\n",
       "OutVideoPort     object\n",
       "ConnectPort      object\n",
       "Wireless         object\n",
       "Keyboard         object\n",
       "OS               object\n",
       "Size             object\n",
       "Pin              object\n",
       "Weight           object\n",
       "LED              object\n",
       "Accessories      object\n",
       "Security         object\n",
       "OptDrive         object\n",
       "Feature          object\n",
       "dtype: object"
      ]
     },
     "execution_count": 13,
     "metadata": {},
     "output_type": "execute_result"
    }
   ],
   "source": [
    "train_X_df.dtypes"
   ]
  },
  {
   "cell_type": "markdown",
   "metadata": {},
   "source": [
    "Có vẻ nhiều cột đều có kiểu dữ liệu chưa phù hợp, ta sẽ xử lý sau."
   ]
  },
  {
   "cell_type": "markdown",
   "metadata": {},
   "source": [
    "### Với mỗi cột input có kiểu dữ liệu không phải dạng số, các giá trị được phân bố như thế nào?"
   ]
  },
  {
   "cell_type": "code",
   "execution_count": 14,
   "metadata": {},
   "outputs": [
    {
     "data": {
      "text/html": [
       "<div>\n",
       "<style scoped>\n",
       "    .dataframe tbody tr th:only-of-type {\n",
       "        vertical-align: middle;\n",
       "    }\n",
       "\n",
       "    .dataframe tbody tr th {\n",
       "        vertical-align: top;\n",
       "    }\n",
       "\n",
       "    .dataframe thead th {\n",
       "        text-align: right;\n",
       "    }\n",
       "</style>\n",
       "<table border=\"1\" class=\"dataframe\">\n",
       "  <thead>\n",
       "    <tr style=\"text-align: right;\">\n",
       "      <th></th>\n",
       "      <th>Security</th>\n",
       "      <th>GraphicChip</th>\n",
       "      <th>Pin</th>\n",
       "      <th>Storage</th>\n",
       "      <th>MaxStoPortNum</th>\n",
       "      <th>LED</th>\n",
       "      <th>PartNum</th>\n",
       "      <th>OutVideoPort</th>\n",
       "      <th>OS</th>\n",
       "      <th>ConnectPort</th>\n",
       "      <th>...</th>\n",
       "      <th>CPUgen</th>\n",
       "      <th>RAM</th>\n",
       "      <th>Color</th>\n",
       "      <th>Keyboard</th>\n",
       "      <th>SeriesLaptop</th>\n",
       "      <th>OptDrive</th>\n",
       "      <th>CPU</th>\n",
       "      <th>Screen</th>\n",
       "      <th>Size</th>\n",
       "      <th>Weight</th>\n",
       "    </tr>\n",
       "  </thead>\n",
       "  <tbody>\n",
       "    <tr>\n",
       "      <th>missing_ratio</th>\n",
       "      <td>47.2</td>\n",
       "      <td>1.6</td>\n",
       "      <td>0</td>\n",
       "      <td>0</td>\n",
       "      <td>5</td>\n",
       "      <td>0.2</td>\n",
       "      <td>1.1</td>\n",
       "      <td>8.3</td>\n",
       "      <td>0.2</td>\n",
       "      <td>0.4</td>\n",
       "      <td>...</td>\n",
       "      <td>1.4</td>\n",
       "      <td>0</td>\n",
       "      <td>0.9</td>\n",
       "      <td>0</td>\n",
       "      <td>6.5</td>\n",
       "      <td>95.1</td>\n",
       "      <td>0</td>\n",
       "      <td>0</td>\n",
       "      <td>0</td>\n",
       "      <td>0</td>\n",
       "    </tr>\n",
       "    <tr>\n",
       "      <th>num_values</th>\n",
       "      <td>3</td>\n",
       "      <td>90</td>\n",
       "      <td>98</td>\n",
       "      <td>29</td>\n",
       "      <td>22</td>\n",
       "      <td>3</td>\n",
       "      <td>546</td>\n",
       "      <td>5</td>\n",
       "      <td>12</td>\n",
       "      <td>211</td>\n",
       "      <td>...</td>\n",
       "      <td>30</td>\n",
       "      <td>138</td>\n",
       "      <td>19</td>\n",
       "      <td>7</td>\n",
       "      <td>54</td>\n",
       "      <td>1</td>\n",
       "      <td>69</td>\n",
       "      <td>93</td>\n",
       "      <td>333</td>\n",
       "      <td>25</td>\n",
       "    </tr>\n",
       "    <tr>\n",
       "      <th>value_ratios</th>\n",
       "      <td>{'Vân tay': 93.2, 'Khuôn mặt': 5.8, 'Vân tay, ...</td>\n",
       "      <td>{'Intel UHD Graphics': 20.1, 'Intel UHD Graphi...</td>\n",
       "      <td>{'3 cell  42 Wh , Pin liền': 15.0, '3 cell  45...</td>\n",
       "      <td>{'512GB SSD M.2 NVMe /': 33.0, '1TB HDD 5400RP...</td>\n",
       "      <td>{'1 x 2.5\" SATA , 1 x M.2 NVMe': 25.2, '1 x M....</td>\n",
       "      <td>{'không đèn': 92.6, 'LED': 5.2, 'RGB': 2.2}</td>\n",
       "      <td>{'242VN': 0.5, '3493-N4I5122W': 0.4, '3593-702...</td>\n",
       "      <td>{'1 x HDMI': 88.6, '1 x HDMI , 1 x VGA/D-sub':...</td>\n",
       "      <td>{'Windows 10 Home SL 64-bit': 44.6, 'Windows 1...</td>\n",
       "      <td>{'1 x USB Type C , 2 x USB 3.1 , 1 x USB 2.0 ,...</td>\n",
       "      <td>...</td>\n",
       "      <td>{'Core i5 , Intel Core thế hệ thứ 8': 19.6, 'C...</td>\n",
       "      <td>{'1 x 4GB  DDR4  2666MHz ( 2 Khe cắm / Hỗ trợ ...</td>\n",
       "      <td>{'Bạc': 31.1, 'Đen': 30.5, 'Xám': 18.2, 'Vàng...</td>\n",
       "      <td>{'thường , không phím số , LED': 31.5, 'thư...</td>\n",
       "      <td>{'VivoBook': 16.4, 'ProBook': 6.9, 'Inspiron':...</td>\n",
       "      <td>{'DVD/CD RW': 100.0}</td>\n",
       "      <td>{'Intel Core i5-8265U ( 1.6 GHz - 3.9 GHz / 6M...</td>\n",
       "      <td>{'14\" ( 1920 x 1080 ) Full HD  IPS  không cảm...</td>\n",
       "      <td>{'32.68 x 22.55 x 1.79 cm': 1.8, '35.9 x 25.4 ...</td>\n",
       "      <td>{'1.7 kg': 13.0, '1.4 kg': 10.8, '1.6 kg': 10....</td>\n",
       "    </tr>\n",
       "  </tbody>\n",
       "</table>\n",
       "<p>3 rows × 26 columns</p>\n",
       "</div>"
      ],
      "text/plain": [
       "                                                        Security  \\\n",
       "missing_ratio                                               47.2   \n",
       "num_values                                                     3   \n",
       "value_ratios   {'Vân tay': 93.2, 'Khuôn mặt': 5.8, 'Vân tay, ...   \n",
       "\n",
       "                                                     GraphicChip  \\\n",
       "missing_ratio                                                1.6   \n",
       "num_values                                                    90   \n",
       "value_ratios   {'Intel UHD Graphics': 20.1, 'Intel UHD Graphi...   \n",
       "\n",
       "                                                             Pin  \\\n",
       "missing_ratio                                                  0   \n",
       "num_values                                                    98   \n",
       "value_ratios   {'3 cell  42 Wh , Pin liền': 15.0, '3 cell  45...   \n",
       "\n",
       "                                                         Storage  \\\n",
       "missing_ratio                                                  0   \n",
       "num_values                                                    29   \n",
       "value_ratios   {'512GB SSD M.2 NVMe /': 33.0, '1TB HDD 5400RP...   \n",
       "\n",
       "                                                   MaxStoPortNum  \\\n",
       "missing_ratio                                                  5   \n",
       "num_values                                                    22   \n",
       "value_ratios   {'1 x 2.5\" SATA , 1 x M.2 NVMe': 25.2, '1 x M....   \n",
       "\n",
       "                                                        LED  \\\n",
       "missing_ratio                                           0.2   \n",
       "num_values                                                3   \n",
       "value_ratios   {'không đèn': 92.6, 'LED': 5.2, 'RGB': 2.2}   \n",
       "\n",
       "                                                         PartNum  \\\n",
       "missing_ratio                                                1.1   \n",
       "num_values                                                   546   \n",
       "value_ratios   {'242VN': 0.5, '3493-N4I5122W': 0.4, '3593-702...   \n",
       "\n",
       "                                                    OutVideoPort  \\\n",
       "missing_ratio                                                8.3   \n",
       "num_values                                                     5   \n",
       "value_ratios   {'1 x HDMI': 88.6, '1 x HDMI , 1 x VGA/D-sub':...   \n",
       "\n",
       "                                                              OS  \\\n",
       "missing_ratio                                                0.2   \n",
       "num_values                                                    12   \n",
       "value_ratios   {'Windows 10 Home SL 64-bit': 44.6, 'Windows 1...   \n",
       "\n",
       "                                                     ConnectPort  ...  \\\n",
       "missing_ratio                                                0.4  ...   \n",
       "num_values                                                   211  ...   \n",
       "value_ratios   {'1 x USB Type C , 2 x USB 3.1 , 1 x USB 2.0 ,...  ...   \n",
       "\n",
       "                                                          CPUgen  \\\n",
       "missing_ratio                                                1.4   \n",
       "num_values                                                    30   \n",
       "value_ratios   {'Core i5 , Intel Core thế hệ thứ 8': 19.6, 'C...   \n",
       "\n",
       "                                                             RAM  \\\n",
       "missing_ratio                                                  0   \n",
       "num_values                                                   138   \n",
       "value_ratios   {'1 x 4GB  DDR4  2666MHz ( 2 Khe cắm / Hỗ trợ ...   \n",
       "\n",
       "                                                           Color  \\\n",
       "missing_ratio                                                0.9   \n",
       "num_values                                                    19   \n",
       "value_ratios   {'Bạc': 31.1, 'Đen': 30.5, 'Xám': 18.2, 'Vàng...   \n",
       "\n",
       "                                                        Keyboard  \\\n",
       "missing_ratio                                                  0   \n",
       "num_values                                                     7   \n",
       "value_ratios   {'thường , không phím số , LED': 31.5, 'thư...   \n",
       "\n",
       "                                                    SeriesLaptop  \\\n",
       "missing_ratio                                                6.5   \n",
       "num_values                                                    54   \n",
       "value_ratios   {'VivoBook': 16.4, 'ProBook': 6.9, 'Inspiron':...   \n",
       "\n",
       "                           OptDrive  \\\n",
       "missing_ratio                  95.1   \n",
       "num_values                        1   \n",
       "value_ratios   {'DVD/CD RW': 100.0}   \n",
       "\n",
       "                                                             CPU  \\\n",
       "missing_ratio                                                  0   \n",
       "num_values                                                    69   \n",
       "value_ratios   {'Intel Core i5-8265U ( 1.6 GHz - 3.9 GHz / 6M...   \n",
       "\n",
       "                                                          Screen  \\\n",
       "missing_ratio                                                  0   \n",
       "num_values                                                    93   \n",
       "value_ratios   {'14\" ( 1920 x 1080 ) Full HD  IPS  không cảm...   \n",
       "\n",
       "                                                            Size  \\\n",
       "missing_ratio                                                  0   \n",
       "num_values                                                   333   \n",
       "value_ratios   {'32.68 x 22.55 x 1.79 cm': 1.8, '35.9 x 25.4 ...   \n",
       "\n",
       "                                                          Weight  \n",
       "missing_ratio                                                  0  \n",
       "num_values                                                    25  \n",
       "value_ratios   {'1.7 kg': 13.0, '1.4 kg': 10.8, '1.6 kg': 10....  \n",
       "\n",
       "[3 rows x 26 columns]"
      ]
     },
     "execution_count": 14,
     "metadata": {},
     "output_type": "execute_result"
    }
   ],
   "source": [
    "num_cols = ['Warranty', 'SKU']\n",
    "\n",
    "cat_cols = list(set(train_X_df.columns) - set(num_cols))\n",
    "df = train_X_df[cat_cols]\n",
    "def missing_ratio(df):\n",
    "    return (df.isna().mean() * 100).round(1)\n",
    "def num_values(df):\n",
    "    return df.nunique()\n",
    "def value_ratios(c):\n",
    "    return dict((c.value_counts(normalize=True) * 100).round(1))\n",
    "df.agg([missing_ratio, num_values, value_ratios])"
   ]
  },
  {
   "cell_type": "markdown",
   "metadata": {},
   "source": [
    "## Phần 5: Tiền xử lý (tập huấn luyện)"
   ]
  },
  {
   "cell_type": "markdown",
   "metadata": {},
   "source": [
    "Ta tiến hành tiền xử lý như sau:\n",
    "   *  Với cột \"CPUgen\", ta sẽ tiến hành rút trích ra cột \"CPUs\" tương ứng. Tuy nhiên, cột \"CPUs\" có khá nhiều giá trị khác nhau nên chỉ lấy `num_top_cpus` (ví dụ, 6) giá trị xuất hiện nhiều nhất. Tương tự đối với cột \"chipCPU\" được rút chích từ cột \"CPU\".\n",
    "   * Loại bỏ nhiều cột có nhiều giá trị khác nhau hoặc ít ảnh hưởng đến giá thành và các cột thiếu nhiều giá trị.\n",
    "   * Rút trích các dữ liệu chính từ các cột và thay thế chúng. Như:\n",
    "       - Cột \"CPUgen\" chỉ lấy tên CPU.\n",
    "       - Cột \"GraphicChip\" chỉ lấy hảng sản xuất.\n",
    "       - Cột \"RAM\" chỉ lấy số lượng RAM.\n",
    "       - Cột \"Screen\" chỉ lấy kích thước inch.\n",
    "       - Cột \"Pin\" chỉ lấy số cell.\n",
    "       - Cột \"Security\" xét Yes nếu có bảo mật và ngược lại là No.\n",
    "       - Cột \"ChipCPU\" chỉ lấy tên của chip CPU.\n",
    "       - Cột \"gen\" lấy đời thứ mấy của CPU.\n",
    "       - Cột \"SSD\" lấy kích thước của bộ nhớ.\n",
    "   * Chuyển các cột dạng số về số."
   ]
  },
  {
   "cell_type": "code",
   "execution_count": 15,
   "metadata": {},
   "outputs": [],
   "source": [
    "def convert_col_dtype(col):\n",
    "    if col.name == 'SSD':\n",
    "        col.replace('1','1000', inplace = True)\n",
    "        col.replace('2','2000', inplace = True)\n",
    "        return pd.to_numeric(col, errors='coerce')\n",
    "    if col.name == 'gen':\n",
    "        col.replace('1000',np.NaN,inplace = True)\n",
    "        return pd.to_numeric(col, errors='coerce')\n",
    "    if col.name == 'Security':     \n",
    "        return col.apply(lambda x: 'Yes' if not pd.isnull(x) else 'No')\n",
    "    if col.name in ['Pin','Weight','Screen','RAM']:  \n",
    "        return pd.to_numeric(col, errors='coerce')  \n",
    "    return col"
   ]
  },
  {
   "cell_type": "code",
   "execution_count": 16,
   "metadata": {},
   "outputs": [],
   "source": [
    "class ColAdderDropper(BaseEstimator, TransformerMixin):\n",
    "    def __init__(self, num_top_cpus= 6, num_top_chipCPU= 3):\n",
    "        self.num_top_cpus = num_top_cpus\n",
    "        self.num_top_chipCPU = num_top_chipCPU\n",
    "\n",
    "    def fit(self, X_df, y=None):\n",
    "        _CPUs = X_df['CPUgen'].str.extract(r'([A-z0-9\\s]+)\\,').iloc[:,0]\n",
    "        _gen = X_df['CPU'].str.extract(r'([A-z0-9]+)\\s\\(').iloc[:,0]\n",
    "        _chipCPU = _gen.str.extract(r'([A-z])').iloc[:,0]\n",
    "        \n",
    "        self.cpus_counts_ = _CPUs.value_counts()\n",
    "        cpus_ = list(self.cpus_counts_.index)\n",
    "        self.top_cpus_ = cpus_[:max(1, min(self.num_top_cpus, len(cpus_)))]\n",
    "        \n",
    "        self.chipCPU_counts_ = _chipCPU.value_counts()\n",
    "        chipCPU_ = list(self.chipCPU_counts_.index)\n",
    "        self.top_chipCPU_ = chipCPU_[:max(1, min(self.num_top_chipCPU, len(chipCPU_)))]        \n",
    "        \n",
    "        return self\n",
    "    def transform(self, X_df, y=None):\n",
    "        _df = X_df.copy()\n",
    "        \n",
    "        _df['CPUs'] = _df['CPUgen'].str.extract(r'([A-z0-9\\s]+)\\,')\n",
    "        _df['chipCPU'] = _df['CPU'].str.extract(r'([A-z0-9]+)\\s\\(')\n",
    "        _df['chipCPU'] = _df['chipCPU'].str.extract(r'([A-z])')\n",
    "        \n",
    "        _df['CPUs'] =_df['CPUs'].apply(lambda x: x if x in col_adderdropper.top_cpus_ else 'Others')\n",
    "        _df['chipCPU'] =_df['chipCPU'].apply(lambda x: x if x in col_adderdropper.top_chipCPU_ else 'Others')\n",
    "        \n",
    "        _df['gen'] = _df['CPUgen'].str.extract(r'([0-9]+)$')\n",
    "        _df['GraphicChip'] = _df['GraphicChip'].str.extract(r'([A-z]+)\\s')\n",
    "        _df['RAM'] = _df['RAM'].str.extract(r'([0-9]+)GB')\n",
    "        _df['Screen'] = _df['Screen'].str.extract(r'([0-9.]+)')\n",
    "        _df['SSD'] = _df['Storage'].str.extract(r'([0-9]+)[A-z]')\n",
    "        _df['Pin'] = _df['Pin'].str.extract(r'([0-9A-z]+)\\scell')\n",
    "        _df['Weight'] = _df['Weight'].str.extract(r'([0-9.]+)')\n",
    "        \n",
    "        unused_cols = ['Title', 'Warranty','Color','PartNum','MaxStoPortNum',\n",
    "               'SupportM2','OutVideoPort','ConnectPort','Wireless','Keyboard',\n",
    "               'Size','LED','Accessories','OptDrive','Feature','OS',\n",
    "               'Storage', 'CPUgen','CPU','SeriesLaptop']\n",
    "\n",
    "        _df = _df.apply(convert_col_dtype)\n",
    "        _df = _df.drop(unused_cols,axis=1)\n",
    "        return _df"
   ]
  },
  {
   "cell_type": "code",
   "execution_count": 17,
   "metadata": {},
   "outputs": [
    {
     "name": "stdout",
     "output_type": "stream",
     "text": [
      "Core i5     261\n",
      "Core i3     112\n",
      "Core i7      97\n",
      "Ryzen 5      21\n",
      "Ryzen 3      17\n",
      "Ryzen 7      11\n",
      "Pentium       7\n",
      "Celeron       6\n",
      "Core i9       2\n",
      "Name: 0, dtype: int64\n",
      "\n",
      "['Core i5 ', 'Core i3 ', 'Core i7 ', 'Ryzen 5 ', 'Ryzen 3 ', 'Ryzen 7 ']\n",
      "\n",
      "U    286\n",
      "G    117\n",
      "H    111\n",
      "N     13\n",
      "i     11\n",
      "Y      1\n",
      "Name: 0, dtype: int64\n",
      "\n",
      "['U', 'G', 'H']\n"
     ]
    }
   ],
   "source": [
    "# TEST FIT METHOD\n",
    "col_adderdropper = ColAdderDropper(num_top_cpus= 6, num_top_chipCPU= 3)\n",
    "col_adderdropper.fit(train_X_df)\n",
    "print(col_adderdropper.cpus_counts_)\n",
    "print()\n",
    "print(col_adderdropper.top_cpus_)\n",
    "print()\n",
    "print(col_adderdropper.chipCPU_counts_)\n",
    "print()\n",
    "print(col_adderdropper.top_chipCPU_)"
   ]
  },
  {
   "cell_type": "code",
   "execution_count": 18,
   "metadata": {},
   "outputs": [
    {
     "data": {
      "text/html": [
       "<div>\n",
       "<style scoped>\n",
       "    .dataframe tbody tr th:only-of-type {\n",
       "        vertical-align: middle;\n",
       "    }\n",
       "\n",
       "    .dataframe tbody tr th {\n",
       "        vertical-align: top;\n",
       "    }\n",
       "\n",
       "    .dataframe thead th {\n",
       "        text-align: right;\n",
       "    }\n",
       "</style>\n",
       "<table border=\"1\" class=\"dataframe\">\n",
       "  <thead>\n",
       "    <tr style=\"text-align: right;\">\n",
       "      <th></th>\n",
       "      <th>Brand</th>\n",
       "      <th>GraphicChip</th>\n",
       "      <th>RAM</th>\n",
       "      <th>Screen</th>\n",
       "      <th>Pin</th>\n",
       "      <th>Weight</th>\n",
       "      <th>Security</th>\n",
       "      <th>CPUs</th>\n",
       "      <th>chipCPU</th>\n",
       "      <th>gen</th>\n",
       "      <th>SSD</th>\n",
       "    </tr>\n",
       "    <tr>\n",
       "      <th>SKU</th>\n",
       "      <th></th>\n",
       "      <th></th>\n",
       "      <th></th>\n",
       "      <th></th>\n",
       "      <th></th>\n",
       "      <th></th>\n",
       "      <th></th>\n",
       "      <th></th>\n",
       "      <th></th>\n",
       "      <th></th>\n",
       "      <th></th>\n",
       "    </tr>\n",
       "  </thead>\n",
       "  <tbody>\n",
       "    <tr>\n",
       "      <th>200301386</th>\n",
       "      <td>ASUS</td>\n",
       "      <td>Intel</td>\n",
       "      <td>8</td>\n",
       "      <td>13.3</td>\n",
       "      <td>3.0</td>\n",
       "      <td>1.3</td>\n",
       "      <td>Yes</td>\n",
       "      <td>Core i5</td>\n",
       "      <td>U</td>\n",
       "      <td>10.0</td>\n",
       "      <td>512</td>\n",
       "    </tr>\n",
       "    <tr>\n",
       "      <th>191005043</th>\n",
       "      <td>ACER</td>\n",
       "      <td>AMD</td>\n",
       "      <td>8</td>\n",
       "      <td>15.6</td>\n",
       "      <td>2.0</td>\n",
       "      <td>1.7</td>\n",
       "      <td>No</td>\n",
       "      <td>Ryzen 3</td>\n",
       "      <td>U</td>\n",
       "      <td>3.0</td>\n",
       "      <td>256</td>\n",
       "    </tr>\n",
       "    <tr>\n",
       "      <th>1808492</th>\n",
       "      <td>Dell</td>\n",
       "      <td>Intel</td>\n",
       "      <td>4</td>\n",
       "      <td>14.0</td>\n",
       "      <td>4.0</td>\n",
       "      <td>2.0</td>\n",
       "      <td>No</td>\n",
       "      <td>Core i3</td>\n",
       "      <td>U</td>\n",
       "      <td>8.0</td>\n",
       "      <td>1000</td>\n",
       "    </tr>\n",
       "    <tr>\n",
       "      <th>19030104</th>\n",
       "      <td>ASUS</td>\n",
       "      <td>NVIDIA</td>\n",
       "      <td>8</td>\n",
       "      <td>15.6</td>\n",
       "      <td>3.0</td>\n",
       "      <td>2.2</td>\n",
       "      <td>No</td>\n",
       "      <td>Core i5</td>\n",
       "      <td>H</td>\n",
       "      <td>8.0</td>\n",
       "      <td>1000</td>\n",
       "    </tr>\n",
       "    <tr>\n",
       "      <th>190900036</th>\n",
       "      <td>HP</td>\n",
       "      <td>NVIDIA</td>\n",
       "      <td>8</td>\n",
       "      <td>15.6</td>\n",
       "      <td>3.0</td>\n",
       "      <td>2.2</td>\n",
       "      <td>No</td>\n",
       "      <td>Core i7</td>\n",
       "      <td>H</td>\n",
       "      <td>9.0</td>\n",
       "      <td>512</td>\n",
       "    </tr>\n",
       "  </tbody>\n",
       "</table>\n",
       "</div>"
      ],
      "text/plain": [
       "          Brand GraphicChip  RAM  Screen  Pin  Weight Security      CPUs  \\\n",
       "SKU                                                                        \n",
       "200301386  ASUS       Intel    8    13.3  3.0     1.3      Yes  Core i5    \n",
       "191005043  ACER         AMD    8    15.6  2.0     1.7       No  Ryzen 3    \n",
       "1808492    Dell       Intel    4    14.0  4.0     2.0       No  Core i3    \n",
       "19030104   ASUS      NVIDIA    8    15.6  3.0     2.2       No  Core i5    \n",
       "190900036    HP      NVIDIA    8    15.6  3.0     2.2       No  Core i7    \n",
       "\n",
       "          chipCPU   gen   SSD  \n",
       "SKU                            \n",
       "200301386       U  10.0   512  \n",
       "191005043       U   3.0   256  \n",
       "1808492         U   8.0  1000  \n",
       "19030104        H   8.0  1000  \n",
       "190900036       H   9.0   512  "
      ]
     },
     "execution_count": 18,
     "metadata": {},
     "output_type": "execute_result"
    }
   ],
   "source": [
    "# Transform tập train\n",
    "fewer_cols_train_X_df = col_adderdropper.transform(train_X_df)\n",
    "fewer_cols_train_X_df.head()"
   ]
  },
  {
   "cell_type": "code",
   "execution_count": 19,
   "metadata": {},
   "outputs": [
    {
     "data": {
      "text/plain": [
       "Brand           object\n",
       "GraphicChip     object\n",
       "RAM              int64\n",
       "Screen         float64\n",
       "Pin            float64\n",
       "Weight         float64\n",
       "Security        object\n",
       "CPUs            object\n",
       "chipCPU         object\n",
       "gen            float64\n",
       "SSD              int64\n",
       "dtype: object"
      ]
     },
     "execution_count": 19,
     "metadata": {},
     "output_type": "execute_result"
    }
   ],
   "source": [
    "fewer_cols_train_X_df.dtypes"
   ]
  },
  {
   "cell_type": "markdown",
   "metadata": {},
   "source": [
    "Có vẽ như kiểu dữ liệu các cột đã phù hợp."
   ]
  },
  {
   "cell_type": "markdown",
   "metadata": {},
   "source": [
    "### Với mỗi cột input có kiểu dữ liệu dạng số, các giá trị được phân bố như thế nào?"
   ]
  },
  {
   "cell_type": "code",
   "execution_count": 20,
   "metadata": {},
   "outputs": [
    {
     "data": {
      "text/html": [
       "<div>\n",
       "<style scoped>\n",
       "    .dataframe tbody tr th:only-of-type {\n",
       "        vertical-align: middle;\n",
       "    }\n",
       "\n",
       "    .dataframe tbody tr th {\n",
       "        vertical-align: top;\n",
       "    }\n",
       "\n",
       "    .dataframe thead th {\n",
       "        text-align: right;\n",
       "    }\n",
       "</style>\n",
       "<table border=\"1\" class=\"dataframe\">\n",
       "  <thead>\n",
       "    <tr style=\"text-align: right;\">\n",
       "      <th></th>\n",
       "      <th>RAM</th>\n",
       "      <th>Screen</th>\n",
       "      <th>Pin</th>\n",
       "      <th>Weight</th>\n",
       "      <th>gen</th>\n",
       "      <th>SSD</th>\n",
       "    </tr>\n",
       "  </thead>\n",
       "  <tbody>\n",
       "    <tr>\n",
       "      <th>missing_ratio</th>\n",
       "      <td>0.0</td>\n",
       "      <td>0.0</td>\n",
       "      <td>8.1</td>\n",
       "      <td>0.0</td>\n",
       "      <td>4.3</td>\n",
       "      <td>0.0</td>\n",
       "    </tr>\n",
       "    <tr>\n",
       "      <th>min</th>\n",
       "      <td>4.0</td>\n",
       "      <td>11.6</td>\n",
       "      <td>2.0</td>\n",
       "      <td>0.9</td>\n",
       "      <td>2.0</td>\n",
       "      <td>16.0</td>\n",
       "    </tr>\n",
       "    <tr>\n",
       "      <th>lower_quartile</th>\n",
       "      <td>4.0</td>\n",
       "      <td>14.0</td>\n",
       "      <td>3.0</td>\n",
       "      <td>1.4</td>\n",
       "      <td>8.0</td>\n",
       "      <td>256.0</td>\n",
       "    </tr>\n",
       "    <tr>\n",
       "      <th>median</th>\n",
       "      <td>8.0</td>\n",
       "      <td>15.6</td>\n",
       "      <td>3.0</td>\n",
       "      <td>1.7</td>\n",
       "      <td>8.0</td>\n",
       "      <td>512.0</td>\n",
       "    </tr>\n",
       "    <tr>\n",
       "      <th>upper_quartile</th>\n",
       "      <td>8.0</td>\n",
       "      <td>15.6</td>\n",
       "      <td>3.0</td>\n",
       "      <td>2.0</td>\n",
       "      <td>10.0</td>\n",
       "      <td>1000.0</td>\n",
       "    </tr>\n",
       "    <tr>\n",
       "      <th>max</th>\n",
       "      <td>16.0</td>\n",
       "      <td>17.3</td>\n",
       "      <td>8.0</td>\n",
       "      <td>2.9</td>\n",
       "      <td>11.0</td>\n",
       "      <td>2000.0</td>\n",
       "    </tr>\n",
       "  </tbody>\n",
       "</table>\n",
       "</div>"
      ],
      "text/plain": [
       "                 RAM  Screen  Pin  Weight   gen     SSD\n",
       "missing_ratio    0.0     0.0  8.1     0.0   4.3     0.0\n",
       "min              4.0    11.6  2.0     0.9   2.0    16.0\n",
       "lower_quartile   4.0    14.0  3.0     1.4   8.0   256.0\n",
       "median           8.0    15.6  3.0     1.7   8.0   512.0\n",
       "upper_quartile   8.0    15.6  3.0     2.0  10.0  1000.0\n",
       "max             16.0    17.3  8.0     2.9  11.0  2000.0"
      ]
     },
     "execution_count": 20,
     "metadata": {},
     "output_type": "execute_result"
    }
   ],
   "source": [
    "num_cols = ['RAM', 'Screen', 'Pin', 'Weight','gen','SSD']\n",
    "df = fewer_cols_train_X_df[num_cols]\n",
    "def missing_ratio(df):\n",
    "    return (df.isna().mean() * 100).round(1)\n",
    "def lower_quartile(df):\n",
    "    return df.quantile(0.25).round(1)\n",
    "def median(df):\n",
    "    return df.quantile(0.5).round(1)\n",
    "def upper_quartile(df):\n",
    "    return df.quantile(0.75).round(1)\n",
    "df.agg([missing_ratio, 'min', lower_quartile, median, upper_quartile, 'max'])"
   ]
  },
  {
   "cell_type": "markdown",
   "metadata": {},
   "source": [
    "### Với mỗi cột input có kiểu dữ liệu không phải dạng số, các giá trị được phân bố như thế nào?"
   ]
  },
  {
   "cell_type": "code",
   "execution_count": 21,
   "metadata": {},
   "outputs": [
    {
     "data": {
      "text/html": [
       "<div>\n",
       "<style scoped>\n",
       "    .dataframe tbody tr th:only-of-type {\n",
       "        vertical-align: middle;\n",
       "    }\n",
       "\n",
       "    .dataframe tbody tr th {\n",
       "        vertical-align: top;\n",
       "    }\n",
       "\n",
       "    .dataframe thead th {\n",
       "        text-align: right;\n",
       "    }\n",
       "</style>\n",
       "<table border=\"1\" class=\"dataframe\">\n",
       "  <thead>\n",
       "    <tr style=\"text-align: right;\">\n",
       "      <th></th>\n",
       "      <th>Security</th>\n",
       "      <th>GraphicChip</th>\n",
       "      <th>Brand</th>\n",
       "      <th>CPUs</th>\n",
       "      <th>chipCPU</th>\n",
       "    </tr>\n",
       "  </thead>\n",
       "  <tbody>\n",
       "    <tr>\n",
       "      <th>missing_ratio</th>\n",
       "      <td>0</td>\n",
       "      <td>1.6</td>\n",
       "      <td>0</td>\n",
       "      <td>0</td>\n",
       "      <td>0</td>\n",
       "    </tr>\n",
       "    <tr>\n",
       "      <th>num_values</th>\n",
       "      <td>2</td>\n",
       "      <td>4</td>\n",
       "      <td>8</td>\n",
       "      <td>7</td>\n",
       "      <td>4</td>\n",
       "    </tr>\n",
       "    <tr>\n",
       "      <th>value_ratios</th>\n",
       "      <td>{'Yes': 52.8, 'No': 47.2}</td>\n",
       "      <td>{'Intel': 56.2, 'NVIDIA': 31.9, 'AMD': 8.6, 'S...</td>\n",
       "      <td>{'ASUS': 26.3, 'HP': 20.0, 'ACER': 16.6, 'Dell...</td>\n",
       "      <td>{'Core i5 ': 47.0, 'Core i3 ': 20.2, 'Core i7 ...</td>\n",
       "      <td>{'U': 51.5, 'G': 21.1, 'H': 20.0, 'Others': 7.4}</td>\n",
       "    </tr>\n",
       "  </tbody>\n",
       "</table>\n",
       "</div>"
      ],
      "text/plain": [
       "                                Security  \\\n",
       "missing_ratio                          0   \n",
       "num_values                             2   \n",
       "value_ratios   {'Yes': 52.8, 'No': 47.2}   \n",
       "\n",
       "                                                     GraphicChip  \\\n",
       "missing_ratio                                                1.6   \n",
       "num_values                                                     4   \n",
       "value_ratios   {'Intel': 56.2, 'NVIDIA': 31.9, 'AMD': 8.6, 'S...   \n",
       "\n",
       "                                                           Brand  \\\n",
       "missing_ratio                                                  0   \n",
       "num_values                                                     8   \n",
       "value_ratios   {'ASUS': 26.3, 'HP': 20.0, 'ACER': 16.6, 'Dell...   \n",
       "\n",
       "                                                            CPUs  \\\n",
       "missing_ratio                                                  0   \n",
       "num_values                                                     7   \n",
       "value_ratios   {'Core i5 ': 47.0, 'Core i3 ': 20.2, 'Core i7 ...   \n",
       "\n",
       "                                                        chipCPU  \n",
       "missing_ratio                                                 0  \n",
       "num_values                                                    4  \n",
       "value_ratios   {'U': 51.5, 'G': 21.1, 'H': 20.0, 'Others': 7.4}  "
      ]
     },
     "execution_count": 21,
     "metadata": {},
     "output_type": "execute_result"
    }
   ],
   "source": [
    "cat_cols = list(set(fewer_cols_train_X_df.columns) - set(num_cols))\n",
    "df = fewer_cols_train_X_df[cat_cols]\n",
    "df.agg([missing_ratio, num_values, value_ratios])"
   ]
  },
  {
   "cell_type": "markdown",
   "metadata": {},
   "source": [
    "### Các bước tiền xử lý tiếp theo như sau:\n",
    "\n",
    " - Với các cột dạng số, ta sẽ điền giá trị thiếu bằng giá trị mean của cột.\n",
    " - Với các cột không phải dạng số ta sẽ điền giá trị thiếu bằng giá trị mode (giá trị xuất hiện nhiều nhất) của cột. Sau đó, ta sẽ chuyển sang dạng số bằng phương pháp mã hóa one-hot (vì các cột này đều có dạng nominal).\n",
    " - Cuối cùng, khi tất cả các cột đã được điền giá trị thiếu và đã có dạng số, ta sẽ tiến hành chuẩn hóa."
   ]
  },
  {
   "cell_type": "code",
   "execution_count": 22,
   "metadata": {},
   "outputs": [],
   "source": [
    "nume_cols = ['RAM','gen','SSD','Screen','Weight','Pin']\n",
    "unorder_cate_cols = ['GraphicChip', 'Brand','Security','CPUs','chipCPU']\n",
    "\n",
    "# YOUR CODE HERE\n",
    "mean_numcols = SimpleImputer(missing_values = np.nan, strategy = 'mean')\n",
    "mode_ordercols = SimpleImputer(missing_values = np.nan, strategy = 'most_frequent')\n",
    "mode_unordercols = make_pipeline(mode_ordercols, OneHotEncoder(handle_unknown='ignore'))\n",
    "\n",
    "col_transform = ColumnTransformer([('nume_cols', mean_numcols, nume_cols),\\\n",
    "                                ('unorder_cate_cols', mode_unordercols,unorder_cate_cols)])\n",
    "\n",
    "preprocess_pipeline = make_pipeline(col_adderdropper,col_transform,StandardScaler())\n",
    "preprocessed_train_X = preprocess_pipeline.fit_transform(train_X_df)"
   ]
  },
  {
   "cell_type": "code",
   "execution_count": 23,
   "metadata": {},
   "outputs": [
    {
     "data": {
      "text/plain": [
       "(555, 31)"
      ]
     },
     "execution_count": 23,
     "metadata": {},
     "output_type": "execute_result"
    }
   ],
   "source": [
    "preprocessed_train_X.shape"
   ]
  },
  {
   "cell_type": "code",
   "execution_count": 24,
   "metadata": {},
   "outputs": [
    {
     "data": {
      "text/html": [
       "<style>div.sk-top-container {color: black;background-color: white;}div.sk-toggleable {background-color: white;}label.sk-toggleable__label {cursor: pointer;display: block;width: 100%;margin-bottom: 0;padding: 0.2em 0.3em;box-sizing: border-box;text-align: center;}div.sk-toggleable__content {max-height: 0;max-width: 0;overflow: hidden;text-align: left;background-color: #f0f8ff;}div.sk-toggleable__content pre {margin: 0.2em;color: black;border-radius: 0.25em;background-color: #f0f8ff;}input.sk-toggleable__control:checked~div.sk-toggleable__content {max-height: 200px;max-width: 100%;overflow: auto;}div.sk-estimator input.sk-toggleable__control:checked~label.sk-toggleable__label {background-color: #d4ebff;}div.sk-label input.sk-toggleable__control:checked~label.sk-toggleable__label {background-color: #d4ebff;}input.sk-hidden--visually {border: 0;clip: rect(1px 1px 1px 1px);clip: rect(1px, 1px, 1px, 1px);height: 1px;margin: -1px;overflow: hidden;padding: 0;position: absolute;width: 1px;}div.sk-estimator {font-family: monospace;background-color: #f0f8ff;margin: 0.25em 0.25em;border: 1px dotted black;border-radius: 0.25em;box-sizing: border-box;}div.sk-estimator:hover {background-color: #d4ebff;}div.sk-parallel-item::after {content: \"\";width: 100%;border-bottom: 1px solid gray;flex-grow: 1;}div.sk-label:hover label.sk-toggleable__label {background-color: #d4ebff;}div.sk-serial::before {content: \"\";position: absolute;border-left: 1px solid gray;box-sizing: border-box;top: 2em;bottom: 0;left: 50%;}div.sk-serial {display: flex;flex-direction: column;align-items: center;background-color: white;}div.sk-item {z-index: 1;}div.sk-parallel {display: flex;align-items: stretch;justify-content: center;background-color: white;}div.sk-parallel-item {display: flex;flex-direction: column;position: relative;background-color: white;}div.sk-parallel-item:first-child::after {align-self: flex-end;width: 50%;}div.sk-parallel-item:last-child::after {align-self: flex-start;width: 50%;}div.sk-parallel-item:only-child::after {width: 0;}div.sk-dashed-wrapped {border: 1px dashed gray;margin: 0.2em;box-sizing: border-box;padding-bottom: 0.1em;background-color: white;position: relative;}div.sk-label label {font-family: monospace;font-weight: bold;background-color: white;display: inline-block;line-height: 1.2em;}div.sk-label-container {position: relative;z-index: 2;text-align: center;}div.sk-container {display: inline-block;position: relative;}</style><div class=\"sk-top-container\"><div class=\"sk-container\"><div class=\"sk-item sk-dashed-wrapped\"><div class=\"sk-label-container\"><div class=\"sk-label sk-toggleable\"><input class=\"sk-toggleable__control sk-hidden--visually\" id=\"936a04a2-269c-46bd-a552-1626603f1791\" type=\"checkbox\" ><label class=\"sk-toggleable__label\" for=\"936a04a2-269c-46bd-a552-1626603f1791\">Pipeline</label><div class=\"sk-toggleable__content\"><pre>Pipeline(steps=[('coladderdropper', ColAdderDropper()),\n",
       "                ('columntransformer',\n",
       "                 ColumnTransformer(transformers=[('nume_cols', SimpleImputer(),\n",
       "                                                  ['RAM', 'gen', 'SSD',\n",
       "                                                   'Screen', 'Weight', 'Pin']),\n",
       "                                                 ('unorder_cate_cols',\n",
       "                                                  Pipeline(steps=[('simpleimputer',\n",
       "                                                                   SimpleImputer(strategy='most_frequent')),\n",
       "                                                                  ('onehotencoder',\n",
       "                                                                   OneHotEncoder(handle_unknown='ignore'))]),\n",
       "                                                  ['GraphicChip', 'Brand',\n",
       "                                                   'Security', 'CPUs',\n",
       "                                                   'chipCPU'])])),\n",
       "                ('standardscaler', StandardScaler())])</pre></div></div></div><div class=\"sk-serial\"><div class=\"sk-item\"><div class=\"sk-estimator sk-toggleable\"><input class=\"sk-toggleable__control sk-hidden--visually\" id=\"c0149671-abf9-4f20-b966-3f41ca0488ec\" type=\"checkbox\" ><label class=\"sk-toggleable__label\" for=\"c0149671-abf9-4f20-b966-3f41ca0488ec\">ColAdderDropper</label><div class=\"sk-toggleable__content\"><pre>ColAdderDropper()</pre></div></div></div><div class=\"sk-item sk-dashed-wrapped\"><div class=\"sk-label-container\"><div class=\"sk-label sk-toggleable\"><input class=\"sk-toggleable__control sk-hidden--visually\" id=\"afc8bcff-df87-4872-978e-e9107f2cac27\" type=\"checkbox\" ><label class=\"sk-toggleable__label\" for=\"afc8bcff-df87-4872-978e-e9107f2cac27\">columntransformer: ColumnTransformer</label><div class=\"sk-toggleable__content\"><pre>ColumnTransformer(transformers=[('nume_cols', SimpleImputer(),\n",
       "                                 ['RAM', 'gen', 'SSD', 'Screen', 'Weight',\n",
       "                                  'Pin']),\n",
       "                                ('unorder_cate_cols',\n",
       "                                 Pipeline(steps=[('simpleimputer',\n",
       "                                                  SimpleImputer(strategy='most_frequent')),\n",
       "                                                 ('onehotencoder',\n",
       "                                                  OneHotEncoder(handle_unknown='ignore'))]),\n",
       "                                 ['GraphicChip', 'Brand', 'Security', 'CPUs',\n",
       "                                  'chipCPU'])])</pre></div></div></div><div class=\"sk-parallel\"><div class=\"sk-parallel-item\"><div class=\"sk-item\"><div class=\"sk-label-container\"><div class=\"sk-label sk-toggleable\"><input class=\"sk-toggleable__control sk-hidden--visually\" id=\"35c03c87-2c6a-47a3-810e-b51cb1fc6fb1\" type=\"checkbox\" ><label class=\"sk-toggleable__label\" for=\"35c03c87-2c6a-47a3-810e-b51cb1fc6fb1\">nume_cols</label><div class=\"sk-toggleable__content\"><pre>['RAM', 'gen', 'SSD', 'Screen', 'Weight', 'Pin']</pre></div></div></div><div class=\"sk-serial\"><div class=\"sk-item\"><div class=\"sk-estimator sk-toggleable\"><input class=\"sk-toggleable__control sk-hidden--visually\" id=\"17e0082d-778c-41ec-a73a-66f987ce2628\" type=\"checkbox\" ><label class=\"sk-toggleable__label\" for=\"17e0082d-778c-41ec-a73a-66f987ce2628\">SimpleImputer</label><div class=\"sk-toggleable__content\"><pre>SimpleImputer()</pre></div></div></div></div></div></div><div class=\"sk-parallel-item\"><div class=\"sk-item\"><div class=\"sk-label-container\"><div class=\"sk-label sk-toggleable\"><input class=\"sk-toggleable__control sk-hidden--visually\" id=\"adeb55e0-7cbc-4344-9e55-f63084ad83bc\" type=\"checkbox\" ><label class=\"sk-toggleable__label\" for=\"adeb55e0-7cbc-4344-9e55-f63084ad83bc\">unorder_cate_cols</label><div class=\"sk-toggleable__content\"><pre>['GraphicChip', 'Brand', 'Security', 'CPUs', 'chipCPU']</pre></div></div></div><div class=\"sk-serial\"><div class=\"sk-item\"><div class=\"sk-serial\"><div class=\"sk-item\"><div class=\"sk-estimator sk-toggleable\"><input class=\"sk-toggleable__control sk-hidden--visually\" id=\"ba83b055-73d4-4595-83f5-c983021e3c2b\" type=\"checkbox\" ><label class=\"sk-toggleable__label\" for=\"ba83b055-73d4-4595-83f5-c983021e3c2b\">SimpleImputer</label><div class=\"sk-toggleable__content\"><pre>SimpleImputer(strategy='most_frequent')</pre></div></div></div><div class=\"sk-item\"><div class=\"sk-estimator sk-toggleable\"><input class=\"sk-toggleable__control sk-hidden--visually\" id=\"5e384039-7cdf-4e8b-886b-f0cfcedb8053\" type=\"checkbox\" ><label class=\"sk-toggleable__label\" for=\"5e384039-7cdf-4e8b-886b-f0cfcedb8053\">OneHotEncoder</label><div class=\"sk-toggleable__content\"><pre>OneHotEncoder(handle_unknown='ignore')</pre></div></div></div></div></div></div></div></div></div></div><div class=\"sk-item\"><div class=\"sk-estimator sk-toggleable\"><input class=\"sk-toggleable__control sk-hidden--visually\" id=\"8fb25c4c-33d8-4091-83b5-6738907ea924\" type=\"checkbox\" ><label class=\"sk-toggleable__label\" for=\"8fb25c4c-33d8-4091-83b5-6738907ea924\">StandardScaler</label><div class=\"sk-toggleable__content\"><pre>StandardScaler()</pre></div></div></div></div></div></div></div>"
      ],
      "text/plain": [
       "Pipeline(steps=[('coladderdropper', ColAdderDropper()),\n",
       "                ('columntransformer',\n",
       "                 ColumnTransformer(transformers=[('nume_cols', SimpleImputer(),\n",
       "                                                  ['RAM', 'gen', 'SSD',\n",
       "                                                   'Screen', 'Weight', 'Pin']),\n",
       "                                                 ('unorder_cate_cols',\n",
       "                                                  Pipeline(steps=[('simpleimputer',\n",
       "                                                                   SimpleImputer(strategy='most_frequent')),\n",
       "                                                                  ('onehotencoder',\n",
       "                                                                   OneHotEncoder(handle_unknown='ignore'))]),\n",
       "                                                  ['GraphicChip', 'Brand',\n",
       "                                                   'Security', 'CPUs',\n",
       "                                                   'chipCPU'])])),\n",
       "                ('standardscaler', StandardScaler())])"
      ]
     },
     "execution_count": 24,
     "metadata": {},
     "output_type": "execute_result"
    }
   ],
   "source": [
    "preprocess_pipeline"
   ]
  },
  {
   "cell_type": "markdown",
   "metadata": {},
   "source": [
    "## Phần 7: Tiền xử lý + mô hình hóa"
   ]
  },
  {
   "cell_type": "markdown",
   "metadata": {},
   "source": [
    "### Tìm mô hình tốt nhất"
   ]
  },
  {
   "cell_type": "markdown",
   "metadata": {},
   "source": [
    "Sử dụng độ do **R-Squared** cho mô hình hồi quy."
   ]
  },
  {
   "cell_type": "code",
   "execution_count": 25,
   "metadata": {},
   "outputs": [],
   "source": [
    "# Tính độ đo r^2 trên tập huấn luyện\n",
    "def compute_mse(y, preds):\n",
    "    return ((y - preds) ** 2).mean()\n",
    "def compute_rr(y, preds, baseline_preds):\n",
    "    return 1 - compute_mse(y, preds) / compute_mse(y, baseline_preds)\n",
    "baseline_preds = train_y_sr.mean()"
   ]
  },
  {
   "cell_type": "markdown",
   "metadata": {},
   "source": [
    "#### Mô hình SGDRegressor"
   ]
  },
  {
   "cell_type": "markdown",
   "metadata": {},
   "source": [
    " * Tham số: random_state=0\n",
    " * Siêu tham số alpha với 5 giá trị khác nhau.\n",
    " * Tham số num_top_cpus với 6 giá trị khác nhau."
   ]
  },
  {
   "cell_type": "code",
   "execution_count": 26,
   "metadata": {},
   "outputs": [
    {
     "data": {
      "text/plain": [
       "'Finish!'"
      ]
     },
     "execution_count": 26,
     "metadata": {},
     "output_type": "execute_result"
    }
   ],
   "source": [
    "SGD_Regressort_model =  SGDRegressor(random_state=0)\n",
    "full_pipeline1 = make_pipeline(col_adderdropper, col_transform, StandardScaler(), SGD_Regressort_model)\n",
    "\n",
    "# Thử nghiệm với các giá trị khác nhau của các siêu tham số\n",
    "# và chọn ra các giá trị tốt nhất\n",
    "train_errs1 = []\n",
    "val_errs1 = []\n",
    "alphas = [0.01, 0.1, 1, 10, 100]\n",
    "num_top_cpus_s = [1,3,5,6,8,9]\n",
    "best_val_err1 = float('inf'); best_alpha1 = None; best_num_top_cpus1 = None\n",
    "for alpha in alphas:\n",
    "    for num_top_cpus in num_top_cpus_s:\n",
    "        full_pipeline1.set_params(coladderdropper__num_top_cpus = num_top_cpus,coladderdropper__num_top_chipCPU = 3, sgdregressor__alpha=alpha)\n",
    "        full_pipeline1.fit(train_X_df, train_y_sr)\n",
    "\n",
    "        train_errs1.append(100 - compute_rr(train_y_sr, full_pipeline1.predict(train_X_df), baseline_preds) * 100)\n",
    "        val_errs1.append(100 - compute_rr(val_y_sr, full_pipeline1.predict(val_X_df), baseline_preds) * 100)\n",
    "\n",
    "        \n",
    "        \n",
    "        if val_errs1[-1] < best_val_err1:\n",
    "            best_val_err1 = val_errs1[-1]\n",
    "            best_alpha1 = alpha\n",
    "            best_num_top_cpus1 = num_top_cpus\n",
    "\n",
    "'Finish!'"
   ]
  },
  {
   "cell_type": "code",
   "execution_count": 27,
   "metadata": {},
   "outputs": [
    {
     "data": {
      "image/png": "[encoded data removed]",
      "text/plain": [
       "<Figure size 720x360 with 2 Axes>"
      ]
     },
     "metadata": {
      "needs_background": "light"
     },
     "output_type": "display_data"
    }
   ],
   "source": [
    "# Trực quan hóa kết quả\n",
    "train_errs_df = pd.DataFrame(data=np.array(train_errs1).reshape(len(alphas), -1),\n",
    "                             index=alphas, columns=num_top_cpus_s)\n",
    "val_errs_df = pd.DataFrame(data=np.array(val_errs1).reshape(len(alphas), -1), \n",
    "                           index=alphas, columns=num_top_cpus_s)\n",
    "min_err = min(min(train_errs1), min(val_errs1))\n",
    "max_err = max(max(train_errs1), max(val_errs1))\n",
    "plt.figure(figsize=(10, 5))\n",
    "plt.subplot(1, 2, 1)\n",
    "sns.heatmap(train_errs_df, vmin=min_err, vmax=max_err, square=True, annot=True, \n",
    "            cbar=False, fmt='.1f', cmap='Reds')\n",
    "plt.title('train errors'); plt.xlabel('num_top_cpus'); plt.ylabel('alpha')\n",
    "plt.subplot(1, 2, 2)\n",
    "sns.heatmap(val_errs_df, vmin=min_err, vmax=max_err, square=True, annot=True, \n",
    "            cbar=False, fmt='.1f', cmap='Reds')\n",
    "plt.title('validation errors'); plt.xlabel('num_top_cpus'); plt.ylabel('alpha');"
   ]
  },
  {
   "cell_type": "code",
   "execution_count": 28,
   "metadata": {},
   "outputs": [
    {
     "name": "stdout",
     "output_type": "stream",
     "text": [
      "15.234459221114932\n",
      "9\n",
      "0.1\n"
     ]
    }
   ],
   "source": [
    "print(best_val_err1)\n",
    "print(best_num_top_cpus1)\n",
    "print(best_alpha1)"
   ]
  },
  {
   "cell_type": "markdown",
   "metadata": {},
   "source": [
    "### Mô hình RandomforestRegressor"
   ]
  },
  {
   "cell_type": "code",
   "execution_count": 44,
   "metadata": {},
   "outputs": [
    {
     "data": {
      "text/plain": [
       "'Finish!'"
      ]
     },
     "execution_count": 44,
     "metadata": {},
     "output_type": "execute_result"
    }
   ],
   "source": [
    "RandomForest_Regressorneural_model = RandomForestRegressor()\n",
    "full_pipeline3 = make_pipeline(col_adderdropper, col_transform, StandardScaler(), RandomForest_Regressorneural_model)\n",
    "\n",
    "train_errs3 = []\n",
    "val_errs3 = []\n",
    "num_top_cpus_s = [1,3,6,8,9]\n",
    "max_depths = [16, 32, 64, 128, 256]\n",
    "best_val_err3 = float('inf');  best_num_top_cpus3 = None;  best_depth3 = None;\n",
    "\n",
    "\n",
    "for max_depth in max_depths:\n",
    "    for num_top_cpus in num_top_cpus_s:\n",
    "        full_pipeline3.set_params(coladderdropper__num_top_cpus = num_top_cpus,coladderdropper__num_top_chipCPU = 3, randomforestregressor__max_depth = max_depth)\n",
    "        full_pipeline3.fit(train_X_df, train_y_sr)\n",
    "\n",
    "        train_errs3.append(100 - compute_rr(train_y_sr, full_pipeline3.predict(train_X_df), baseline_preds) * 100)\n",
    "        val_errs3.append(100 - compute_rr(val_y_sr, full_pipeline3.predict(val_X_df), baseline_preds) * 100)\n",
    "\n",
    "        if val_errs3[-1] < best_val_err3:\n",
    "            best_val_err3 = val_errs3[-1]\n",
    "            best_depth3 = max_depth\n",
    "            best_num_top_cpus3 = num_top_cpus\n",
    "\n",
    "'Finish!'"
   ]
  },
  {
   "cell_type": "code",
   "execution_count": 57,
   "metadata": {},
   "outputs": [
    {
     "data": {
      "image/png": "[encoded data removed]",
      "text/plain": [
       "<Figure size 720x360 with 2 Axes>"
      ]
     },
     "metadata": {
      "needs_background": "light"
     },
     "output_type": "display_data"
    }
   ],
   "source": [
    "# Trực quan hóa kết quả\n",
    "train_errs_df = pd.DataFrame(data=np.array(train_errs3).reshape(len(max_depths), -1),\n",
    "                             index=max_depths, columns=num_top_cpus_s)\n",
    "val_errs_df = pd.DataFrame(data=np.array(val_errs3).reshape(len(max_depths), -1), \n",
    "                           index=max_depths, columns=num_top_cpus_s)\n",
    "min_err = min(min(train_errs3), min(val_errs3))\n",
    "max_err = max(max(train_errs3), max(val_errs3))\n",
    "plt.figure(figsize=(10, 5))\n",
    "plt.subplot(1, 2, 1)\n",
    "sns.heatmap(train_errs_df, vmin=min_err, vmax=max_err, square=True, annot=True, \n",
    "            cbar=False, fmt='.5f', cmap='Reds')\n",
    "plt.title('train errors'); plt.ylabel('best_depth'); plt.xlabel('num_top_cpus_s');\n",
    "plt.subplot(1, 2, 2)\n",
    "sns.heatmap(val_errs_df, vmin=min_err, vmax=max_err, square=True, annot=True, \n",
    "            cbar=False, fmt='.5f', cmap='Reds')\n",
    "plt.title('validation errors'); plt.ylabel('best_depth'); plt.xlabel('num_top_cpus_s');"
   ]
  },
  {
   "cell_type": "code",
   "execution_count": 53,
   "metadata": {},
   "outputs": [
    {
     "name": "stdout",
     "output_type": "stream",
     "text": [
      "11.717595539953123\n",
      "9\n",
      "64\n"
     ]
    }
   ],
   "source": [
    "print(best_val_err3)\n",
    "print(best_num_top_cpus3)\n",
    "print(best_depth3)"
   ]
  },
  {
   "cell_type": "code",
   "execution_count": 39,
   "metadata": {},
   "outputs": [
    {
     "data": {
      "text/plain": [
       "(674,)"
      ]
     },
     "execution_count": 39,
     "metadata": {},
     "output_type": "execute_result"
    }
   ],
   "source": []
  },
  {
   "cell_type": "markdown",
   "metadata": {},
   "source": [
    "### Đánh giá kết quả trên tập validation của mô hình thu được"
   ]
  },
  {
   "cell_type": "code",
   "execution_count": 55,
   "metadata": {},
   "outputs": [
    {
     "data": {
      "text/html": [
       "<style>div.sk-top-container {color: black;background-color: white;}div.sk-toggleable {background-color: white;}label.sk-toggleable__label {cursor: pointer;display: block;width: 100%;margin-bottom: 0;padding: 0.2em 0.3em;box-sizing: border-box;text-align: center;}div.sk-toggleable__content {max-height: 0;max-width: 0;overflow: hidden;text-align: left;background-color: #f0f8ff;}div.sk-toggleable__content pre {margin: 0.2em;color: black;border-radius: 0.25em;background-color: #f0f8ff;}input.sk-toggleable__control:checked~div.sk-toggleable__content {max-height: 200px;max-width: 100%;overflow: auto;}div.sk-estimator input.sk-toggleable__control:checked~label.sk-toggleable__label {background-color: #d4ebff;}div.sk-label input.sk-toggleable__control:checked~label.sk-toggleable__label {background-color: #d4ebff;}input.sk-hidden--visually {border: 0;clip: rect(1px 1px 1px 1px);clip: rect(1px, 1px, 1px, 1px);height: 1px;margin: -1px;overflow: hidden;padding: 0;position: absolute;width: 1px;}div.sk-estimator {font-family: monospace;background-color: #f0f8ff;margin: 0.25em 0.25em;border: 1px dotted black;border-radius: 0.25em;box-sizing: border-box;}div.sk-estimator:hover {background-color: #d4ebff;}div.sk-parallel-item::after {content: \"\";width: 100%;border-bottom: 1px solid gray;flex-grow: 1;}div.sk-label:hover label.sk-toggleable__label {background-color: #d4ebff;}div.sk-serial::before {content: \"\";position: absolute;border-left: 1px solid gray;box-sizing: border-box;top: 2em;bottom: 0;left: 50%;}div.sk-serial {display: flex;flex-direction: column;align-items: center;background-color: white;}div.sk-item {z-index: 1;}div.sk-parallel {display: flex;align-items: stretch;justify-content: center;background-color: white;}div.sk-parallel-item {display: flex;flex-direction: column;position: relative;background-color: white;}div.sk-parallel-item:first-child::after {align-self: flex-end;width: 50%;}div.sk-parallel-item:last-child::after {align-self: flex-start;width: 50%;}div.sk-parallel-item:only-child::after {width: 0;}div.sk-dashed-wrapped {border: 1px dashed gray;margin: 0.2em;box-sizing: border-box;padding-bottom: 0.1em;background-color: white;position: relative;}div.sk-label label {font-family: monospace;font-weight: bold;background-color: white;display: inline-block;line-height: 1.2em;}div.sk-label-container {position: relative;z-index: 2;text-align: center;}div.sk-container {display: inline-block;position: relative;}</style><div class=\"sk-top-container\"><div class=\"sk-container\"><div class=\"sk-item sk-dashed-wrapped\"><div class=\"sk-label-container\"><div class=\"sk-label sk-toggleable\"><input class=\"sk-toggleable__control sk-hidden--visually\" id=\"9da75f5c-03ad-4849-99b1-b066a88af4dc\" type=\"checkbox\" ><label class=\"sk-toggleable__label\" for=\"9da75f5c-03ad-4849-99b1-b066a88af4dc\">Pipeline</label><div class=\"sk-toggleable__content\"><pre>Pipeline(steps=[('coladderdropper', ColAdderDropper(num_top_cpus=9)),\n",
       "                ('columntransformer',\n",
       "                 ColumnTransformer(transformers=[('nume_cols', SimpleImputer(),\n",
       "                                                  ['RAM', 'gen', 'SSD',\n",
       "                                                   'Screen', 'Weight', 'Pin']),\n",
       "                                                 ('unorder_cate_cols',\n",
       "                                                  Pipeline(steps=[('simpleimputer',\n",
       "                                                                   SimpleImputer(strategy='most_frequent')),\n",
       "                                                                  ('onehotencoder',\n",
       "                                                                   OneHotEncoder(handle_unknown='ignore'))]),\n",
       "                                                  ['GraphicChip', 'Brand',\n",
       "                                                   'Security', 'CPUs',\n",
       "                                                   'chipCPU'])])),\n",
       "                ('standardscaler', StandardScaler()),\n",
       "                ('randomforestregressor', RandomForestRegressor(max_depth=64))])</pre></div></div></div><div class=\"sk-serial\"><div class=\"sk-item\"><div class=\"sk-estimator sk-toggleable\"><input class=\"sk-toggleable__control sk-hidden--visually\" id=\"efcdcff2-5e1d-44d4-a3fd-a2d316f30642\" type=\"checkbox\" ><label class=\"sk-toggleable__label\" for=\"efcdcff2-5e1d-44d4-a3fd-a2d316f30642\">ColAdderDropper</label><div class=\"sk-toggleable__content\"><pre>ColAdderDropper(num_top_cpus=9)</pre></div></div></div><div class=\"sk-item sk-dashed-wrapped\"><div class=\"sk-label-container\"><div class=\"sk-label sk-toggleable\"><input class=\"sk-toggleable__control sk-hidden--visually\" id=\"9fa4b9ca-4c17-4a33-8224-31e13415c68b\" type=\"checkbox\" ><label class=\"sk-toggleable__label\" for=\"9fa4b9ca-4c17-4a33-8224-31e13415c68b\">columntransformer: ColumnTransformer</label><div class=\"sk-toggleable__content\"><pre>ColumnTransformer(transformers=[('nume_cols', SimpleImputer(),\n",
       "                                 ['RAM', 'gen', 'SSD', 'Screen', 'Weight',\n",
       "                                  'Pin']),\n",
       "                                ('unorder_cate_cols',\n",
       "                                 Pipeline(steps=[('simpleimputer',\n",
       "                                                  SimpleImputer(strategy='most_frequent')),\n",
       "                                                 ('onehotencoder',\n",
       "                                                  OneHotEncoder(handle_unknown='ignore'))]),\n",
       "                                 ['GraphicChip', 'Brand', 'Security', 'CPUs',\n",
       "                                  'chipCPU'])])</pre></div></div></div><div class=\"sk-parallel\"><div class=\"sk-parallel-item\"><div class=\"sk-item\"><div class=\"sk-label-container\"><div class=\"sk-label sk-toggleable\"><input class=\"sk-toggleable__control sk-hidden--visually\" id=\"c9004cd6-892a-41ec-ab25-bcf1700b4884\" type=\"checkbox\" ><label class=\"sk-toggleable__label\" for=\"c9004cd6-892a-41ec-ab25-bcf1700b4884\">nume_cols</label><div class=\"sk-toggleable__content\"><pre>['RAM', 'gen', 'SSD', 'Screen', 'Weight', 'Pin']</pre></div></div></div><div class=\"sk-serial\"><div class=\"sk-item\"><div class=\"sk-estimator sk-toggleable\"><input class=\"sk-toggleable__control sk-hidden--visually\" id=\"d2d19267-de99-4c20-a9e8-c4e712e83f59\" type=\"checkbox\" ><label class=\"sk-toggleable__label\" for=\"d2d19267-de99-4c20-a9e8-c4e712e83f59\">SimpleImputer</label><div class=\"sk-toggleable__content\"><pre>SimpleImputer()</pre></div></div></div></div></div></div><div class=\"sk-parallel-item\"><div class=\"sk-item\"><div class=\"sk-label-container\"><div class=\"sk-label sk-toggleable\"><input class=\"sk-toggleable__control sk-hidden--visually\" id=\"f3ba1211-da10-4c87-acb5-0aa629d139e6\" type=\"checkbox\" ><label class=\"sk-toggleable__label\" for=\"f3ba1211-da10-4c87-acb5-0aa629d139e6\">unorder_cate_cols</label><div class=\"sk-toggleable__content\"><pre>['GraphicChip', 'Brand', 'Security', 'CPUs', 'chipCPU']</pre></div></div></div><div class=\"sk-serial\"><div class=\"sk-item\"><div class=\"sk-serial\"><div class=\"sk-item\"><div class=\"sk-estimator sk-toggleable\"><input class=\"sk-toggleable__control sk-hidden--visually\" id=\"33bb4ac2-f131-44e6-bb23-a581f7d4062f\" type=\"checkbox\" ><label class=\"sk-toggleable__label\" for=\"33bb4ac2-f131-44e6-bb23-a581f7d4062f\">SimpleImputer</label><div class=\"sk-toggleable__content\"><pre>SimpleImputer(strategy='most_frequent')</pre></div></div></div><div class=\"sk-item\"><div class=\"sk-estimator sk-toggleable\"><input class=\"sk-toggleable__control sk-hidden--visually\" id=\"fefc7ff0-0c5a-4552-9dfa-ec625b7eaf6a\" type=\"checkbox\" ><label class=\"sk-toggleable__label\" for=\"fefc7ff0-0c5a-4552-9dfa-ec625b7eaf6a\">OneHotEncoder</label><div class=\"sk-toggleable__content\"><pre>OneHotEncoder(handle_unknown='ignore')</pre></div></div></div></div></div></div></div></div></div></div><div class=\"sk-item\"><div class=\"sk-estimator sk-toggleable\"><input class=\"sk-toggleable__control sk-hidden--visually\" id=\"25700a5c-c4c6-4360-a04d-f6c24866a64f\" type=\"checkbox\" ><label class=\"sk-toggleable__label\" for=\"25700a5c-c4c6-4360-a04d-f6c24866a64f\">StandardScaler</label><div class=\"sk-toggleable__content\"><pre>StandardScaler()</pre></div></div></div><div class=\"sk-item\"><div class=\"sk-estimator sk-toggleable\"><input class=\"sk-toggleable__control sk-hidden--visually\" id=\"236779e8-dd27-43f6-a229-eff57a63d6e4\" type=\"checkbox\" ><label class=\"sk-toggleable__label\" for=\"236779e8-dd27-43f6-a229-eff57a63d6e4\">RandomForestRegressor</label><div class=\"sk-toggleable__content\"><pre>RandomForestRegressor(max_depth=64)</pre></div></div></div></div></div></div></div>"
      ],
      "text/plain": [
       "Pipeline(steps=[('coladderdropper', ColAdderDropper(num_top_cpus=9)),\n",
       "                ('columntransformer',\n",
       "                 ColumnTransformer(transformers=[('nume_cols', SimpleImputer(),\n",
       "                                                  ['RAM', 'gen', 'SSD',\n",
       "                                                   'Screen', 'Weight', 'Pin']),\n",
       "                                                 ('unorder_cate_cols',\n",
       "                                                  Pipeline(steps=[('simpleimputer',\n",
       "                                                                   SimpleImputer(strategy='most_frequent')),\n",
       "                                                                  ('onehotencoder',\n",
       "                                                                   OneHotEncoder(handle_unknown='ignore'))]),\n",
       "                                                  ['GraphicChip', 'Brand',\n",
       "                                                   'Security', 'CPUs',\n",
       "                                                   'chipCPU'])])),\n",
       "                ('standardscaler', StandardScaler()),\n",
       "                ('randomforestregressor', RandomForestRegressor(max_depth=64))])"
      ]
     },
     "execution_count": 55,
     "metadata": {},
     "output_type": "execute_result"
    }
   ],
   "source": [
    "full_train_X_df = train_X_df.append(val_X_df)\n",
    "full_train_y_sr = train_y_sr.append(val_y_sr)\n",
    "\n",
    "full_pipeline3.set_params(coladderdropper__num_top_cpus = best_num_top_cpus3,coladderdropper__num_top_chipCPU = 3,randomforestregressor__max_depth = best_depth3)\n",
    "full_pipeline3.fit(full_train_X_df, full_train_y_sr)"
   ]
  },
  {
   "cell_type": "code",
   "execution_count": 56,
   "metadata": {},
   "outputs": [
    {
     "data": {
      "text/plain": [
       "0.7919871480299014"
      ]
     },
     "execution_count": 56,
     "metadata": {},
     "output_type": "execute_result"
    }
   ],
   "source": [
    "compute_rr(test_y_sr, full_pipeline3.predict(test_X_df), baseline_preds)\n"
   ]
  },
  {
   "cell_type": "code",
   "execution_count": null,
   "metadata": {},
   "outputs": [],
   "source": []
  }
 ],
 "metadata": {
  "jupytext": {
   "formats": "ipynb,md"
  },
  "kernelspec": {
   "display_name": "Python 3",
   "language": "python",
   "name": "python3"
  },
  "language_info": {
   "codemirror_mode": {
    "name": "ipython",
    "version": 3
   },
   "file_extension": ".py",
   "mimetype": "text/x-python",
   "name": "python",
   "nbconvert_exporter": "python",
   "pygments_lexer": "ipython3",
   "version": "3.8.3"
  }
 },
 "nbformat": 4,
 "nbformat_minor": 4
}
