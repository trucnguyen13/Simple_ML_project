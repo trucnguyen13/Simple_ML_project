{
 "cells": [
  {
   "cell_type": "markdown",
   "metadata": {},
   "source": [
    "\n"
   ]
  },
  {
   "cell_type": "code",
   "execution_count": 1,
   "metadata": {},
   "outputs": [],
   "source": [
    "%matplotlib inline\n",
    "import matplotlib.pyplot as plt\n",
    "import seaborn as sns # seaborn là thư viện được xây trên matplotlib, giúp việc visualization đỡ khổ hơn\n",
    "import pandas as pd\n",
    "import numpy as np\n",
    "\n",
    "from sklearn.model_selection import train_test_split\n",
    "from sklearn.preprocessing import OneHotEncoder, StandardScaler\n",
    "from sklearn.impute import SimpleImputer\n",
    "from sklearn.base import BaseEstimator, TransformerMixin\n",
    "from sklearn.pipeline import Pipeline, make_pipeline\n",
    "from sklearn.compose import ColumnTransformer, make_column_transformer\n",
    "from sklearn.neural_network import MLPClassifier\n",
    "from sklearn.neural_network import MLPRegressor\n",
    "from sklearn import set_config\n",
    "from sklearn.linear_model import SGDRegressor\n",
    "from sklearn.linear_model import TweedieRegressor\n",
    "from sklearn.linear_model import LinearRegression\n",
    "from sklearn import linear_model\n",
    "from sklearn.metrics import accuracy_score\n",
    "from sklearn.neighbors import KNeighborsClassifier  \n",
    "from sklearn.ensemble import RandomForestRegressor\n",
    "import warnings"
   ]
  },
  {
   "cell_type": "code",
   "execution_count": 2,
   "metadata": {},
   "outputs": [],
   "source": [
    "data_df = pd.read_csv('data.csv', sep=',')"
   ]
  },
  {
   "cell_type": "code",
   "execution_count": 3,
   "metadata": {},
   "outputs": [
    {
     "data": {
      "text/html": [
       "<div>\n",
       "<style scoped>\n",
       "    .dataframe tbody tr th:only-of-type {\n",
       "        vertical-align: middle;\n",
       "    }\n",
       "\n",
       "    .dataframe tbody tr th {\n",
       "        vertical-align: top;\n",
       "    }\n",
       "\n",
       "    .dataframe thead th {\n",
       "        text-align: right;\n",
       "    }\n",
       "</style>\n",
       "<table border=\"1\" class=\"dataframe\">\n",
       "  <thead>\n",
       "    <tr style=\"text-align: right;\">\n",
       "      <th></th>\n",
       "      <th>SKU</th>\n",
       "      <th>Title</th>\n",
       "      <th>Price</th>\n",
       "      <th>Brand</th>\n",
       "      <th>Warranty</th>\n",
       "      <th>Color</th>\n",
       "      <th>SeriesLaptop</th>\n",
       "      <th>PartNum</th>\n",
       "      <th>CPUgen</th>\n",
       "      <th>CPU</th>\n",
       "      <th>...</th>\n",
       "      <th>Keyboard</th>\n",
       "      <th>OS</th>\n",
       "      <th>Size</th>\n",
       "      <th>Pin</th>\n",
       "      <th>Weight</th>\n",
       "      <th>LED</th>\n",
       "      <th>Accessories</th>\n",
       "      <th>Security</th>\n",
       "      <th>OptDrive</th>\n",
       "      <th>Feature</th>\n",
       "    </tr>\n",
       "  </thead>\n",
       "  <tbody>\n",
       "    <tr>\n",
       "      <th>0</th>\n",
       "      <td>200900077</td>\n",
       "      <td>Laptop ASUS D509DA EJ800T ( 15.6\" Full HD/AMD ...</td>\n",
       "      <td>10.190.000</td>\n",
       "      <td>ASUS</td>\n",
       "      <td>24</td>\n",
       "      <td>Bạc</td>\n",
       "      <td>NaN</td>\n",
       "      <td>EJ800T</td>\n",
       "      <td>Ryzen 3 , AMD Ryzen thế hệ thứ 3</td>\n",
       "      <td>AMD Ryzen 3 3250U ( 2.6 GHz - 3.5 GHz / 4MB / ...</td>\n",
       "      <td>...</td>\n",
       "      <td>thường , có phím số , không đèn</td>\n",
       "      <td>Windows 10 Home 64-bit</td>\n",
       "      <td>36 x 23.5 x 2.29 cm</td>\n",
       "      <td>2 cell  Pin liền</td>\n",
       "      <td>1.9 kg</td>\n",
       "      <td>không đèn</td>\n",
       "      <td>NaN</td>\n",
       "      <td>NaN</td>\n",
       "      <td>NaN</td>\n",
       "      <td>NaN</td>\n",
       "    </tr>\n",
       "    <tr>\n",
       "      <th>1</th>\n",
       "      <td>201104484</td>\n",
       "      <td>Laptop ASUS Vivobook Flip TM420IA EC155 ( 14\" ...</td>\n",
       "      <td>13.490.000</td>\n",
       "      <td>ASUS</td>\n",
       "      <td>24</td>\n",
       "      <td>Xám</td>\n",
       "      <td>VivoBook</td>\n",
       "      <td>EC155</td>\n",
       "      <td>Ryzen 3 , AMD Ryzen thế hệ thứ 3</td>\n",
       "      <td>AMD Ryzen 3 4300U ( 2.7 GHz - 3.7 GHz / 4MB / ...</td>\n",
       "      <td>...</td>\n",
       "      <td>thường , không phím số , LED</td>\n",
       "      <td>Windows 10 Home 64-bit</td>\n",
       "      <td>32.4 x 22 x 1.82 cm</td>\n",
       "      <td>3 cell  42 Wh , Pin liền</td>\n",
       "      <td>1.5 kg</td>\n",
       "      <td>không đèn</td>\n",
       "      <td>NaN</td>\n",
       "      <td>NaN</td>\n",
       "      <td>NaN</td>\n",
       "      <td>Numberpad ảo tích hợp trên touchpad</td>\n",
       "    </tr>\n",
       "    <tr>\n",
       "      <th>2</th>\n",
       "      <td>200500682</td>\n",
       "      <td>Laptop ASUS TUF Gaming FA506II AL012T ( 15.6\" ...</td>\n",
       "      <td>21.990.000</td>\n",
       "      <td>ASUS</td>\n",
       "      <td>24</td>\n",
       "      <td>Xám</td>\n",
       "      <td>TUF Gaming</td>\n",
       "      <td>AL012T</td>\n",
       "      <td>Ryzen 5 , AMD Ryzen thế hệ thứ 4</td>\n",
       "      <td>AMD Ryzen 5 4600H ( 3.0 GHz - 4.0 GHz / 8MB / ...</td>\n",
       "      <td>...</td>\n",
       "      <td>thường , có phím số , RGB</td>\n",
       "      <td>Windows 10 Home SL 64-bit</td>\n",
       "      <td>35.98 x 25.6 x 2.28 cm</td>\n",
       "      <td>3 cell  48 Wh , Pin liền</td>\n",
       "      <td>2 kg</td>\n",
       "      <td>không đèn</td>\n",
       "      <td>NaN</td>\n",
       "      <td>NaN</td>\n",
       "      <td>NaN</td>\n",
       "      <td>NaN</td>\n",
       "    </tr>\n",
       "    <tr>\n",
       "      <th>3</th>\n",
       "      <td>201100788</td>\n",
       "      <td>Laptop ASUS Vivobook X509JA EJ427T ( 15.6\" Ful...</td>\n",
       "      <td>11.190.000</td>\n",
       "      <td>ASUS</td>\n",
       "      <td>24</td>\n",
       "      <td>Bạc</td>\n",
       "      <td>VivoBook</td>\n",
       "      <td>EJ427T</td>\n",
       "      <td>Core i3 , Intel Core thế hệ thứ 10</td>\n",
       "      <td>Intel Core i3-1005G1 ( 1.2 GHz - 3.4 GHz / 4MB...</td>\n",
       "      <td>...</td>\n",
       "      <td>thường , có phím số , không đèn</td>\n",
       "      <td>Windows 10 Home SL 64-bit</td>\n",
       "      <td>36.02 x 23.49 x 2.29 cm</td>\n",
       "      <td>2 cell  32 Wh , Pin liền</td>\n",
       "      <td>1.7 kg</td>\n",
       "      <td>không đèn</td>\n",
       "      <td>NaN</td>\n",
       "      <td>Vân tay</td>\n",
       "      <td>NaN</td>\n",
       "      <td>NaN</td>\n",
       "    </tr>\n",
       "  </tbody>\n",
       "</table>\n",
       "<p>4 rows × 29 columns</p>\n",
       "</div>"
      ],
      "text/plain": [
       "         SKU                                              Title       Price  \\\n",
       "0  200900077  Laptop ASUS D509DA EJ800T ( 15.6\" Full HD/AMD ...  10.190.000   \n",
       "1  201104484  Laptop ASUS Vivobook Flip TM420IA EC155 ( 14\" ...  13.490.000   \n",
       "2  200500682  Laptop ASUS TUF Gaming FA506II AL012T ( 15.6\" ...  21.990.000   \n",
       "3  201100788  Laptop ASUS Vivobook X509JA EJ427T ( 15.6\" Ful...  11.190.000   \n",
       "\n",
       "  Brand  Warranty Color SeriesLaptop PartNum  \\\n",
       "0  ASUS        24   Bạc          NaN  EJ800T   \n",
       "1  ASUS        24  Xám     VivoBook   EC155   \n",
       "2  ASUS        24  Xám   TUF Gaming  AL012T   \n",
       "3  ASUS        24   Bạc     VivoBook  EJ427T   \n",
       "\n",
       "                               CPUgen  \\\n",
       "0    Ryzen 3 , AMD Ryzen thế hệ thứ 3   \n",
       "1    Ryzen 3 , AMD Ryzen thế hệ thứ 3   \n",
       "2    Ryzen 5 , AMD Ryzen thế hệ thứ 4   \n",
       "3  Core i3 , Intel Core thế hệ thứ 10   \n",
       "\n",
       "                                                 CPU  ...  \\\n",
       "0  AMD Ryzen 3 3250U ( 2.6 GHz - 3.5 GHz / 4MB / ...  ...   \n",
       "1  AMD Ryzen 3 4300U ( 2.7 GHz - 3.7 GHz / 4MB / ...  ...   \n",
       "2  AMD Ryzen 5 4600H ( 3.0 GHz - 4.0 GHz / 8MB / ...  ...   \n",
       "3  Intel Core i3-1005G1 ( 1.2 GHz - 3.4 GHz / 4MB...  ...   \n",
       "\n",
       "                               Keyboard                         OS  \\\n",
       "0  thường , có phím số , không đèn     Windows 10 Home 64-bit   \n",
       "1       thường , không phím số , LED     Windows 10 Home 64-bit   \n",
       "2         thường , có phím số , RGB  Windows 10 Home SL 64-bit   \n",
       "3  thường , có phím số , không đèn  Windows 10 Home SL 64-bit   \n",
       "\n",
       "                      Size                       Pin  Weight         LED  \\\n",
       "0      36 x 23.5 x 2.29 cm          2 cell  Pin liền  1.9 kg  không đèn   \n",
       "1      32.4 x 22 x 1.82 cm  3 cell  42 Wh , Pin liền  1.5 kg  không đèn   \n",
       "2   35.98 x 25.6 x 2.28 cm  3 cell  48 Wh , Pin liền    2 kg  không đèn   \n",
       "3  36.02 x 23.49 x 2.29 cm  2 cell  32 Wh , Pin liền  1.7 kg  không đèn   \n",
       "\n",
       "  Accessories Security OptDrive                              Feature  \n",
       "0         NaN      NaN      NaN                                  NaN  \n",
       "1         NaN      NaN      NaN  Numberpad ảo tích hợp trên touchpad  \n",
       "2         NaN      NaN      NaN                                  NaN  \n",
       "3         NaN  Vân tay      NaN                                  NaN  \n",
       "\n",
       "[4 rows x 29 columns]"
      ]
     },
     "execution_count": 3,
     "metadata": {},
     "output_type": "execute_result"
    }
   ],
   "source": [
    "data_df.head(4)"
   ]
  },
  {
   "cell_type": "code",
   "execution_count": 4,
   "metadata": {},
   "outputs": [],
   "source": [
    "data_df.Price = pd.to_numeric(data_df.Price.str.replace('.', ''), errors='coerce')"
   ]
  },
  {
   "cell_type": "markdown",
   "metadata": {},
   "source": [
    "## Tiền xử lý (tách các tập)"
   ]
  },
  {
   "cell_type": "markdown",
   "metadata": {},
   "source": [
    "- Bây giờ ta sẽ thực hiện bước tiền xử lý là tách tập tập kiểm tra, validation và tập test ra theo tỉ lệ: 70%:15%:15%.\n"
   ]
  },
  {
   "cell_type": "code",
   "execution_count": 5,
   "metadata": {},
   "outputs": [],
   "source": [
    "# Tách X và y\n",
    "y_sr = data_df[\"Price\"] # sr là viết tắt của series\n",
    "X_df = data_df.drop(\"Price\", axis=1)"
   ]
  },
  {
   "cell_type": "code",
   "execution_count": 6,
   "metadata": {},
   "outputs": [],
   "source": [
    "# Tách tập huấn luyện, tập validation và tập test theo tỉ lệ 70%:15%:15%\n",
    "# Tách dữ liệu thu thập thành 2 tập: tập huấn luyện và tập other (validation và test) theo tỉ lệ 70%:30%\n",
    "train_X_df, other_X_df, train_y_sr, other_y_sr = train_test_split(X_df, y_sr, test_size=0.3, random_state=0)\n",
    "\n",
    "# Tách tập other (validation và test) thành 2 tập: tập validation và tập test theo tỉ lệ 50%:50% \n",
    "val_X_df, test_X_df, val_y_sr, test_y_sr = train_test_split(other_X_df, other_y_sr, test_size=0.5, random_state=0)"
   ]
  },
  {
   "cell_type": "code",
   "execution_count": 7,
   "metadata": {},
   "outputs": [
    {
     "data": {
      "text/plain": [
       "((555, 28), (119, 28), (120, 28), (555,), (119,), (120,))"
      ]
     },
     "execution_count": 7,
     "metadata": {},
     "output_type": "execute_result"
    }
   ],
   "source": [
    "train_X_df.shape, val_X_df.shape, test_X_df.shape, train_y_sr.shape, val_y_sr.shape, test_y_sr.shape"
   ]
  },
  {
   "cell_type": "markdown",
   "metadata": {},
   "source": [
    "## Khám phá dữ liệu (tập huấn luyện)"
   ]
  },
  {
   "cell_type": "markdown",
   "metadata": {},
   "source": [
    "### Mỗi cột input hiện đang có kiểu dữ liệu gì?"
   ]
  },
  {
   "cell_type": "code",
   "execution_count": 8,
   "metadata": {},
   "outputs": [
    {
     "data": {
      "text/plain": [
       "SKU               int64\n",
       "Title            object\n",
       "Brand            object\n",
       "Warranty          int64\n",
       "Color            object\n",
       "SeriesLaptop     object\n",
       "PartNum          object\n",
       "CPUgen           object\n",
       "CPU              object\n",
       "GraphicChip      object\n",
       "RAM              object\n",
       "Screen           object\n",
       "Storage          object\n",
       "MaxStoPortNum    object\n",
       "SupportM2        object\n",
       "OutVideoPort     object\n",
       "ConnectPort      object\n",
       "Wireless         object\n",
       "Keyboard         object\n",
       "OS               object\n",
       "Size             object\n",
       "Pin              object\n",
       "Weight           object\n",
       "LED              object\n",
       "Accessories      object\n",
       "Security         object\n",
       "OptDrive         object\n",
       "Feature          object\n",
       "dtype: object"
      ]
     },
     "execution_count": 8,
     "metadata": {},
     "output_type": "execute_result"
    }
   ],
   "source": [
    "train_X_df.dtypes"
   ]
  },
  {
   "cell_type": "markdown",
   "metadata": {},
   "source": [
    "Có vẻ nhiều cột đều có kiểu dữ liệu chưa phù hợp, ta sẽ xử lý xong. "
   ]
  },
  {
   "cell_type": "markdown",
   "metadata": {},
   "source": [
    "### Với mỗi cột input có kiểu dữ liệu không phải dạng số, các giá trị được phân bố như thế nào?"
   ]
  },
  {
   "cell_type": "code",
   "execution_count": 9,
   "metadata": {},
   "outputs": [
    {
     "data": {
      "text/html": [
       "<div>\n",
       "<style scoped>\n",
       "    .dataframe tbody tr th:only-of-type {\n",
       "        vertical-align: middle;\n",
       "    }\n",
       "\n",
       "    .dataframe tbody tr th {\n",
       "        vertical-align: top;\n",
       "    }\n",
       "\n",
       "    .dataframe thead th {\n",
       "        text-align: right;\n",
       "    }\n",
       "</style>\n",
       "<table border=\"1\" class=\"dataframe\">\n",
       "  <thead>\n",
       "    <tr style=\"text-align: right;\">\n",
       "      <th></th>\n",
       "      <th>ConnectPort</th>\n",
       "      <th>CPUgen</th>\n",
       "      <th>Wireless</th>\n",
       "      <th>Pin</th>\n",
       "      <th>Storage</th>\n",
       "      <th>Feature</th>\n",
       "      <th>Keyboard</th>\n",
       "      <th>OutVideoPort</th>\n",
       "      <th>GraphicChip</th>\n",
       "      <th>Color</th>\n",
       "      <th>...</th>\n",
       "      <th>Security</th>\n",
       "      <th>MaxStoPortNum</th>\n",
       "      <th>SupportM2</th>\n",
       "      <th>LED</th>\n",
       "      <th>Screen</th>\n",
       "      <th>Title</th>\n",
       "      <th>Brand</th>\n",
       "      <th>PartNum</th>\n",
       "      <th>OS</th>\n",
       "      <th>Accessories</th>\n",
       "    </tr>\n",
       "  </thead>\n",
       "  <tbody>\n",
       "    <tr>\n",
       "      <th>missing_ratio</th>\n",
       "      <td>0.4</td>\n",
       "      <td>1.4</td>\n",
       "      <td>0.4</td>\n",
       "      <td>0</td>\n",
       "      <td>0</td>\n",
       "      <td>95</td>\n",
       "      <td>0</td>\n",
       "      <td>8.3</td>\n",
       "      <td>1.6</td>\n",
       "      <td>0.9</td>\n",
       "      <td>...</td>\n",
       "      <td>47.2</td>\n",
       "      <td>5</td>\n",
       "      <td>8.1</td>\n",
       "      <td>0.2</td>\n",
       "      <td>0</td>\n",
       "      <td>0</td>\n",
       "      <td>0</td>\n",
       "      <td>1.1</td>\n",
       "      <td>0.2</td>\n",
       "      <td>54.8</td>\n",
       "    </tr>\n",
       "    <tr>\n",
       "      <th>num_values</th>\n",
       "      <td>211</td>\n",
       "      <td>30</td>\n",
       "      <td>14</td>\n",
       "      <td>98</td>\n",
       "      <td>29</td>\n",
       "      <td>23</td>\n",
       "      <td>7</td>\n",
       "      <td>5</td>\n",
       "      <td>90</td>\n",
       "      <td>19</td>\n",
       "      <td>...</td>\n",
       "      <td>3</td>\n",
       "      <td>22</td>\n",
       "      <td>6</td>\n",
       "      <td>3</td>\n",
       "      <td>93</td>\n",
       "      <td>554</td>\n",
       "      <td>8</td>\n",
       "      <td>546</td>\n",
       "      <td>12</td>\n",
       "      <td>72</td>\n",
       "    </tr>\n",
       "    <tr>\n",
       "      <th>value_ratios</th>\n",
       "      <td>{'1 x USB Type C , 2 x USB 3.1 , 1 x USB 2.0 ,...</td>\n",
       "      <td>{'Core i5 , Intel Core thế hệ thứ 8': 19.6, 'C...</td>\n",
       "      <td>{'WiFi 802.11ac , Bluetooth 5.0': 32.5, 'WiFi ...</td>\n",
       "      <td>{'3 cell  42 Wh , Pin liền': 15.0, '3 cell  45...</td>\n",
       "      <td>{'512GB SSD M.2 NVMe /': 33.0, '1TB HDD 5400RP...</td>\n",
       "      <td>{'Bàn phím số tích hợp trên touchpad': 14.3, '...</td>\n",
       "      <td>{'thường , không phím số , LED': 31.5, 'thư...</td>\n",
       "      <td>{'1 x HDMI': 88.6, '1 x HDMI , 1 x VGA/D-sub':...</td>\n",
       "      <td>{'Intel UHD Graphics': 20.1, 'Intel UHD Graphi...</td>\n",
       "      <td>{'Bạc': 31.1, 'Đen': 30.5, 'Xám': 18.2, 'Vàng...</td>\n",
       "      <td>...</td>\n",
       "      <td>{'Vân tay': 93.2, 'Khuôn mặt': 5.8, 'Vân tay, ...</td>\n",
       "      <td>{'1 x 2.5\" SATA , 1 x M.2 NVMe': 25.2, '1 x M....</td>\n",
       "      <td>{'M.2 NVMe': 55.1, 'M.2 SATA/NVMe': 31.4, 'M.2...</td>\n",
       "      <td>{'không đèn': 92.6, 'LED': 5.2, 'RGB': 2.2}</td>\n",
       "      <td>{'14\" ( 1920 x 1080 ) Full HD  IPS  không cảm...</td>\n",
       "      <td>{'Laptop MSI Thin GF63 9SCSR-846VN màu Đen': 0...</td>\n",
       "      <td>{'ASUS': 26.3, 'HP': 20.0, 'ACER': 16.6, 'Dell...</td>\n",
       "      <td>{'242VN': 0.5, '3493-N4I5122W': 0.4, 'N4I5107W...</td>\n",
       "      <td>{'Windows 10 Home SL 64-bit': 44.6, 'Windows 1...</td>\n",
       "      <td>{'Adapter, dây nguồn': 41.4, 'Cáp + Sạc': 8.0,...</td>\n",
       "    </tr>\n",
       "  </tbody>\n",
       "</table>\n",
       "<p>3 rows × 26 columns</p>\n",
       "</div>"
      ],
      "text/plain": [
       "                                                     ConnectPort  \\\n",
       "missing_ratio                                                0.4   \n",
       "num_values                                                   211   \n",
       "value_ratios   {'1 x USB Type C , 2 x USB 3.1 , 1 x USB 2.0 ,...   \n",
       "\n",
       "                                                          CPUgen  \\\n",
       "missing_ratio                                                1.4   \n",
       "num_values                                                    30   \n",
       "value_ratios   {'Core i5 , Intel Core thế hệ thứ 8': 19.6, 'C...   \n",
       "\n",
       "                                                        Wireless  \\\n",
       "missing_ratio                                                0.4   \n",
       "num_values                                                    14   \n",
       "value_ratios   {'WiFi 802.11ac , Bluetooth 5.0': 32.5, 'WiFi ...   \n",
       "\n",
       "                                                             Pin  \\\n",
       "missing_ratio                                                  0   \n",
       "num_values                                                    98   \n",
       "value_ratios   {'3 cell  42 Wh , Pin liền': 15.0, '3 cell  45...   \n",
       "\n",
       "                                                         Storage  \\\n",
       "missing_ratio                                                  0   \n",
       "num_values                                                    29   \n",
       "value_ratios   {'512GB SSD M.2 NVMe /': 33.0, '1TB HDD 5400RP...   \n",
       "\n",
       "                                                         Feature  \\\n",
       "missing_ratio                                                 95   \n",
       "num_values                                                    23   \n",
       "value_ratios   {'Bàn phím số tích hợp trên touchpad': 14.3, '...   \n",
       "\n",
       "                                                        Keyboard  \\\n",
       "missing_ratio                                                  0   \n",
       "num_values                                                     7   \n",
       "value_ratios   {'thường , không phím số , LED': 31.5, 'thư...   \n",
       "\n",
       "                                                    OutVideoPort  \\\n",
       "missing_ratio                                                8.3   \n",
       "num_values                                                     5   \n",
       "value_ratios   {'1 x HDMI': 88.6, '1 x HDMI , 1 x VGA/D-sub':...   \n",
       "\n",
       "                                                     GraphicChip  \\\n",
       "missing_ratio                                                1.6   \n",
       "num_values                                                    90   \n",
       "value_ratios   {'Intel UHD Graphics': 20.1, 'Intel UHD Graphi...   \n",
       "\n",
       "                                                           Color  ...  \\\n",
       "missing_ratio                                                0.9  ...   \n",
       "num_values                                                    19  ...   \n",
       "value_ratios   {'Bạc': 31.1, 'Đen': 30.5, 'Xám': 18.2, 'Vàng...  ...   \n",
       "\n",
       "                                                        Security  \\\n",
       "missing_ratio                                               47.2   \n",
       "num_values                                                     3   \n",
       "value_ratios   {'Vân tay': 93.2, 'Khuôn mặt': 5.8, 'Vân tay, ...   \n",
       "\n",
       "                                                   MaxStoPortNum  \\\n",
       "missing_ratio                                                  5   \n",
       "num_values                                                    22   \n",
       "value_ratios   {'1 x 2.5\" SATA , 1 x M.2 NVMe': 25.2, '1 x M....   \n",
       "\n",
       "                                                       SupportM2  \\\n",
       "missing_ratio                                                8.1   \n",
       "num_values                                                     6   \n",
       "value_ratios   {'M.2 NVMe': 55.1, 'M.2 SATA/NVMe': 31.4, 'M.2...   \n",
       "\n",
       "                                                        LED  \\\n",
       "missing_ratio                                           0.2   \n",
       "num_values                                                3   \n",
       "value_ratios   {'không đèn': 92.6, 'LED': 5.2, 'RGB': 2.2}   \n",
       "\n",
       "                                                          Screen  \\\n",
       "missing_ratio                                                  0   \n",
       "num_values                                                    93   \n",
       "value_ratios   {'14\" ( 1920 x 1080 ) Full HD  IPS  không cảm...   \n",
       "\n",
       "                                                           Title  \\\n",
       "missing_ratio                                                  0   \n",
       "num_values                                                   554   \n",
       "value_ratios   {'Laptop MSI Thin GF63 9SCSR-846VN màu Đen': 0...   \n",
       "\n",
       "                                                           Brand  \\\n",
       "missing_ratio                                                  0   \n",
       "num_values                                                     8   \n",
       "value_ratios   {'ASUS': 26.3, 'HP': 20.0, 'ACER': 16.6, 'Dell...   \n",
       "\n",
       "                                                         PartNum  \\\n",
       "missing_ratio                                                1.1   \n",
       "num_values                                                   546   \n",
       "value_ratios   {'242VN': 0.5, '3493-N4I5122W': 0.4, 'N4I5107W...   \n",
       "\n",
       "                                                              OS  \\\n",
       "missing_ratio                                                0.2   \n",
       "num_values                                                    12   \n",
       "value_ratios   {'Windows 10 Home SL 64-bit': 44.6, 'Windows 1...   \n",
       "\n",
       "                                                     Accessories  \n",
       "missing_ratio                                               54.8  \n",
       "num_values                                                    72  \n",
       "value_ratios   {'Adapter, dây nguồn': 41.4, 'Cáp + Sạc': 8.0,...  \n",
       "\n",
       "[3 rows x 26 columns]"
      ]
     },
     "execution_count": 9,
     "metadata": {},
     "output_type": "execute_result"
    }
   ],
   "source": [
    "\n",
    "num_cols = ['Warranty', 'SKU']\n",
    "\n",
    "cat_cols = list(set(train_X_df.columns) - set(num_cols))\n",
    "df = train_X_df[cat_cols]\n",
    "def missing_ratio(df):\n",
    "    return (df.isna().mean() * 100).round(1)\n",
    "def num_values(df):\n",
    "    return df.nunique()\n",
    "def value_ratios(c):\n",
    "    return dict((c.value_counts(normalize=True) * 100).round(1))\n",
    "df.agg([missing_ratio, num_values, value_ratios])"
   ]
  },
  {
   "cell_type": "markdown",
   "metadata": {},
   "source": [
    "## Tiền xử lý (tập huấn luyện) (3.5đ)"
   ]
  },
  {
   "cell_type": "markdown",
   "metadata": {},
   "source": [
    "Ta tiến hành tiền xử lý như sau:\n",
    "   *  Với cột \"CPUgen\", ta sẽ tiến hành rút trích ra cột \"CPUs\" tương ứng. Tuy nhiên, cột \"CPUs\" có khá nhiều giá trị khác nhau nên chỉ lấy `num_top_cpus` (ví dụ, 6) giá trị xuất hiện nhiều nhất. Tương tự đối với cột \"chipCPU\" được rút chích từ cột \"CPU\".\n",
    "   * Loại bỏ nhiều cột có nhiều giá trị khác nhau hoặc ít ảnh hưởng đến giá thành và các cột thiếu nhiều giá trị.\n",
    "   * Rút trích các dữ liệu chính từ các cột và thay thế chúng. Như:\n",
    "       - Cột \"CPUgen\" chỉ lấy tên CPU.\n",
    "       - Cột \"GraphicChip\" chỉ lấy hảng sản xuất.\n",
    "       - Cột \"RAM\" chỉ lấy số lượng RAM.\n",
    "       - Cột \"Screen\" chỉ lấy kích thước inch.\n",
    "       - Cột \"Pin\" chỉ lấy số cell.\n",
    "       - Cột \"Security\" xét Yes nếu có bảo mật và ngược lại là No.\n",
    "       - Cột \"ChipCPU\" chỉ lấy tên của chip CPU.\n",
    "       - Cột \"gen\" lấy đời thứ mấy của CPU.\n",
    "       - Cột \"SSD\" lấy kích thước của bộ nhớ.\n",
    "   * Chuyển các cột dạng số về số."
   ]
  },
  {
   "cell_type": "code",
   "execution_count": 10,
   "metadata": {},
   "outputs": [],
   "source": [
    "def convert_col_dtype(col):\n",
    "    if col.name == 'SSD':\n",
    "        col.replace('1','1000', inplace = True)\n",
    "        col.replace('2','2000', inplace = True)\n",
    "        return pd.to_numeric(col, errors='coerce')\n",
    "    if col.name == 'gen':\n",
    "        col.replace('1000',np.NaN,inplace = True)\n",
    "        return pd.to_numeric(col, errors='coerce')\n",
    "    if col.name == 'Security':     \n",
    "        return col.apply(lambda x: 'Yes' if not pd.isnull(x) else 'No')\n",
    "    if col.name in ['Pin','Weight','Screen','RAM']:  \n",
    "        return pd.to_numeric(col, errors='coerce')  \n",
    "    return col"
   ]
  },
  {
   "cell_type": "code",
   "execution_count": 11,
   "metadata": {},
   "outputs": [],
   "source": [
    "class ColAdderDropper(BaseEstimator, TransformerMixin):\n",
    "    def __init__(self, num_top_cpus= 6, num_top_chipCPU= 3):\n",
    "        self.num_top_cpus = num_top_cpus\n",
    "        self.num_top_chipCPU = num_top_chipCPU\n",
    "\n",
    "    def fit(self, X_df, y=None):\n",
    "        _CPUs = X_df['CPUgen'].str.extract(r'([A-z0-9\\s]+)\\,').iloc[:,0]\n",
    "        _gen = X_df['CPU'].str.extract(r'([A-z0-9]+)\\s\\(').iloc[:,0]\n",
    "        _chipCPU = _gen.str.extract(r'([A-z])').iloc[:,0]\n",
    "        \n",
    "        self.cpus_counts_ = _CPUs.value_counts()\n",
    "        cpus_ = list(self.cpus_counts_.index)\n",
    "        self.top_cpus_ = cpus_[:max(1, min(self.num_top_cpus, len(cpus_)))]\n",
    "        \n",
    "        self.chipCPU_counts_ = _chipCPU.value_counts()\n",
    "        chipCPU_ = list(self.chipCPU_counts_.index)\n",
    "        self.top_chipCPU_ = chipCPU_[:max(1, min(self.num_top_chipCPU, len(chipCPU_)))]        \n",
    "        \n",
    "        return self\n",
    "    def transform(self, X_df, y=None):\n",
    "        _df = X_df.copy()\n",
    "        \n",
    "        _df['CPUs'] = _df['CPUgen'].str.extract(r'([A-z0-9\\s]+)\\,')\n",
    "        _df['chipCPU'] = _df['CPU'].str.extract(r'([A-z0-9]+)\\s\\(')\n",
    "        _df['chipCPU'] = _df['chipCPU'].str.extract(r'([A-z])')\n",
    "        \n",
    "        _df['CPUs'] =_df['CPUs'].apply(lambda x: x if x in col_adderdropper.top_cpus_ else 'Others')\n",
    "        _df['chipCPU'] =_df['chipCPU'].apply(lambda x: x if x in col_adderdropper.top_chipCPU_ else 'Others')\n",
    "        \n",
    "        _df['gen'] = _df['CPUgen'].str.extract(r'([0-9]+)$')\n",
    "        _df['GraphicChip'] = _df['GraphicChip'].str.extract(r'([A-z]+)\\s')\n",
    "        _df['RAM'] = _df['RAM'].str.extract(r'([0-9]+)GB')\n",
    "        _df['Screen'] = _df['Screen'].str.extract(r'([0-9.]+)')\n",
    "        _df['SSD'] = _df['Storage'].str.extract(r'([0-9]+)[A-z]')\n",
    "        _df['Pin'] = _df['Pin'].str.extract(r'([0-9A-z]+)\\scell')\n",
    "        _df['Weight'] = _df['Weight'].str.extract(r'([0-9.]+)')\n",
    "        \n",
    "        unused_cols = ['SKU', 'Title', 'Warranty','Color','PartNum','MaxStoPortNum',\n",
    "               'SupportM2','OutVideoPort','ConnectPort','Wireless','Keyboard',\n",
    "               'Size','LED','Accessories','OptDrive','Feature','OS',\n",
    "               'Storage', 'CPUgen','CPU','SeriesLaptop']\n",
    "\n",
    "        _df = _df.apply(convert_col_dtype)\n",
    "        _df = _df.drop(unused_cols,axis=1)\n",
    "        return _df"
   ]
  },
  {
   "cell_type": "code",
   "execution_count": 12,
   "metadata": {},
   "outputs": [
    {
     "name": "stdout",
     "output_type": "stream",
     "text": [
      "Core i5     261\n",
      "Core i3     112\n",
      "Core i7      97\n",
      "Ryzen 5      21\n",
      "Ryzen 3      17\n",
      "Ryzen 7      11\n",
      "Pentium       7\n",
      "Celeron       6\n",
      "Core i9       2\n",
      "Name: 0, dtype: int64\n",
      "\n",
      "['Core i5 ', 'Core i3 ', 'Core i7 ', 'Ryzen 5 ', 'Ryzen 3 ', 'Ryzen 7 ']\n",
      "\n",
      "U    286\n",
      "G    117\n",
      "H    111\n",
      "N     13\n",
      "i     11\n",
      "Y      1\n",
      "Name: 0, dtype: int64\n",
      "\n",
      "['U', 'G', 'H']\n"
     ]
    }
   ],
   "source": [
    "# TEST FIT METHOD\n",
    "col_adderdropper = ColAdderDropper(num_top_cpus= 6, num_top_chipCPU= 3)\n",
    "col_adderdropper.fit(train_X_df)\n",
    "print(col_adderdropper.cpus_counts_)\n",
    "print()\n",
    "print(col_adderdropper.top_cpus_)\n",
    "print()\n",
    "print(col_adderdropper.chipCPU_counts_)\n",
    "print()\n",
    "print(col_adderdropper.top_chipCPU_)"
   ]
  },
  {
   "cell_type": "markdown",
   "metadata": {},
   "source": [
    "## Sau khi tiền xử lý (tập huấn luyện) (3.5đ)"
   ]
  },
  {
   "cell_type": "code",
   "execution_count": 13,
   "metadata": {},
   "outputs": [],
   "source": [
    "fewer_cols_train_X_df = col_adderdropper.transform(train_X_df)"
   ]
  },
  {
   "cell_type": "code",
   "execution_count": 14,
   "metadata": {},
   "outputs": [
    {
     "data": {
      "text/html": [
       "<div>\n",
       "<style scoped>\n",
       "    .dataframe tbody tr th:only-of-type {\n",
       "        vertical-align: middle;\n",
       "    }\n",
       "\n",
       "    .dataframe tbody tr th {\n",
       "        vertical-align: top;\n",
       "    }\n",
       "\n",
       "    .dataframe thead th {\n",
       "        text-align: right;\n",
       "    }\n",
       "</style>\n",
       "<table border=\"1\" class=\"dataframe\">\n",
       "  <thead>\n",
       "    <tr style=\"text-align: right;\">\n",
       "      <th></th>\n",
       "      <th>Brand</th>\n",
       "      <th>GraphicChip</th>\n",
       "      <th>RAM</th>\n",
       "      <th>Screen</th>\n",
       "      <th>Pin</th>\n",
       "      <th>Weight</th>\n",
       "      <th>Security</th>\n",
       "      <th>CPUs</th>\n",
       "      <th>chipCPU</th>\n",
       "      <th>gen</th>\n",
       "      <th>SSD</th>\n",
       "    </tr>\n",
       "  </thead>\n",
       "  <tbody>\n",
       "    <tr>\n",
       "      <th>101</th>\n",
       "      <td>ASUS</td>\n",
       "      <td>Intel</td>\n",
       "      <td>8</td>\n",
       "      <td>13.3</td>\n",
       "      <td>3.0</td>\n",
       "      <td>1.3</td>\n",
       "      <td>Yes</td>\n",
       "      <td>Core i5</td>\n",
       "      <td>U</td>\n",
       "      <td>10.0</td>\n",
       "      <td>512</td>\n",
       "    </tr>\n",
       "    <tr>\n",
       "      <th>334</th>\n",
       "      <td>ACER</td>\n",
       "      <td>AMD</td>\n",
       "      <td>8</td>\n",
       "      <td>15.6</td>\n",
       "      <td>2.0</td>\n",
       "      <td>1.7</td>\n",
       "      <td>No</td>\n",
       "      <td>Ryzen 3</td>\n",
       "      <td>U</td>\n",
       "      <td>3.0</td>\n",
       "      <td>256</td>\n",
       "    </tr>\n",
       "    <tr>\n",
       "      <th>417</th>\n",
       "      <td>Dell</td>\n",
       "      <td>Intel</td>\n",
       "      <td>4</td>\n",
       "      <td>14.0</td>\n",
       "      <td>4.0</td>\n",
       "      <td>2.0</td>\n",
       "      <td>No</td>\n",
       "      <td>Core i3</td>\n",
       "      <td>U</td>\n",
       "      <td>8.0</td>\n",
       "      <td>1000</td>\n",
       "    </tr>\n",
       "    <tr>\n",
       "      <th>92</th>\n",
       "      <td>ASUS</td>\n",
       "      <td>NVIDIA</td>\n",
       "      <td>8</td>\n",
       "      <td>15.6</td>\n",
       "      <td>3.0</td>\n",
       "      <td>2.2</td>\n",
       "      <td>No</td>\n",
       "      <td>Core i5</td>\n",
       "      <td>H</td>\n",
       "      <td>8.0</td>\n",
       "      <td>1000</td>\n",
       "    </tr>\n",
       "    <tr>\n",
       "      <th>583</th>\n",
       "      <td>HP</td>\n",
       "      <td>NVIDIA</td>\n",
       "      <td>8</td>\n",
       "      <td>15.6</td>\n",
       "      <td>3.0</td>\n",
       "      <td>2.2</td>\n",
       "      <td>No</td>\n",
       "      <td>Core i7</td>\n",
       "      <td>H</td>\n",
       "      <td>9.0</td>\n",
       "      <td>512</td>\n",
       "    </tr>\n",
       "  </tbody>\n",
       "</table>\n",
       "</div>"
      ],
      "text/plain": [
       "    Brand GraphicChip  RAM  Screen  Pin  Weight Security      CPUs chipCPU  \\\n",
       "101  ASUS       Intel    8    13.3  3.0     1.3      Yes  Core i5        U   \n",
       "334  ACER         AMD    8    15.6  2.0     1.7       No  Ryzen 3        U   \n",
       "417  Dell       Intel    4    14.0  4.0     2.0       No  Core i3        U   \n",
       "92   ASUS      NVIDIA    8    15.6  3.0     2.2       No  Core i5        H   \n",
       "583    HP      NVIDIA    8    15.6  3.0     2.2       No  Core i7        H   \n",
       "\n",
       "      gen   SSD  \n",
       "101  10.0   512  \n",
       "334   3.0   256  \n",
       "417   8.0  1000  \n",
       "92    8.0  1000  \n",
       "583   9.0   512  "
      ]
     },
     "execution_count": 14,
     "metadata": {},
     "output_type": "execute_result"
    }
   ],
   "source": [
    "fewer_cols_train_X_df.head()"
   ]
  },
  {
   "cell_type": "code",
   "execution_count": 15,
   "metadata": {},
   "outputs": [
    {
     "data": {
      "text/plain": [
       "Brand           object\n",
       "GraphicChip     object\n",
       "RAM              int64\n",
       "Screen         float64\n",
       "Pin            float64\n",
       "Weight         float64\n",
       "Security        object\n",
       "CPUs            object\n",
       "chipCPU         object\n",
       "gen            float64\n",
       "SSD              int64\n",
       "dtype: object"
      ]
     },
     "execution_count": 15,
     "metadata": {},
     "output_type": "execute_result"
    }
   ],
   "source": [
    "fewer_cols_train_X_df.dtypes"
   ]
  },
  {
   "cell_type": "markdown",
   "metadata": {},
   "source": [
    "Có vẽ như kiểu dữ liệu các cột đã phù hợp."
   ]
  },
  {
   "cell_type": "markdown",
   "metadata": {},
   "source": [
    "### Với mỗi cột input có kiểu dữ liệu dạng số, các giá trị được phân bố như thế nào?"
   ]
  },
  {
   "cell_type": "code",
   "execution_count": 16,
   "metadata": {},
   "outputs": [
    {
     "data": {
      "text/html": [
       "<div>\n",
       "<style scoped>\n",
       "    .dataframe tbody tr th:only-of-type {\n",
       "        vertical-align: middle;\n",
       "    }\n",
       "\n",
       "    .dataframe tbody tr th {\n",
       "        vertical-align: top;\n",
       "    }\n",
       "\n",
       "    .dataframe thead th {\n",
       "        text-align: right;\n",
       "    }\n",
       "</style>\n",
       "<table border=\"1\" class=\"dataframe\">\n",
       "  <thead>\n",
       "    <tr style=\"text-align: right;\">\n",
       "      <th></th>\n",
       "      <th>RAM</th>\n",
       "      <th>Screen</th>\n",
       "      <th>Pin</th>\n",
       "      <th>Weight</th>\n",
       "      <th>gen</th>\n",
       "      <th>SSD</th>\n",
       "    </tr>\n",
       "  </thead>\n",
       "  <tbody>\n",
       "    <tr>\n",
       "      <th>missing_ratio</th>\n",
       "      <td>0.0</td>\n",
       "      <td>0.0</td>\n",
       "      <td>8.1</td>\n",
       "      <td>0.0</td>\n",
       "      <td>4.3</td>\n",
       "      <td>0.0</td>\n",
       "    </tr>\n",
       "    <tr>\n",
       "      <th>min</th>\n",
       "      <td>4.0</td>\n",
       "      <td>11.6</td>\n",
       "      <td>2.0</td>\n",
       "      <td>0.9</td>\n",
       "      <td>2.0</td>\n",
       "      <td>16.0</td>\n",
       "    </tr>\n",
       "    <tr>\n",
       "      <th>lower_quartile</th>\n",
       "      <td>4.0</td>\n",
       "      <td>14.0</td>\n",
       "      <td>3.0</td>\n",
       "      <td>1.4</td>\n",
       "      <td>8.0</td>\n",
       "      <td>256.0</td>\n",
       "    </tr>\n",
       "    <tr>\n",
       "      <th>median</th>\n",
       "      <td>8.0</td>\n",
       "      <td>15.6</td>\n",
       "      <td>3.0</td>\n",
       "      <td>1.7</td>\n",
       "      <td>8.0</td>\n",
       "      <td>512.0</td>\n",
       "    </tr>\n",
       "    <tr>\n",
       "      <th>upper_quartile</th>\n",
       "      <td>8.0</td>\n",
       "      <td>15.6</td>\n",
       "      <td>3.0</td>\n",
       "      <td>2.0</td>\n",
       "      <td>10.0</td>\n",
       "      <td>1000.0</td>\n",
       "    </tr>\n",
       "    <tr>\n",
       "      <th>max</th>\n",
       "      <td>16.0</td>\n",
       "      <td>17.3</td>\n",
       "      <td>8.0</td>\n",
       "      <td>2.9</td>\n",
       "      <td>11.0</td>\n",
       "      <td>2000.0</td>\n",
       "    </tr>\n",
       "  </tbody>\n",
       "</table>\n",
       "</div>"
      ],
      "text/plain": [
       "                 RAM  Screen  Pin  Weight   gen     SSD\n",
       "missing_ratio    0.0     0.0  8.1     0.0   4.3     0.0\n",
       "min              4.0    11.6  2.0     0.9   2.0    16.0\n",
       "lower_quartile   4.0    14.0  3.0     1.4   8.0   256.0\n",
       "median           8.0    15.6  3.0     1.7   8.0   512.0\n",
       "upper_quartile   8.0    15.6  3.0     2.0  10.0  1000.0\n",
       "max             16.0    17.3  8.0     2.9  11.0  2000.0"
      ]
     },
     "execution_count": 16,
     "metadata": {},
     "output_type": "execute_result"
    }
   ],
   "source": [
    "num_cols = ['RAM', 'Screen', 'Pin', 'Weight','gen','SSD']\n",
    "df = fewer_cols_train_X_df[num_cols]\n",
    "def missing_ratio(df):\n",
    "    return (df.isna().mean() * 100).round(1)\n",
    "def lower_quartile(df):\n",
    "    return df.quantile(0.25).round(1)\n",
    "def median(df):\n",
    "    return df.quantile(0.5).round(1)\n",
    "def upper_quartile(df):\n",
    "    return df.quantile(0.75).round(1)\n",
    "df.agg([missing_ratio, 'min', lower_quartile, median, upper_quartile, 'max'])"
   ]
  },
  {
   "cell_type": "markdown",
   "metadata": {},
   "source": [
    "### Với mỗi cột input có kiểu dữ liệu không phải dạng số, các giá trị được phân bố như thế nào?"
   ]
  },
  {
   "cell_type": "code",
   "execution_count": 17,
   "metadata": {},
   "outputs": [
    {
     "data": {
      "text/html": [
       "<div>\n",
       "<style scoped>\n",
       "    .dataframe tbody tr th:only-of-type {\n",
       "        vertical-align: middle;\n",
       "    }\n",
       "\n",
       "    .dataframe tbody tr th {\n",
       "        vertical-align: top;\n",
       "    }\n",
       "\n",
       "    .dataframe thead th {\n",
       "        text-align: right;\n",
       "    }\n",
       "</style>\n",
       "<table border=\"1\" class=\"dataframe\">\n",
       "  <thead>\n",
       "    <tr style=\"text-align: right;\">\n",
       "      <th></th>\n",
       "      <th>Security</th>\n",
       "      <th>GraphicChip</th>\n",
       "      <th>CPUs</th>\n",
       "      <th>chipCPU</th>\n",
       "      <th>Brand</th>\n",
       "    </tr>\n",
       "  </thead>\n",
       "  <tbody>\n",
       "    <tr>\n",
       "      <th>missing_ratio</th>\n",
       "      <td>0</td>\n",
       "      <td>1.6</td>\n",
       "      <td>0</td>\n",
       "      <td>0</td>\n",
       "      <td>0</td>\n",
       "    </tr>\n",
       "    <tr>\n",
       "      <th>num_values</th>\n",
       "      <td>2</td>\n",
       "      <td>4</td>\n",
       "      <td>7</td>\n",
       "      <td>4</td>\n",
       "      <td>8</td>\n",
       "    </tr>\n",
       "    <tr>\n",
       "      <th>value_ratios</th>\n",
       "      <td>{'Yes': 52.8, 'No': 47.2}</td>\n",
       "      <td>{'Intel': 56.2, 'NVIDIA': 31.9, 'AMD': 8.6, 'S...</td>\n",
       "      <td>{'Core i5 ': 47.0, 'Core i3 ': 20.2, 'Core i7 ...</td>\n",
       "      <td>{'U': 51.5, 'G': 21.1, 'H': 20.0, 'Others': 7.4}</td>\n",
       "      <td>{'ASUS': 26.3, 'HP': 20.0, 'ACER': 16.6, 'Dell...</td>\n",
       "    </tr>\n",
       "  </tbody>\n",
       "</table>\n",
       "</div>"
      ],
      "text/plain": [
       "                                Security  \\\n",
       "missing_ratio                          0   \n",
       "num_values                             2   \n",
       "value_ratios   {'Yes': 52.8, 'No': 47.2}   \n",
       "\n",
       "                                                     GraphicChip  \\\n",
       "missing_ratio                                                1.6   \n",
       "num_values                                                     4   \n",
       "value_ratios   {'Intel': 56.2, 'NVIDIA': 31.9, 'AMD': 8.6, 'S...   \n",
       "\n",
       "                                                            CPUs  \\\n",
       "missing_ratio                                                  0   \n",
       "num_values                                                     7   \n",
       "value_ratios   {'Core i5 ': 47.0, 'Core i3 ': 20.2, 'Core i7 ...   \n",
       "\n",
       "                                                        chipCPU  \\\n",
       "missing_ratio                                                 0   \n",
       "num_values                                                    4   \n",
       "value_ratios   {'U': 51.5, 'G': 21.1, 'H': 20.0, 'Others': 7.4}   \n",
       "\n",
       "                                                           Brand  \n",
       "missing_ratio                                                  0  \n",
       "num_values                                                     8  \n",
       "value_ratios   {'ASUS': 26.3, 'HP': 20.0, 'ACER': 16.6, 'Dell...  "
      ]
     },
     "execution_count": 17,
     "metadata": {},
     "output_type": "execute_result"
    }
   ],
   "source": [
    "cat_cols = list(set(fewer_cols_train_X_df.columns) - set(num_cols))\n",
    "df = fewer_cols_train_X_df[cat_cols]\n",
    "def missing_ratio(df):\n",
    "    return (df.isna().mean() * 100).round(1)\n",
    "def num_values(df):\n",
    "    return df.nunique()\n",
    "def value_ratios(c):\n",
    "    return dict((c.value_counts(normalize=True) * 100).round(1))\n",
    "df.agg([missing_ratio, num_values, value_ratios])"
   ]
  },
  {
   "cell_type": "markdown",
   "metadata": {},
   "source": [
    "### Các bước tiền xử lý tiếp theo như sau:\n",
    "\n",
    " - Với các cột dạng số, ta sẽ điền giá trị thiếu bằng giá trị mean của cột.\n",
    " - Với các cột không phải dạng số ta sẽ điền giá trị thiếu bằng giá trị mode (giá trị xuất hiện nhiều nhất) của cột. Sau đó, ta sẽ chuyển sang dạng số bằng phương pháp mã hóa one-hot.\n",
    " - Cuối cùng, khi tất cả các cột đã được điền giá trị thiếu và đã có dạng số, ta sẽ tiến hành chuẩn hóa."
   ]
  },
  {
   "cell_type": "code",
   "execution_count": 18,
   "metadata": {},
   "outputs": [],
   "source": [
    "nume_cols = ['RAM','gen','SSD','Screen','Weight','Pin']\n",
    "unorder_cate_cols = ['GraphicChip', 'Brand','Security','CPUs','chipCPU']\n",
    "\n",
    "# YOUR CODE HERE\n",
    "mean_numcols = SimpleImputer(missing_values = np.nan, strategy = 'mean')\n",
    "mode_ordercols = SimpleImputer(missing_values = np.nan, strategy = 'most_frequent')\n",
    "mode_unordercols = make_pipeline(mode_ordercols, OneHotEncoder(handle_unknown='ignore'))\n",
    "\n",
    "col_transform = ColumnTransformer([('nume_cols', mean_numcols, nume_cols),\\\n",
    "                                ('unorder_cate_cols', mode_unordercols,unorder_cate_cols)])\n",
    "\n",
    "preprocess_pipeline = make_pipeline(col_adderdropper,col_transform,StandardScaler())\n",
    "preprocessed_train_X = preprocess_pipeline.fit_transform(train_X_df)"
   ]
  },
  {
   "cell_type": "code",
   "execution_count": 19,
   "metadata": {},
   "outputs": [
    {
     "data": {
      "text/plain": [
       "(555, 31)"
      ]
     },
     "execution_count": 19,
     "metadata": {},
     "output_type": "execute_result"
    }
   ],
   "source": [
    "preprocessed_train_X.shape"
   ]
  },
  {
   "cell_type": "markdown",
   "metadata": {},
   "source": [
    "## Tiền xử lý + mô hình hóa"
   ]
  },
  {
   "cell_type": "markdown",
   "metadata": {},
   "source": [
    "### Do bài toán hồi quy cho nên dùng các mô hình hồi quy.\n",
    "### Tìm mô hình tốt nhất"
   ]
  },
  {
   "cell_type": "code",
   "execution_count": 20,
   "metadata": {},
   "outputs": [],
   "source": [
    "# Tính độ đo r^2 trên tập huấn luyện\n",
    "def compute_mse(y, preds):\n",
    "    return ((y - preds) ** 2).mean()\n",
    "def compute_rr(y, preds, baseline_preds):\n",
    "    return 1 - compute_mse(y, preds) / compute_mse(y, baseline_preds)\n",
    "baseline_preds = train_y_sr.mean()"
   ]
  },
  {
   "cell_type": "markdown",
   "metadata": {},
   "source": [
    "### 1. Mô hình SGDRegressor"
   ]
  },
  {
   "cell_type": "markdown",
   "metadata": {},
   "source": [
    " * Tham số: penalty='l1', random_state=0,shuffle = False, early_stopping=True\n",
    " * Siêu tham số alpha với 5 giá trị khác nhau.\n",
    " * Tham số num_top_cpus với 6 giá trị khác nhau."
   ]
  },
  {
   "cell_type": "code",
   "execution_count": 21,
   "metadata": {},
   "outputs": [
    {
     "data": {
      "text/plain": [
       "'Finish!'"
      ]
     },
     "execution_count": 21,
     "metadata": {},
     "output_type": "execute_result"
    }
   ],
   "source": [
    "SGD_Regressort_model =  SGDRegressor(penalty='l1', random_state=0,shuffle = False, early_stopping=True)\n",
    "full_pipeline1 = make_pipeline(col_adderdropper, col_transform, StandardScaler(), SGD_Regressort_model)\n",
    "\n",
    "# Thử nghiệm với các giá trị khác nhau của các siêu tham số\n",
    "# và chọn ra các giá trị tốt nhất\n",
    "train_errs1 = []\n",
    "val_errs1 = []\n",
    "alphas = [0.01, 0.1, 1, 10, 100]\n",
    "num_top_cpus_s = [1,3,5,6,8,9]\n",
    "best_val_err1 = float('inf'); best_alpha1 = None; best_num_top_cpus1 = None\n",
    "for alpha in alphas:\n",
    "    for num_top_cpus in num_top_cpus_s:\n",
    "        full_pipeline1.set_params(coladderdropper__num_top_cpus = num_top_cpus,coladderdropper__num_top_chipCPU = 3, sgdregressor__alpha=alpha)\n",
    "        full_pipeline1.fit(train_X_df, train_y_sr)\n",
    "\n",
    "        train_errs1.append(100 - compute_rr(train_y_sr, full_pipeline1.predict(train_X_df), baseline_preds) * 100)\n",
    "        val_errs1.append(100 - compute_rr(val_y_sr, full_pipeline1.predict(val_X_df), baseline_preds) * 100)\n",
    "\n",
    "        \n",
    "        \n",
    "        if val_errs1[-1] < best_val_err1:\n",
    "            best_val_err1 = val_errs1[-1]\n",
    "            best_alpha1 = alpha\n",
    "            best_num_top_cpus1 = num_top_cpus\n",
    "\n",
    "'Finish!'"
   ]
  },
  {
   "cell_type": "code",
   "execution_count": 22,
   "metadata": {},
   "outputs": [
    {
     "data": {
      "text/plain": [
       "Pipeline(steps=[('coladderdropper', ColAdderDropper(num_top_cpus=9)),\n",
       "                ('columntransformer',\n",
       "                 ColumnTransformer(transformers=[('nume_cols', SimpleImputer(),\n",
       "                                                  ['RAM', 'gen', 'SSD',\n",
       "                                                   'Screen', 'Weight', 'Pin']),\n",
       "                                                 ('unorder_cate_cols',\n",
       "                                                  Pipeline(steps=[('simpleimputer',\n",
       "                                                                   SimpleImputer(strategy='most_frequent')),\n",
       "                                                                  ('onehotencoder',\n",
       "                                                                   OneHotEncoder(handle_unknown='ignore'))]),\n",
       "                                                  ['GraphicChip', 'Brand',\n",
       "                                                   'Security', 'CPUs',\n",
       "                                                   'chipCPU'])])),\n",
       "                ('standardscaler', StandardScaler()),\n",
       "                ('sgdregressor',\n",
       "                 SGDRegressor(alpha=100, early_stopping=True, penalty='l1',\n",
       "                              random_state=0, shuffle=False))])"
      ]
     },
     "execution_count": 22,
     "metadata": {},
     "output_type": "execute_result"
    }
   ],
   "source": [
    "full_pipeline1"
   ]
  },
  {
   "cell_type": "code",
   "execution_count": 23,
   "metadata": {},
   "outputs": [
    {
     "name": "stdout",
     "output_type": "stream",
     "text": [
      "14.814083972112954\n",
      "9\n",
      "100\n"
     ]
    }
   ],
   "source": [
    "print(best_val_err1)\n",
    "print(best_num_top_cpus1)\n",
    "print(best_alpha1)"
   ]
  },
  {
   "cell_type": "markdown",
   "metadata": {},
   "source": [
    "### 2. Mô hìnhTweedieRegressor"
   ]
  },
  {
   "cell_type": "markdown",
   "metadata": {},
   "source": [
    " * Tham số: link = 'log'\n",
    " * Siêu tham số alpha với 5 giá trị khác nhau.\n",
    " * Tham số num_top_cpus với 6 giá trị khác nhau."
   ]
  },
  {
   "cell_type": "code",
   "execution_count": 24,
   "metadata": {},
   "outputs": [
    {
     "data": {
      "text/plain": [
       "'Finish!'"
      ]
     },
     "execution_count": 24,
     "metadata": {},
     "output_type": "execute_result"
    }
   ],
   "source": [
    "Tweedie_Regressor_model =  linear_model.TweedieRegressor(link = 'log')\n",
    "full_pipeline2 = make_pipeline(col_adderdropper, col_transform, StandardScaler(), Tweedie_Regressor_model)\n",
    "\n",
    "# Thử nghiệm với các giá trị khác nhau của các siêu tham số\n",
    "# và chọn ra các giá trị tốt nhất\n",
    "train_errs2 = []\n",
    "val_errs2 = []\n",
    "alphas = [0.01, 0.1, 1, 10, 100]\n",
    "num_top_cpus_s = [1,3,5,6,8,9]\n",
    "best_val_err2 = float('inf'); best_alpha2 = None; best_num_top_cpus2 = None\n",
    "for alpha in alphas:\n",
    "    for num_top_cpus in num_top_cpus_s:\n",
    "        full_pipeline2.set_params(coladderdropper__num_top_cpus = num_top_cpus,coladderdropper__num_top_chipCPU = 5, tweedieregressor__alpha=alpha)\n",
    "        full_pipeline2.fit(train_X_df, train_y_sr)\n",
    "\n",
    "        train_errs2.append(100 - compute_rr(train_y_sr, full_pipeline2.predict(train_X_df), baseline_preds) * 100)\n",
    "        val_errs2.append(100 - compute_rr(val_y_sr, full_pipeline2.predict(val_X_df), baseline_preds) * 100)\n",
    "\n",
    "        if val_errs2[-1] < best_val_err2:\n",
    "            best_val_err2 = val_errs2[-1]\n",
    "            best_alpha2 = alpha\n",
    "            best_num_top_cpus2 = num_top_cpus\n",
    "\n",
    "'Finish!'"
   ]
  },
  {
   "cell_type": "code",
   "execution_count": 25,
   "metadata": {},
   "outputs": [
    {
     "data": {
      "text/plain": [
       "Pipeline(steps=[('coladderdropper',\n",
       "                 ColAdderDropper(num_top_chipCPU=5, num_top_cpus=9)),\n",
       "                ('columntransformer',\n",
       "                 ColumnTransformer(transformers=[('nume_cols', SimpleImputer(),\n",
       "                                                  ['RAM', 'gen', 'SSD',\n",
       "                                                   'Screen', 'Weight', 'Pin']),\n",
       "                                                 ('unorder_cate_cols',\n",
       "                                                  Pipeline(steps=[('simpleimputer',\n",
       "                                                                   SimpleImputer(strategy='most_frequent')),\n",
       "                                                                  ('onehotencoder',\n",
       "                                                                   OneHotEncoder(handle_unknown='ignore'))]),\n",
       "                                                  ['GraphicChip', 'Brand',\n",
       "                                                   'Security', 'CPUs',\n",
       "                                                   'chipCPU'])])),\n",
       "                ('standardscaler', StandardScaler()),\n",
       "                ('tweedieregressor', TweedieRegressor(alpha=100, link='log'))])"
      ]
     },
     "execution_count": 25,
     "metadata": {},
     "output_type": "execute_result"
    }
   ],
   "source": [
    "full_pipeline2"
   ]
  },
  {
   "cell_type": "code",
   "execution_count": 26,
   "metadata": {},
   "outputs": [
    {
     "name": "stdout",
     "output_type": "stream",
     "text": [
      "13.540775616999099\n",
      "8\n",
      "0.1\n"
     ]
    }
   ],
   "source": [
    "print(best_val_err2)\n",
    "print(best_num_top_cpus2)\n",
    "print(best_alpha2)"
   ]
  },
  {
   "cell_type": "markdown",
   "metadata": {},
   "source": [
    "### 3. Mô hình RandomforestRegressor"
   ]
  },
  {
   "cell_type": "markdown",
   "metadata": {},
   "source": [
    " * Tham số num_top_cpus với 6 giá trị khác nhau."
   ]
  },
  {
   "cell_type": "code",
   "execution_count": 27,
   "metadata": {},
   "outputs": [
    {
     "data": {
      "text/plain": [
       "'Finish!'"
      ]
     },
     "execution_count": 27,
     "metadata": {},
     "output_type": "execute_result"
    }
   ],
   "source": [
    "RandomForest_Regressorneural_model = RandomForestRegressor()\n",
    "full_pipeline3 = make_pipeline(col_adderdropper, col_transform, StandardScaler(), RandomForest_Regressorneural_model)\n",
    "\n",
    "train_errs3 = []\n",
    "val_errs3 = []\n",
    "num_top_cpus_s = [1,3,5,6,8,9]\n",
    "best_val_err3 = float('inf');  best_num_top_cpus3 = None\n",
    "\n",
    "for num_top_cpus in num_top_cpus_s:\n",
    "    full_pipeline3.set_params(coladderdropper__num_top_cpus = num_top_cpus,coladderdropper__num_top_chipCPU = 3)\n",
    "    full_pipeline3.fit(train_X_df, train_y_sr)\n",
    "\n",
    "    train_errs3.append(100 - compute_rr(train_y_sr, full_pipeline3.predict(train_X_df), baseline_preds) * 100)\n",
    "    val_errs3.append(100 - compute_rr(val_y_sr, full_pipeline3.predict(val_X_df), baseline_preds) * 100)\n",
    "\n",
    "    if val_errs3[-1] < best_val_err3:\n",
    "        best_val_err3 = val_errs3[-1]\n",
    "\n",
    "        best_num_top_cpus3 = num_top_cpus\n",
    "\n",
    "'Finish!'"
   ]
  },
  {
   "cell_type": "code",
   "execution_count": 28,
   "metadata": {},
   "outputs": [
    {
     "data": {
      "text/plain": [
       "Pipeline(steps=[('coladderdropper', ColAdderDropper(num_top_cpus=9)),\n",
       "                ('columntransformer',\n",
       "                 ColumnTransformer(transformers=[('nume_cols', SimpleImputer(),\n",
       "                                                  ['RAM', 'gen', 'SSD',\n",
       "                                                   'Screen', 'Weight', 'Pin']),\n",
       "                                                 ('unorder_cate_cols',\n",
       "                                                  Pipeline(steps=[('simpleimputer',\n",
       "                                                                   SimpleImputer(strategy='most_frequent')),\n",
       "                                                                  ('onehotencoder',\n",
       "                                                                   OneHotEncoder(handle_unknown='ignore'))]),\n",
       "                                                  ['GraphicChip', 'Brand',\n",
       "                                                   'Security', 'CPUs',\n",
       "                                                   'chipCPU'])])),\n",
       "                ('standardscaler', StandardScaler()),\n",
       "                ('randomforestregressor', RandomForestRegressor())])"
      ]
     },
     "execution_count": 28,
     "metadata": {},
     "output_type": "execute_result"
    }
   ],
   "source": [
    "full_pipeline3"
   ]
  },
  {
   "cell_type": "code",
   "execution_count": 29,
   "metadata": {},
   "outputs": [
    {
     "name": "stdout",
     "output_type": "stream",
     "text": [
      "12.658100450644056\n",
      "9\n"
     ]
    }
   ],
   "source": [
    "print(best_val_err3)\n",
    "print(best_num_top_cpus3)"
   ]
  },
  {
   "cell_type": "markdown",
   "metadata": {},
   "source": [
    "### 4. Mô hình Neural Network"
   ]
  },
  {
   "cell_type": "markdown",
   "metadata": {},
   "source": [
    " * Tham số: hidden_layer_sizes=(20), activation='tanh', solver='lbfgs', random_state=0, max_iter=2500\n",
    " * Siêu tham số alpha với 5 giá trị khác nhau.\n",
    " * Tham số num_top_cpus với 6 giá trị khác nhau."
   ]
  },
  {
   "cell_type": "code",
   "execution_count": 30,
   "metadata": {},
   "outputs": [],
   "source": [
    "import warnings"
   ]
  },
  {
   "cell_type": "code",
   "execution_count": 31,
   "metadata": {},
   "outputs": [
    {
     "data": {
      "text/plain": [
       "'Finish!'"
      ]
     },
     "execution_count": 31,
     "metadata": {},
     "output_type": "execute_result"
    }
   ],
   "source": [
    "warnings.filterwarnings('ignore')\n",
    "neural_net_mode = MLPRegressor(hidden_layer_sizes=(20), activation='tanh', solver='lbfgs', random_state=0, max_iter=2500)\n",
    "full_pipeline4 = make_pipeline(col_adderdropper, col_transform, StandardScaler(), neural_net_mode)\n",
    "\n",
    "# Thử nghiệm với các giá trị khác nhau của các siêu tham số\n",
    "# và chọn ra các giá trị tốt nhất\n",
    "train_errs4 = []\n",
    "val_errs4 = []\n",
    "alphas = [0.01, 0.1, 1, 10, 100]\n",
    "num_top_cpus_s = [1,3,5,6,8,9]\n",
    "best_val_err4 = float('inf'); best_alpha4 = None; best_num_top_cpus4= None\n",
    "for alpha in alphas:\n",
    "    for num_top_cpus in num_top_cpus_s:\n",
    "        full_pipeline4.set_params(coladderdropper__num_top_cpus = num_top_cpus,coladderdropper__num_top_chipCPU = 3, mlpregressor__alpha=alpha)\n",
    "        full_pipeline4.fit(train_X_df, train_y_sr)\n",
    "\n",
    "        train_errs4.append(100 - compute_rr(train_y_sr, full_pipeline4.predict(train_X_df), baseline_preds) * 100)\n",
    "        val_errs4.append(100 - compute_rr(val_y_sr, full_pipeline4.predict(val_X_df), baseline_preds) * 100)\n",
    "\n",
    "        if val_errs4[-1] < best_val_err4:\n",
    "            best_val_err4 = val_errs4[-1]\n",
    "            best_alpha4 = alpha\n",
    "            best_num_top_cpus4 = num_top_cpus\n",
    "\n",
    "'Finish!'"
   ]
  },
  {
   "cell_type": "code",
   "execution_count": 32,
   "metadata": {},
   "outputs": [
    {
     "data": {
      "text/plain": [
       "Pipeline(steps=[('coladderdropper', ColAdderDropper(num_top_cpus=9)),\n",
       "                ('columntransformer',\n",
       "                 ColumnTransformer(transformers=[('nume_cols', SimpleImputer(),\n",
       "                                                  ['RAM', 'gen', 'SSD',\n",
       "                                                   'Screen', 'Weight', 'Pin']),\n",
       "                                                 ('unorder_cate_cols',\n",
       "                                                  Pipeline(steps=[('simpleimputer',\n",
       "                                                                   SimpleImputer(strategy='most_frequent')),\n",
       "                                                                  ('onehotencoder',\n",
       "                                                                   OneHotEncoder(handle_unknown='ignore'))]),\n",
       "                                                  ['GraphicChip', 'Brand',\n",
       "                                                   'Security', 'CPUs',\n",
       "                                                   'chipCPU'])])),\n",
       "                ('standardscaler', StandardScaler()),\n",
       "                ('mlpregressor',\n",
       "                 MLPRegressor(activation='tanh', alpha=100,\n",
       "                              hidden_layer_sizes=20, max_iter=2500,\n",
       "                              random_state=0, solver='lbfgs'))])"
      ]
     },
     "execution_count": 32,
     "metadata": {},
     "output_type": "execute_result"
    }
   ],
   "source": [
    "\n",
    "\n",
    "full_pipeline4"
   ]
  },
  {
   "cell_type": "code",
   "execution_count": 33,
   "metadata": {},
   "outputs": [
    {
     "name": "stdout",
     "output_type": "stream",
     "text": [
      "52.186481285352556\n",
      "1\n",
      "1\n"
     ]
    }
   ],
   "source": [
    "print(best_val_err4)\n",
    "print(best_num_top_cpus4)\n",
    "print(best_alpha4)"
   ]
  },
  {
   "cell_type": "markdown",
   "metadata": {},
   "source": [
    "\n",
    "### Đánh giá kết quả trên tập validation của mô hình thu được"
   ]
  },
  {
   "cell_type": "markdown",
   "metadata": {},
   "source": [
    "  - Cái nào tốt nhất"
   ]
  },
  {
   "cell_type": "code",
   "execution_count": 34,
   "metadata": {},
   "outputs": [
    {
     "data": {
      "image/png": "[encoded data removed]",
      "text/plain": [
       "<Figure size 720x360 with 2 Axes>"
      ]
     },
     "metadata": {
      "needs_background": "light"
     },
     "output_type": "display_data"
    }
   ],
   "source": [
    "#Trực quan hoá dữ liệu\n",
    "train_errs_df = pd.DataFrame(data=np.array(train_errs3).reshape(len(num_top_cpus_s), -1),\n",
    "                             index=num_top_cpus_s)\n",
    "val_errs_df = pd.DataFrame(data=np.array(val_errs3).reshape(len(num_top_cpus_s), -1), \n",
    "                           index=num_top_cpus_s)\n",
    "min_err = min(min(train_errs3), min(val_errs3))\n",
    "max_err = max(max(train_errs3), max(val_errs3))\n",
    "plt.figure(figsize=(10, 5))\n",
    "\n",
    "\n",
    "\n",
    "plt.subplot(1, 2, 1)\n",
    "sns.heatmap(train_errs_df, vmin=min_err, vmax=max_err, square=True, annot=True, \n",
    "            cbar=False, fmt='.1f', cmap='Reds')\n",
    "plt.title('train errors'); plt.xlabel('num_top_titles'); plt.ylabel('alpha')\n",
    "plt.subplot(1, 2, 2)\n",
    "sns.heatmap(val_errs_df, vmin=min_err, vmax=max_err, square=True, annot=True, \n",
    "            cbar=False, fmt='.1f', cmap='Reds')\n",
    "plt.title('validation errors'); plt.xlabel('num_top_titles'); plt.ylabel('alpha');"
   ]
  },
  {
   "cell_type": "code",
   "execution_count": 37,
   "metadata": {},
   "outputs": [
    {
     "data": {
      "text/plain": [
       "Pipeline(steps=[('coladderdropper',\n",
       "                 ColAdderDropper(num_top_chipCPU=5, num_top_cpus=8)),\n",
       "                ('columntransformer',\n",
       "                 ColumnTransformer(transformers=[('nume_cols', SimpleImputer(),\n",
       "                                                  ['RAM', 'gen', 'SSD',\n",
       "                                                   'Screen', 'Weight', 'Pin']),\n",
       "                                                 ('unorder_cate_cols',\n",
       "                                                  Pipeline(steps=[('simpleimputer',\n",
       "                                                                   SimpleImputer(strategy='most_frequent')),\n",
       "                                                                  ('onehotencoder',\n",
       "                                                                   OneHotEncoder(handle_unknown='ignore'))]),\n",
       "                                                  ['GraphicChip', 'Brand',\n",
       "                                                   'Security', 'CPUs',\n",
       "                                                   'chipCPU'])])),\n",
       "                ('standardscaler', StandardScaler()),\n",
       "                ('tweedieregressor', TweedieRegressor(alpha=100, link='log'))])"
      ]
     },
     "execution_count": 37,
     "metadata": {},
     "output_type": "execute_result"
    }
   ],
   "source": [
    "\n",
    "full_pipeline2.set_params(coladderdropper__num_top_cpus = best_num_top_cpus2,coladderdropper__num_top_chipCPU = 5)"
   ]
  },
  {
   "cell_type": "code",
   "execution_count": null,
   "metadata": {},
   "outputs": [],
   "source": []
  }
 ],
 "metadata": {
  "kernelspec": {
   "display_name": "Python 3",
   "language": "python",
   "name": "python3"
  },
  "language_info": {
   "codemirror_mode": {
    "name": "ipython",
    "version": 3
   },
   "file_extension": ".py",
   "mimetype": "text/x-python",
   "name": "python",
   "nbconvert_exporter": "python",
   "pygments_lexer": "ipython3",
   "version": "3.8.3"
  }
 },
 "nbformat": 4,
 "nbformat_minor": 4
}
